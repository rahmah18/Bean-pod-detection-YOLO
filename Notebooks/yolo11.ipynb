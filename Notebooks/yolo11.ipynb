{
 "cells": [
  {
   "cell_type": "code",
   "execution_count": 3,
   "id": "55844840-adbd-404e-b25d-267ee3727537",
   "metadata": {},
   "outputs": [
    {
     "name": "stdout",
     "output_type": "stream",
     "text": [
      "Ultralytics 8.3.19  Python-3.12.4 torch-2.5.0+cpu CPU (Intel Core(TM) i7-8650U 1.90GHz)\n",
      "\u001b[34m\u001b[1mengine\\trainer: \u001b[0mtask=detect, mode=train, model=yolo11n.pt, data=C:/Users/Admin/Desktop/Model folder/yolo/data.yaml, epochs=20, time=None, patience=100, batch=32, imgsz=640, save=True, save_period=-1, cache=False, device=cpu, workers=8, project=C:/Users/Admin/Desktop/Model folder/yolo_nas, name=yolov11_model, exist_ok=False, pretrained=True, optimizer=auto, verbose=True, seed=0, deterministic=True, single_cls=False, rect=False, cos_lr=False, close_mosaic=10, resume=False, amp=True, fraction=1.0, profile=False, freeze=None, multi_scale=False, overlap_mask=True, mask_ratio=4, dropout=0.0, val=True, split=val, save_json=False, save_hybrid=False, conf=None, iou=0.7, max_det=300, half=False, dnn=False, plots=True, source=None, vid_stride=1, stream_buffer=False, visualize=False, augment=False, agnostic_nms=False, classes=None, retina_masks=False, embed=None, show=False, save_frames=False, save_txt=False, save_conf=False, save_crop=False, show_labels=True, show_conf=True, show_boxes=True, line_width=None, format=torchscript, keras=False, optimize=False, int8=False, dynamic=False, simplify=True, opset=None, workspace=4, nms=False, lr0=0.01, lrf=0.01, momentum=0.937, weight_decay=0.0005, warmup_epochs=3.0, warmup_momentum=0.8, warmup_bias_lr=0.1, box=7.5, cls=0.5, dfl=1.5, pose=12.0, kobj=1.0, label_smoothing=0.0, nbs=64, hsv_h=0.015, hsv_s=0.7, hsv_v=0.4, degrees=0.0, translate=0.1, scale=0.5, shear=0.0, perspective=0.0, flipud=0.0, fliplr=0.5, bgr=0.0, mosaic=1.0, mixup=0.0, copy_paste=0.0, copy_paste_mode=flip, auto_augment=randaugment, erasing=0.4, crop_fraction=1.0, cfg=None, tracker=botsort.yaml, save_dir=C:\\Users\\Admin\\Desktop\\Model folder\\yolo_nas\\yolov11_model\n",
      "Overriding model.yaml nc=80 with nc=1\n",
      "\n",
      "                   from  n    params  module                                       arguments                     \n",
      "  0                  -1  1       464  ultralytics.nn.modules.conv.Conv             [3, 16, 3, 2]                 \n",
      "  1                  -1  1      4672  ultralytics.nn.modules.conv.Conv             [16, 32, 3, 2]                \n",
      "  2                  -1  1      6640  ultralytics.nn.modules.block.C3k2            [32, 64, 1, False, 0.25]      \n",
      "  3                  -1  1     36992  ultralytics.nn.modules.conv.Conv             [64, 64, 3, 2]                \n",
      "  4                  -1  1     26080  ultralytics.nn.modules.block.C3k2            [64, 128, 1, False, 0.25]     \n",
      "  5                  -1  1    147712  ultralytics.nn.modules.conv.Conv             [128, 128, 3, 2]              \n",
      "  6                  -1  1     87040  ultralytics.nn.modules.block.C3k2            [128, 128, 1, True]           \n",
      "  7                  -1  1    295424  ultralytics.nn.modules.conv.Conv             [128, 256, 3, 2]              \n",
      "  8                  -1  1    346112  ultralytics.nn.modules.block.C3k2            [256, 256, 1, True]           \n",
      "  9                  -1  1    164608  ultralytics.nn.modules.block.SPPF            [256, 256, 5]                 \n",
      " 10                  -1  1    249728  ultralytics.nn.modules.block.C2PSA           [256, 256, 1]                 \n",
      " 11                  -1  1         0  torch.nn.modules.upsampling.Upsample         [None, 2, 'nearest']          \n",
      " 12             [-1, 6]  1         0  ultralytics.nn.modules.conv.Concat           [1]                           \n",
      " 13                  -1  1    111296  ultralytics.nn.modules.block.C3k2            [384, 128, 1, False]          \n",
      " 14                  -1  1         0  torch.nn.modules.upsampling.Upsample         [None, 2, 'nearest']          \n",
      " 15             [-1, 4]  1         0  ultralytics.nn.modules.conv.Concat           [1]                           \n",
      " 16                  -1  1     32096  ultralytics.nn.modules.block.C3k2            [256, 64, 1, False]           \n",
      " 17                  -1  1     36992  ultralytics.nn.modules.conv.Conv             [64, 64, 3, 2]                \n",
      " 18            [-1, 13]  1         0  ultralytics.nn.modules.conv.Concat           [1]                           \n",
      " 19                  -1  1     86720  ultralytics.nn.modules.block.C3k2            [192, 128, 1, False]          \n",
      " 20                  -1  1    147712  ultralytics.nn.modules.conv.Conv             [128, 128, 3, 2]              \n",
      " 21            [-1, 10]  1         0  ultralytics.nn.modules.conv.Concat           [1]                           \n",
      " 22                  -1  1    378880  ultralytics.nn.modules.block.C3k2            [384, 256, 1, True]           \n",
      " 23        [16, 19, 22]  1    430867  ultralytics.nn.modules.head.Detect           [1, [64, 128, 256]]           \n",
      "YOLO11n summary: 319 layers, 2,590,035 parameters, 2,590,019 gradients, 6.4 GFLOPs\n",
      "\n",
      "Transferred 448/499 items from pretrained weights\n",
      "\u001b[34m\u001b[1mTensorBoard: \u001b[0mStart with 'tensorboard --logdir C:\\Users\\Admin\\Desktop\\Model folder\\yolo_nas\\yolov11_model', view at http://localhost:6006/\n",
      "Freezing layer 'model.23.dfl.conv.weight'\n"
     ]
    },
    {
     "name": "stderr",
     "output_type": "stream",
     "text": [
      "\u001b[34m\u001b[1mtrain: \u001b[0mScanning C:\\Users\\Admin\\Desktop\\Model folder\\yolo\\labels\\train.cache... 292 images, 0 backgrounds, 0 corrupt: 100%|██████████| 292/292 [00:00<?, ?it/s]\n",
      "\u001b[34m\u001b[1mval: \u001b[0mScanning C:\\Users\\Admin\\Desktop\\Model folder\\yolo\\labels\\val.cache... 38 images, 0 backgrounds, 0 corrupt: 100%|██████████| 38/38 [00:00<?, ?it/s]"
     ]
    },
    {
     "name": "stdout",
     "output_type": "stream",
     "text": [
      "Plotting labels to C:\\Users\\Admin\\Desktop\\Model folder\\yolo_nas\\yolov11_model\\labels.jpg... \n"
     ]
    },
    {
     "name": "stderr",
     "output_type": "stream",
     "text": [
      "\n"
     ]
    },
    {
     "name": "stdout",
     "output_type": "stream",
     "text": [
      "\u001b[34m\u001b[1moptimizer:\u001b[0m 'optimizer=auto' found, ignoring 'lr0=0.01' and 'momentum=0.937' and determining best 'optimizer', 'lr0' and 'momentum' automatically... \n",
      "\u001b[34m\u001b[1moptimizer:\u001b[0m AdamW(lr=0.002, momentum=0.9) with parameter groups 81 weight(decay=0.0), 88 weight(decay=0.0005), 87 bias(decay=0.0)\n",
      "\u001b[34m\u001b[1mTensorBoard: \u001b[0mmodel graph visualization added \n",
      "Image sizes 640 train, 640 val\n",
      "Using 0 dataloader workers\n",
      "Logging results to \u001b[1mC:\\Users\\Admin\\Desktop\\Model folder\\yolo_nas\\yolov11_model\u001b[0m\n",
      "Starting training for 20 epochs...\n",
      "\n",
      "      Epoch    GPU_mem   box_loss   cls_loss   dfl_loss  Instances       Size\n"
     ]
    },
    {
     "name": "stderr",
     "output_type": "stream",
     "text": [
      "       1/20         0G      2.336      3.465      2.119         30        640: 100%|██████████| 10/10 [07:28<00:00, 44.85s/it]\n",
      "                 Class     Images  Instances      Box(P          R      mAP50  mAP50-95): 100%|██████████| 1/1 [00:45<00:00, 45.44s/it]"
     ]
    },
    {
     "name": "stdout",
     "output_type": "stream",
     "text": [
      "                   all         38         98    0.00781      0.908      0.201     0.0677\n"
     ]
    },
    {
     "name": "stderr",
     "output_type": "stream",
     "text": [
      "\n"
     ]
    },
    {
     "name": "stdout",
     "output_type": "stream",
     "text": [
      "\n",
      "      Epoch    GPU_mem   box_loss   cls_loss   dfl_loss  Instances       Size\n"
     ]
    },
    {
     "name": "stderr",
     "output_type": "stream",
     "text": [
      "       2/20         0G      2.037      2.845      1.717         23        640: 100%|██████████| 10/10 [03:41<00:00, 22.17s/it]\n",
      "                 Class     Images  Instances      Box(P          R      mAP50  mAP50-95): 100%|██████████| 1/1 [00:44<00:00, 44.52s/it]"
     ]
    },
    {
     "name": "stdout",
     "output_type": "stream",
     "text": [
      "                   all         38         98      0.113      0.755      0.202     0.0535\n"
     ]
    },
    {
     "name": "stderr",
     "output_type": "stream",
     "text": [
      "\n"
     ]
    },
    {
     "name": "stdout",
     "output_type": "stream",
     "text": [
      "\n",
      "      Epoch    GPU_mem   box_loss   cls_loss   dfl_loss  Instances       Size\n"
     ]
    },
    {
     "name": "stderr",
     "output_type": "stream",
     "text": [
      "       3/20         0G      1.986      2.462      1.664         10        640: 100%|██████████| 10/10 [03:33<00:00, 21.38s/it]\n",
      "                 Class     Images  Instances      Box(P          R      mAP50  mAP50-95): 100%|██████████| 1/1 [00:44<00:00, 44.24s/it]"
     ]
    },
    {
     "name": "stdout",
     "output_type": "stream",
     "text": [
      "                   all         38         98     0.0103      0.929      0.279     0.0882\n"
     ]
    },
    {
     "name": "stderr",
     "output_type": "stream",
     "text": [
      "\n"
     ]
    },
    {
     "name": "stdout",
     "output_type": "stream",
     "text": [
      "\n",
      "      Epoch    GPU_mem   box_loss   cls_loss   dfl_loss  Instances       Size\n"
     ]
    },
    {
     "name": "stderr",
     "output_type": "stream",
     "text": [
      "       4/20         0G      1.908      2.256      1.632          9        640: 100%|██████████| 10/10 [03:33<00:00, 21.34s/it]\n",
      "                 Class     Images  Instances      Box(P          R      mAP50  mAP50-95): 100%|██████████| 1/1 [00:45<00:00, 45.12s/it]"
     ]
    },
    {
     "name": "stdout",
     "output_type": "stream",
     "text": [
      "                   all         38         98      0.619     0.0336      0.207     0.0648\n"
     ]
    },
    {
     "name": "stderr",
     "output_type": "stream",
     "text": [
      "\n"
     ]
    },
    {
     "name": "stdout",
     "output_type": "stream",
     "text": [
      "\n",
      "      Epoch    GPU_mem   box_loss   cls_loss   dfl_loss  Instances       Size\n"
     ]
    },
    {
     "name": "stderr",
     "output_type": "stream",
     "text": [
      "       5/20         0G      1.942       2.31      1.683         14        640: 100%|██████████| 10/10 [03:50<00:00, 23.07s/it]\n",
      "                 Class     Images  Instances      Box(P          R      mAP50  mAP50-95): 100%|██████████| 1/1 [00:46<00:00, 46.04s/it]"
     ]
    },
    {
     "name": "stdout",
     "output_type": "stream",
     "text": [
      "                   all         38         98     0.0128      0.898      0.133     0.0428\n"
     ]
    },
    {
     "name": "stderr",
     "output_type": "stream",
     "text": [
      "\n"
     ]
    },
    {
     "name": "stdout",
     "output_type": "stream",
     "text": [
      "\n",
      "      Epoch    GPU_mem   box_loss   cls_loss   dfl_loss  Instances       Size\n"
     ]
    },
    {
     "name": "stderr",
     "output_type": "stream",
     "text": [
      "       6/20         0G      1.989      2.245      1.702         33        640: 100%|██████████| 10/10 [03:35<00:00, 21.51s/it]\n",
      "                 Class     Images  Instances      Box(P          R      mAP50  mAP50-95): 100%|██████████| 1/1 [00:44<00:00, 44.35s/it]"
     ]
    },
    {
     "name": "stdout",
     "output_type": "stream",
     "text": [
      "                   all         38         98      0.425      0.245      0.268     0.0757\n"
     ]
    },
    {
     "name": "stderr",
     "output_type": "stream",
     "text": [
      "\n"
     ]
    },
    {
     "name": "stdout",
     "output_type": "stream",
     "text": [
      "\n",
      "      Epoch    GPU_mem   box_loss   cls_loss   dfl_loss  Instances       Size\n"
     ]
    },
    {
     "name": "stderr",
     "output_type": "stream",
     "text": [
      "       7/20         0G      1.948      2.194      1.703         17        640: 100%|██████████| 10/10 [03:34<00:00, 21.46s/it]\n",
      "                 Class     Images  Instances      Box(P          R      mAP50  mAP50-95): 100%|██████████| 1/1 [00:44<00:00, 44.25s/it]"
     ]
    },
    {
     "name": "stdout",
     "output_type": "stream",
     "text": [
      "                   all         38         98      0.367      0.398      0.352      0.112\n"
     ]
    },
    {
     "name": "stderr",
     "output_type": "stream",
     "text": [
      "\n"
     ]
    },
    {
     "name": "stdout",
     "output_type": "stream",
     "text": [
      "\n",
      "      Epoch    GPU_mem   box_loss   cls_loss   dfl_loss  Instances       Size\n"
     ]
    },
    {
     "name": "stderr",
     "output_type": "stream",
     "text": [
      "       8/20         0G      1.917      2.156      1.663         15        640: 100%|██████████| 10/10 [03:41<00:00, 22.14s/it]\n",
      "                 Class     Images  Instances      Box(P          R      mAP50  mAP50-95): 100%|██████████| 1/1 [00:43<00:00, 43.92s/it]"
     ]
    },
    {
     "name": "stdout",
     "output_type": "stream",
     "text": [
      "                   all         38         98      0.405       0.49      0.351      0.138\n"
     ]
    },
    {
     "name": "stderr",
     "output_type": "stream",
     "text": [
      "\n"
     ]
    },
    {
     "name": "stdout",
     "output_type": "stream",
     "text": [
      "\n",
      "      Epoch    GPU_mem   box_loss   cls_loss   dfl_loss  Instances       Size\n"
     ]
    },
    {
     "name": "stderr",
     "output_type": "stream",
     "text": [
      "       9/20         0G      1.846      2.016      1.592         12        640: 100%|██████████| 10/10 [03:37<00:00, 21.77s/it]\n",
      "                 Class     Images  Instances      Box(P          R      mAP50  mAP50-95): 100%|██████████| 1/1 [00:44<00:00, 44.21s/it]"
     ]
    },
    {
     "name": "stdout",
     "output_type": "stream",
     "text": [
      "                   all         38         98      0.304      0.327      0.193      0.077\n"
     ]
    },
    {
     "name": "stderr",
     "output_type": "stream",
     "text": [
      "\n"
     ]
    },
    {
     "name": "stdout",
     "output_type": "stream",
     "text": [
      "\n",
      "      Epoch    GPU_mem   box_loss   cls_loss   dfl_loss  Instances       Size\n"
     ]
    },
    {
     "name": "stderr",
     "output_type": "stream",
     "text": [
      "      10/20         0G      1.895      2.196      1.635         10        640: 100%|██████████| 10/10 [03:42<00:00, 22.21s/it]\n",
      "                 Class     Images  Instances      Box(P          R      mAP50  mAP50-95): 100%|██████████| 1/1 [00:44<00:00, 44.14s/it]"
     ]
    },
    {
     "name": "stdout",
     "output_type": "stream",
     "text": [
      "                   all         38         98       0.42      0.363      0.354      0.113\n"
     ]
    },
    {
     "name": "stderr",
     "output_type": "stream",
     "text": [
      "\n"
     ]
    },
    {
     "name": "stdout",
     "output_type": "stream",
     "text": [
      "Closing dataloader mosaic\n",
      "\n",
      "      Epoch    GPU_mem   box_loss   cls_loss   dfl_loss  Instances       Size\n"
     ]
    },
    {
     "name": "stderr",
     "output_type": "stream",
     "text": [
      "      11/20         0G      1.937      2.337      1.712          7        640: 100%|██████████| 10/10 [03:41<00:00, 22.16s/it]\n",
      "                 Class     Images  Instances      Box(P          R      mAP50  mAP50-95): 100%|██████████| 1/1 [00:44<00:00, 44.47s/it]"
     ]
    },
    {
     "name": "stdout",
     "output_type": "stream",
     "text": [
      "                   all         38         98      0.403      0.378      0.316      0.104\n"
     ]
    },
    {
     "name": "stderr",
     "output_type": "stream",
     "text": [
      "\n"
     ]
    },
    {
     "name": "stdout",
     "output_type": "stream",
     "text": [
      "\n",
      "      Epoch    GPU_mem   box_loss   cls_loss   dfl_loss  Instances       Size\n"
     ]
    },
    {
     "name": "stderr",
     "output_type": "stream",
     "text": [
      "      12/20         0G      1.908       2.12      1.623         15        640: 100%|██████████| 10/10 [03:42<00:00, 22.21s/it]\n",
      "                 Class     Images  Instances      Box(P          R      mAP50  mAP50-95): 100%|██████████| 1/1 [00:44<00:00, 44.56s/it]"
     ]
    },
    {
     "name": "stdout",
     "output_type": "stream",
     "text": [
      "                   all         38         98      0.496      0.418      0.452      0.133\n"
     ]
    },
    {
     "name": "stderr",
     "output_type": "stream",
     "text": [
      "\n"
     ]
    },
    {
     "name": "stdout",
     "output_type": "stream",
     "text": [
      "\n",
      "      Epoch    GPU_mem   box_loss   cls_loss   dfl_loss  Instances       Size\n"
     ]
    },
    {
     "name": "stderr",
     "output_type": "stream",
     "text": [
      "      13/20         0G      1.911      2.134      1.644          6        640: 100%|██████████| 10/10 [03:39<00:00, 21.93s/it]\n",
      "                 Class     Images  Instances      Box(P          R      mAP50  mAP50-95): 100%|██████████| 1/1 [00:44<00:00, 44.18s/it]"
     ]
    },
    {
     "name": "stdout",
     "output_type": "stream",
     "text": [
      "                   all         38         98       0.38      0.537      0.381      0.145\n"
     ]
    },
    {
     "name": "stderr",
     "output_type": "stream",
     "text": [
      "\n"
     ]
    },
    {
     "name": "stdout",
     "output_type": "stream",
     "text": [
      "\n",
      "      Epoch    GPU_mem   box_loss   cls_loss   dfl_loss  Instances       Size\n"
     ]
    },
    {
     "name": "stderr",
     "output_type": "stream",
     "text": [
      "      14/20         0G      1.819      2.008      1.611         13        640: 100%|██████████| 10/10 [03:48<00:00, 22.87s/it]\n",
      "                 Class     Images  Instances      Box(P          R      mAP50  mAP50-95): 100%|██████████| 1/1 [00:44<00:00, 44.47s/it]"
     ]
    },
    {
     "name": "stdout",
     "output_type": "stream",
     "text": [
      "                   all         38         98      0.499       0.56      0.495      0.168\n"
     ]
    },
    {
     "name": "stderr",
     "output_type": "stream",
     "text": [
      "\n"
     ]
    },
    {
     "name": "stdout",
     "output_type": "stream",
     "text": [
      "\n",
      "      Epoch    GPU_mem   box_loss   cls_loss   dfl_loss  Instances       Size\n"
     ]
    },
    {
     "name": "stderr",
     "output_type": "stream",
     "text": [
      "      15/20         0G      1.821      1.884      1.601         10        640: 100%|██████████| 10/10 [03:29<00:00, 20.94s/it]\n",
      "                 Class     Images  Instances      Box(P          R      mAP50  mAP50-95): 100%|██████████| 1/1 [00:44<00:00, 44.00s/it]"
     ]
    },
    {
     "name": "stdout",
     "output_type": "stream",
     "text": [
      "                   all         38         98      0.515      0.592      0.517      0.187\n"
     ]
    },
    {
     "name": "stderr",
     "output_type": "stream",
     "text": [
      "\n"
     ]
    },
    {
     "name": "stdout",
     "output_type": "stream",
     "text": [
      "\n",
      "      Epoch    GPU_mem   box_loss   cls_loss   dfl_loss  Instances       Size\n"
     ]
    },
    {
     "name": "stderr",
     "output_type": "stream",
     "text": [
      "      16/20         0G      1.799      1.814      1.588         10        640: 100%|██████████| 10/10 [03:39<00:00, 21.97s/it]\n",
      "                 Class     Images  Instances      Box(P          R      mAP50  mAP50-95): 100%|██████████| 1/1 [00:46<00:00, 46.86s/it]"
     ]
    },
    {
     "name": "stdout",
     "output_type": "stream",
     "text": [
      "                   all         38         98      0.556      0.627      0.585      0.258\n"
     ]
    },
    {
     "name": "stderr",
     "output_type": "stream",
     "text": [
      "\n"
     ]
    },
    {
     "name": "stdout",
     "output_type": "stream",
     "text": [
      "\n",
      "      Epoch    GPU_mem   box_loss   cls_loss   dfl_loss  Instances       Size\n"
     ]
    },
    {
     "name": "stderr",
     "output_type": "stream",
     "text": [
      "      17/20         0G      1.756      1.762      1.542         12        640: 100%|██████████| 10/10 [03:45<00:00, 22.50s/it]\n",
      "                 Class     Images  Instances      Box(P          R      mAP50  mAP50-95): 100%|██████████| 1/1 [00:44<00:00, 44.15s/it]"
     ]
    },
    {
     "name": "stdout",
     "output_type": "stream",
     "text": [
      "                   all         38         98      0.491      0.622       0.56      0.236\n"
     ]
    },
    {
     "name": "stderr",
     "output_type": "stream",
     "text": [
      "\n"
     ]
    },
    {
     "name": "stdout",
     "output_type": "stream",
     "text": [
      "\n",
      "      Epoch    GPU_mem   box_loss   cls_loss   dfl_loss  Instances       Size\n"
     ]
    },
    {
     "name": "stderr",
     "output_type": "stream",
     "text": [
      "      18/20         0G      1.668      1.763      1.489         10        640: 100%|██████████| 10/10 [03:37<00:00, 21.70s/it]\n",
      "                 Class     Images  Instances      Box(P          R      mAP50  mAP50-95): 100%|██████████| 1/1 [00:44<00:00, 44.42s/it]"
     ]
    },
    {
     "name": "stdout",
     "output_type": "stream",
     "text": [
      "                   all         38         98      0.621      0.551       0.62      0.266\n"
     ]
    },
    {
     "name": "stderr",
     "output_type": "stream",
     "text": [
      "\n"
     ]
    },
    {
     "name": "stdout",
     "output_type": "stream",
     "text": [
      "\n",
      "      Epoch    GPU_mem   box_loss   cls_loss   dfl_loss  Instances       Size\n"
     ]
    },
    {
     "name": "stderr",
     "output_type": "stream",
     "text": [
      "      19/20         0G      1.677        1.7      1.478          7        640: 100%|██████████| 10/10 [03:32<00:00, 21.30s/it]\n",
      "                 Class     Images  Instances      Box(P          R      mAP50  mAP50-95): 100%|██████████| 1/1 [00:43<00:00, 43.45s/it]"
     ]
    },
    {
     "name": "stdout",
     "output_type": "stream",
     "text": [
      "                   all         38         98      0.674      0.571      0.666      0.298\n"
     ]
    },
    {
     "name": "stderr",
     "output_type": "stream",
     "text": [
      "\n"
     ]
    },
    {
     "name": "stdout",
     "output_type": "stream",
     "text": [
      "\n",
      "      Epoch    GPU_mem   box_loss   cls_loss   dfl_loss  Instances       Size\n"
     ]
    },
    {
     "name": "stderr",
     "output_type": "stream",
     "text": [
      "      20/20         0G      1.684      1.683      1.457          6        640: 100%|██████████| 10/10 [03:27<00:00, 20.72s/it]\n",
      "                 Class     Images  Instances      Box(P          R      mAP50  mAP50-95): 100%|██████████| 1/1 [00:44<00:00, 44.17s/it]"
     ]
    },
    {
     "name": "stdout",
     "output_type": "stream",
     "text": [
      "                   all         38         98      0.601      0.645      0.676      0.311\n"
     ]
    },
    {
     "name": "stderr",
     "output_type": "stream",
     "text": [
      "\n"
     ]
    },
    {
     "name": "stdout",
     "output_type": "stream",
     "text": [
      "\n",
      "20 epochs completed in 1.534 hours.\n",
      "Optimizer stripped from C:\\Users\\Admin\\Desktop\\Model folder\\yolo_nas\\yolov11_model\\weights\\last.pt, 5.5MB\n",
      "Optimizer stripped from C:\\Users\\Admin\\Desktop\\Model folder\\yolo_nas\\yolov11_model\\weights\\best.pt, 5.5MB\n",
      "\n",
      "Validating C:\\Users\\Admin\\Desktop\\Model folder\\yolo_nas\\yolov11_model\\weights\\best.pt...\n",
      "Ultralytics 8.3.19  Python-3.12.4 torch-2.5.0+cpu CPU (Intel Core(TM) i7-8650U 1.90GHz)\n",
      "YOLO11n summary (fused): 238 layers, 2,582,347 parameters, 0 gradients, 6.3 GFLOPs\n"
     ]
    },
    {
     "name": "stderr",
     "output_type": "stream",
     "text": [
      "                 Class     Images  Instances      Box(P          R      mAP50  mAP50-95): 100%|██████████| 1/1 [00:43<00:00, 43.58s/it]\n"
     ]
    },
    {
     "name": "stdout",
     "output_type": "stream",
     "text": [
      "                   all         38         98      0.601      0.645      0.675      0.311\n",
      "Speed: 2.6ms preprocess, 148.8ms inference, 0.0ms loss, 15.1ms postprocess per image\n",
      "Results saved to \u001b[1mC:\\Users\\Admin\\Desktop\\Model folder\\yolo_nas\\yolov11_model\u001b[0m\n"
     ]
    }
   ],
   "source": [
    "from ultralytics import YOLO\n",
    "\n",
    "# Load a model\n",
    "model = YOLO(\"yolo11n.pt\")\n",
    "model_path = \"C:/Users/Admin/Desktop/Model folder/yolo_nas\"\n",
    "# Train the model\n",
    "train_results = model.train(\n",
    "    data=\"C:/Users/Admin/Desktop/Model folder/yolo/data.yaml\",  # path to dataset YAML\n",
    "    epochs=20,  # number of training epochs\n",
    "    imgsz=640,  # training image size\n",
    "    batch=32,\n",
    "    project = model_path,\n",
    "    name= \"yolov11_model\",\n",
    "    device=\"cpu\",  # device to run on, i.e. device=0 or device=0,1,2,3 or device=cpu\n",
    ")"
   ]
  },
  {
   "cell_type": "code",
   "execution_count": 5,
   "id": "22c0caaa-9df0-4a27-ae88-df0441df82fb",
   "metadata": {},
   "outputs": [
    {
     "name": "stdout",
     "output_type": "stream",
     "text": [
      "\n",
      "image 1/36 C:\\Users\\Admin\\Desktop\\Model folder\\yolo\\images\\test\\IMG_20240817_124632.jpg: 640x480 3 mature_pods, 145.6ms\n",
      "image 2/36 C:\\Users\\Admin\\Desktop\\Model folder\\yolo\\images\\test\\IMG_20240817_124806.jpg: 640x480 1 mature_pod, 93.7ms\n",
      "image 3/36 C:\\Users\\Admin\\Desktop\\Model folder\\yolo\\images\\test\\IMG_20240817_124934.jpg: 640x480 2 mature_pods, 78.1ms\n",
      "image 4/36 C:\\Users\\Admin\\Desktop\\Model folder\\yolo\\images\\test\\IMG_20240817_124940.jpg: 640x480 4 mature_pods, 78.1ms\n",
      "image 5/36 C:\\Users\\Admin\\Desktop\\Model folder\\yolo\\images\\test\\IMG_20240817_124950.jpg: 640x480 6 mature_pods, 78.1ms\n",
      "image 6/36 C:\\Users\\Admin\\Desktop\\Model folder\\yolo\\images\\test\\IMG_20240817_125037.jpg: 480x640 7 mature_pods, 109.3ms\n",
      "image 7/36 C:\\Users\\Admin\\Desktop\\Model folder\\yolo\\images\\test\\IMG_20240817_125050.jpg: 640x480 5 mature_pods, 78.1ms\n",
      "image 8/36 C:\\Users\\Admin\\Desktop\\Model folder\\yolo\\images\\test\\IMG_20240817_125111.jpg: 640x480 2 mature_pods, 78.1ms\n",
      "image 9/36 C:\\Users\\Admin\\Desktop\\Model folder\\yolo\\images\\test\\IMG_20240817_125212.jpg: 640x480 4 mature_pods, 87.8ms\n",
      "image 10/36 C:\\Users\\Admin\\Desktop\\Model folder\\yolo\\images\\test\\IMG_20240817_125248.jpg: 640x480 2 mature_pods, 81.6ms\n",
      "image 11/36 C:\\Users\\Admin\\Desktop\\Model folder\\yolo\\images\\test\\IMG_20240817_125353.jpg: 640x480 3 mature_pods, 86.2ms\n",
      "image 12/36 C:\\Users\\Admin\\Desktop\\Model folder\\yolo\\images\\test\\IMG_20240817_125408.jpg: 480x640 2 mature_pods, 78.1ms\n",
      "image 13/36 C:\\Users\\Admin\\Desktop\\Model folder\\yolo\\images\\test\\IMG_20240817_125808.jpg: 640x480 2 mature_pods, 112.4ms\n",
      "image 14/36 C:\\Users\\Admin\\Desktop\\Model folder\\yolo\\images\\test\\IMG_20240817_130043.jpg: 640x480 7 mature_pods, 98.7ms\n",
      "image 15/36 C:\\Users\\Admin\\Desktop\\Model folder\\yolo\\images\\test\\IMG_20240817_130508.jpg: 640x480 4 mature_pods, 78.1ms\n",
      "image 16/36 C:\\Users\\Admin\\Desktop\\Model folder\\yolo\\images\\test\\IMG_20240817_130516.jpg: 640x480 5 mature_pods, 95.9ms\n",
      "image 17/36 C:\\Users\\Admin\\Desktop\\Model folder\\yolo\\images\\test\\IMG_20240817_130624.jpg: 640x480 3 mature_pods, 116.7ms\n",
      "image 18/36 C:\\Users\\Admin\\Desktop\\Model folder\\yolo\\images\\test\\IMG_20240817_130638.jpg: 640x480 1 mature_pod, 87.1ms\n",
      "image 19/36 C:\\Users\\Admin\\Desktop\\Model folder\\yolo\\images\\test\\IMG_20240817_130757.jpg: 640x480 3 mature_pods, 78.5ms\n",
      "image 20/36 C:\\Users\\Admin\\Desktop\\Model folder\\yolo\\images\\test\\IMG_20240819_110726.jpg: 640x480 4 mature_pods, 93.7ms\n",
      "image 21/36 C:\\Users\\Admin\\Desktop\\Model folder\\yolo\\images\\test\\IMG_20240819_110954.jpg: 480x640 5 mature_pods, 78.1ms\n",
      "image 22/36 C:\\Users\\Admin\\Desktop\\Model folder\\yolo\\images\\test\\IMG_20240819_111024.jpg: 480x640 4 mature_pods, 78.1ms\n",
      "image 23/36 C:\\Users\\Admin\\Desktop\\Model folder\\yolo\\images\\test\\IMG_20240819_111025.jpg: 480x640 2 mature_pods, 86.7ms\n",
      "image 24/36 C:\\Users\\Admin\\Desktop\\Model folder\\yolo\\images\\test\\IMG_20240819_111248.jpg: 640x480 3 mature_pods, 78.1ms\n",
      "image 25/36 C:\\Users\\Admin\\Desktop\\Model folder\\yolo\\images\\test\\IMG_20240819_111303.jpg: 640x480 2 mature_pods, 93.7ms\n",
      "image 26/36 C:\\Users\\Admin\\Desktop\\Model folder\\yolo\\images\\test\\IMG_20240819_111347.jpg: 640x480 3 mature_pods, 78.1ms\n",
      "image 27/36 C:\\Users\\Admin\\Desktop\\Model folder\\yolo\\images\\test\\IMG_20240819_111823.jpg: 480x640 2 mature_pods, 78.1ms\n",
      "image 28/36 C:\\Users\\Admin\\Desktop\\Model folder\\yolo\\images\\test\\IMG_20240825_140624.jpg: 640x640 2 mature_pods, 124.9ms\n",
      "image 29/36 C:\\Users\\Admin\\Desktop\\Model folder\\yolo\\images\\test\\IMG_20240825_141059.jpg: 480x640 1 mature_pod, 78.1ms\n",
      "image 30/36 C:\\Users\\Admin\\Desktop\\Model folder\\yolo\\images\\test\\IMG_20240912_090929.jpg: 480x640 3 mature_pods, 78.5ms\n",
      "image 31/36 C:\\Users\\Admin\\Desktop\\Model folder\\yolo\\images\\test\\IMG_20240912_091021.jpg: 640x448 1 mature_pod, 192.3ms\n",
      "image 32/36 C:\\Users\\Admin\\Desktop\\Model folder\\yolo\\images\\test\\IMG_20240912_091231.jpg: 640x608 2 mature_pods, 171.8ms\n",
      "image 33/36 C:\\Users\\Admin\\Desktop\\Model folder\\yolo\\images\\test\\IMG_20240912_091408.jpg: 576x640 2 mature_pods, 156.2ms\n",
      "image 34/36 C:\\Users\\Admin\\Desktop\\Model folder\\yolo\\images\\test\\IMG_20240912_091522.jpg: 640x576 3 mature_pods, 140.6ms\n",
      "image 35/36 C:\\Users\\Admin\\Desktop\\Model folder\\yolo\\images\\test\\IMG_20240912_092352.jpg: 544x640 3 mature_pods, 140.5ms\n",
      "image 36/36 C:\\Users\\Admin\\Desktop\\Model folder\\yolo\\images\\test\\IMG_20240912_092451.jpg: 640x512 2 mature_pods, 140.6ms\n",
      "Speed: 7.7ms preprocess, 100.8ms inference, 0.5ms postprocess per image at shape (1, 3, 640, 512)\n",
      "Results saved to \u001b[1mruns\\detect\\predict8\u001b[0m\n"
     ]
    }
   ],
   "source": [
    "import os\n",
    "\n",
    "# Load the YOLO model\n",
    "model = YOLO(\"C:/Users/Admin/Desktop/Model folder/yolo_nas/yolov11_model/weights/best.pt\")\n",
    "\n",
    "# Define the directory where you want to save the results\n",
    "test_dir = \"C:/Users/Admin/Desktop/Model folder/yolo_nas/yolov11_model/test_results\"\n",
    "\n",
    "# Ensure the folder exists\n",
    "os.makedirs(test_dir, exist_ok=True)\n",
    "\n",
    "# Perform inference on your test dataset and save the results to the specified folder\n",
    "results = model.predict(source=\"C:/Users/Admin/Desktop/Model folder/yolo/images/test\", save=True, save_dir=test_dir)\n"
   ]
  },
  {
   "cell_type": "code",
   "execution_count": null,
   "id": "b6ddd673-22b8-481f-b312-5ddd11a72eee",
   "metadata": {},
   "outputs": [],
   "source": []
  }
 ],
 "metadata": {
  "kernelspec": {
   "display_name": "Python 3 (ipykernel)",
   "language": "python",
   "name": "python3"
  },
  "language_info": {
   "codemirror_mode": {
    "name": "ipython",
    "version": 3
   },
   "file_extension": ".py",
   "mimetype": "text/x-python",
   "name": "python",
   "nbconvert_exporter": "python",
   "pygments_lexer": "ipython3",
   "version": "3.12.4"
  }
 },
 "nbformat": 4,
 "nbformat_minor": 5
}
