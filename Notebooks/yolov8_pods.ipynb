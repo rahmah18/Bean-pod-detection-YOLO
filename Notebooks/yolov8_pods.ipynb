{
 "cells": [
  {
   "cell_type": "code",
   "execution_count": 1,
   "metadata": {},
   "outputs": [],
   "source": [
    "import torch\n",
    "import torchvision\n",
    "from torchvision import transforms as T\n",
    "from torch.utils.data import DataLoader\n",
    "from torchvision.datasets import ImageFolder\n",
    "from PIL import Image\n",
    "import numpy as np\n",
    "import matplotlib.pyplot as plt\n",
    "import os\n",
    "import cv2\n",
    "\n",
    "from ultralytics import YOLO"
   ]
  },
  {
   "cell_type": "code",
   "execution_count": 4,
   "metadata": {},
   "outputs": [
    {
     "name": "stdout",
     "output_type": "stream",
     "text": [
      "All images have corresponding labels, and vice versa.\n"
     ]
    }
   ],
   "source": [
    "image_folder = 'C:/Users/Admin/Desktop/Model folder/Pod Recognition/dataset comp 1'  # Replace with your images folder path\n",
    "label_folder = 'C:/Users/Admin/Desktop/Model folder/Pod Recognition/labels/train'  # Replace with your labels folder path\n",
    "\n",
    "# List all image files (assuming image extensions are .jpg, .png, etc.)\n",
    "image_files = [f for f in os.listdir(image_folder) if f.endswith(('.jpg', '.jpeg', '.png'))]\n",
    "\n",
    "# List all label files (assuming labels are in .txt format)\n",
    "label_files = [f for f in os.listdir(label_folder) if f.endswith('.txt')]\n",
    "\n",
    "# Remove file extensions from both lists to compare them\n",
    "image_names = [os.path.splitext(f)[0] for f in image_files]\n",
    "label_names = [os.path.splitext(f)[0] for f in label_files]\n",
    "\n",
    "# Check for images without labels\n",
    "images_without_labels = [img for img in image_names if img not in label_names]\n",
    "\n",
    "# Check for labels without corresponding images\n",
    "labels_without_images = [lbl for lbl in label_names if lbl not in image_names]\n",
    "\n",
    "# Output the results\n",
    "if len(images_without_labels) == 0 and len(labels_without_images) == 0:\n",
    "    print(\"All images have corresponding labels, and vice versa.\")\n",
    "else:\n",
    "    if len(images_without_labels) > 0:\n",
    "        print(f\"Images without labels: {images_without_labels}\")\n",
    "    if len(labels_without_images) > 0:\n",
    "        print(f\"Labels without corresponding images: {labels_without_images}\")"
   ]
  },
  {
   "cell_type": "code",
   "execution_count": 3,
   "metadata": {},
   "outputs": [
    {
     "name": "stdout",
     "output_type": "stream",
     "text": [
      "Deleted: C:/Users/Admin/Desktop/Model folder/Pod Recognition/dataset comp 1\\IMG_20240804_120853.jpg\n",
      "Deleted: C:/Users/Admin/Desktop/Model folder/Pod Recognition/dataset comp 1\\IMG_20240804_120956.jpg\n",
      "Deleted: C:/Users/Admin/Desktop/Model folder/Pod Recognition/dataset comp 1\\IMG_20240804_121012.jpg\n",
      "Deleted: C:/Users/Admin/Desktop/Model folder/Pod Recognition/dataset comp 1\\IMG_20240804_121302.jpg\n",
      "Deleted: C:/Users/Admin/Desktop/Model folder/Pod Recognition/dataset comp 1\\IMG_20240804_121341.jpg\n",
      "Deleted: C:/Users/Admin/Desktop/Model folder/Pod Recognition/dataset comp 1\\IMG_20240804_121530.jpg\n",
      "Deleted: C:/Users/Admin/Desktop/Model folder/Pod Recognition/dataset comp 1\\IMG_20240804_121548.jpg\n",
      "Deleted: C:/Users/Admin/Desktop/Model folder/Pod Recognition/dataset comp 1\\IMG_20240804_121736.jpg\n",
      "Deleted: C:/Users/Admin/Desktop/Model folder/Pod Recognition/dataset comp 1\\IMG_20240804_121749.jpg\n",
      "Deleted: C:/Users/Admin/Desktop/Model folder/Pod Recognition/dataset comp 1\\IMG_20240804_121910.jpg\n",
      "Deleted: C:/Users/Admin/Desktop/Model folder/Pod Recognition/dataset comp 1\\IMG_20240804_121914.jpg\n",
      "Deleted: C:/Users/Admin/Desktop/Model folder/Pod Recognition/dataset comp 1\\IMG_20240804_123537.jpg\n",
      "Deleted: C:/Users/Admin/Desktop/Model folder/Pod Recognition/dataset comp 1\\IMG_20240804_123638.jpg\n",
      "Deleted: C:/Users/Admin/Desktop/Model folder/Pod Recognition/dataset comp 1\\IMG_20240804_123829.jpg\n",
      "Deleted: C:/Users/Admin/Desktop/Model folder/Pod Recognition/dataset comp 1\\IMG_20240804_123836.jpg\n",
      "Deleted: C:/Users/Admin/Desktop/Model folder/Pod Recognition/dataset comp 1\\IMG_20240804_123839.jpg\n",
      "Deleted: C:/Users/Admin/Desktop/Model folder/Pod Recognition/dataset comp 1\\IMG_20240804_123908.jpg\n",
      "Deleted: C:/Users/Admin/Desktop/Model folder/Pod Recognition/dataset comp 1\\IMG_20240804_124030.jpg\n",
      "Deleted: C:/Users/Admin/Desktop/Model folder/Pod Recognition/dataset comp 1\\IMG_20240804_124136.jpg\n",
      "Deleted: C:/Users/Admin/Desktop/Model folder/Pod Recognition/dataset comp 1\\IMG_20240804_124516.jpg\n",
      "Deleted: C:/Users/Admin/Desktop/Model folder/Pod Recognition/dataset comp 1\\IMG_20240804_124556.jpg\n",
      "Deleted: C:/Users/Admin/Desktop/Model folder/Pod Recognition/dataset comp 1\\IMG_20240804_124605.jpg\n",
      "Deleted: C:/Users/Admin/Desktop/Model folder/Pod Recognition/dataset comp 1\\IMG_20240804_124822.jpg\n",
      "Deleted: C:/Users/Admin/Desktop/Model folder/Pod Recognition/dataset comp 1\\IMG_20240804_124826.jpg\n",
      "Deleted: C:/Users/Admin/Desktop/Model folder/Pod Recognition/dataset comp 1\\IMG_20240804_124935.jpg\n",
      "Deleted: C:/Users/Admin/Desktop/Model folder/Pod Recognition/dataset comp 1\\IMG_20240804_124940.jpg\n",
      "Deleted: C:/Users/Admin/Desktop/Model folder/Pod Recognition/dataset comp 1\\IMG_20240804_124943.jpg\n",
      "Deleted: C:/Users/Admin/Desktop/Model folder/Pod Recognition/dataset comp 1\\IMG_20240804_125029.jpg\n",
      "Deleted: C:/Users/Admin/Desktop/Model folder/Pod Recognition/dataset comp 1\\IMG_20240804_125046.jpg\n",
      "Deleted: C:/Users/Admin/Desktop/Model folder/Pod Recognition/dataset comp 1\\IMG_20240804_125050.jpg\n",
      "Deleted: C:/Users/Admin/Desktop/Model folder/Pod Recognition/dataset comp 1\\IMG_20240804_125321.jpg\n",
      "Deleted: C:/Users/Admin/Desktop/Model folder/Pod Recognition/dataset comp 1\\IMG_20240804_125653.jpg\n",
      "Deleted: C:/Users/Admin/Desktop/Model folder/Pod Recognition/dataset comp 1\\IMG_20240804_130050.jpg\n",
      "Deleted: C:/Users/Admin/Desktop/Model folder/Pod Recognition/dataset comp 1\\IMG_20240804_130114.jpg\n",
      "Deleted: C:/Users/Admin/Desktop/Model folder/Pod Recognition/dataset comp 1\\IMG_20240804_130125.jpg\n",
      "Deleted: C:/Users/Admin/Desktop/Model folder/Pod Recognition/dataset comp 1\\IMG_20240804_130148.jpg\n",
      "Deleted: C:/Users/Admin/Desktop/Model folder/Pod Recognition/dataset comp 1\\IMG_20240804_130540.jpg\n",
      "Deleted: C:/Users/Admin/Desktop/Model folder/Pod Recognition/dataset comp 1\\IMG_20240804_130601.jpg\n",
      "Deleted: C:/Users/Admin/Desktop/Model folder/Pod Recognition/dataset comp 1\\IMG_20240804_130605.jpg\n",
      "Deleted: C:/Users/Admin/Desktop/Model folder/Pod Recognition/dataset comp 1\\IMG_20240804_170057.jpg\n",
      "Deleted: C:/Users/Admin/Desktop/Model folder/Pod Recognition/dataset comp 1\\IMG_20240804_170343.jpg\n",
      "Deleted: C:/Users/Admin/Desktop/Model folder/Pod Recognition/dataset comp 1\\IMG_20240804_171311.jpg\n",
      "Deleted: C:/Users/Admin/Desktop/Model folder/Pod Recognition/dataset comp 1\\IMG_20240804_171612.jpg\n",
      "Deleted: C:/Users/Admin/Desktop/Model folder/Pod Recognition/dataset comp 1\\IMG_20240804_171616.jpg\n",
      "Deleted: C:/Users/Admin/Desktop/Model folder/Pod Recognition/dataset comp 1\\IMG_20240804_171707.jpg\n",
      "Deleted: C:/Users/Admin/Desktop/Model folder/Pod Recognition/dataset comp 1\\IMG_20240804_172417.jpg\n",
      "Deleted: C:/Users/Admin/Desktop/Model folder/Pod Recognition/dataset comp 1\\IMG_20240804_174113.jpg\n",
      "Deleted: C:/Users/Admin/Desktop/Model folder/Pod Recognition/dataset comp 1\\IMG_20240804_174510.jpg\n",
      "Deleted: C:/Users/Admin/Desktop/Model folder/Pod Recognition/dataset comp 1\\IMG_20240804_174537.jpg\n",
      "Deleted: C:/Users/Admin/Desktop/Model folder/Pod Recognition/dataset comp 1\\IMG_20240804_174942.jpg\n",
      "Deleted: C:/Users/Admin/Desktop/Model folder/Pod Recognition/dataset comp 1\\IMG_20240804_175453.jpg\n",
      "Deleted: C:/Users/Admin/Desktop/Model folder/Pod Recognition/dataset comp 1\\IMG_20240804_180616.jpg\n",
      "Deleted: C:/Users/Admin/Desktop/Model folder/Pod Recognition/dataset comp 1\\IMG_20240804_181020.jpg\n",
      "Deleted: C:/Users/Admin/Desktop/Model folder/Pod Recognition/dataset comp 1\\IMG_20240804_181607.jpg\n",
      "Deleted: C:/Users/Admin/Desktop/Model folder/Pod Recognition/dataset comp 1\\IMG_20240804_181945.jpg\n",
      "Deleted: C:/Users/Admin/Desktop/Model folder/Pod Recognition/dataset comp 1\\IMG_20240804_181946.jpg\n",
      "Deleted: C:/Users/Admin/Desktop/Model folder/Pod Recognition/dataset comp 1\\IMG_20240804_182409.jpg\n",
      "Deleted: C:/Users/Admin/Desktop/Model folder/Pod Recognition/dataset comp 1\\IMG_20240804_183501.jpg\n",
      "Deleted: C:/Users/Admin/Desktop/Model folder/Pod Recognition/dataset comp 1\\IMG_20240804_184055.jpg\n",
      "Deleted: C:/Users/Admin/Desktop/Model folder/Pod Recognition/dataset comp 1\\IMG_20240912_023353.jpg\n",
      "Deleted: C:/Users/Admin/Desktop/Model folder/Pod Recognition/dataset comp 1\\IMG_20240912_024306.jpg\n",
      "Deleted: C:/Users/Admin/Desktop/Model folder/Pod Recognition/dataset comp 1\\IMG_20240912_024609.jpg\n",
      "Deleted: C:/Users/Admin/Desktop/Model folder/Pod Recognition/dataset comp 1\\IMG_20240912_025037.jpg\n",
      "Deleted: C:/Users/Admin/Desktop/Model folder/Pod Recognition/dataset comp 1\\IMG_20240912_025330.jpg\n",
      "Deleted: C:/Users/Admin/Desktop/Model folder/Pod Recognition/dataset comp 1\\IMG_20240912_025659.jpg\n",
      "Deleted: C:/Users/Admin/Desktop/Model folder/Pod Recognition/dataset comp 1\\IMG_20240912_025900.jpg\n",
      "Deleted: C:/Users/Admin/Desktop/Model folder/Pod Recognition/dataset comp 1\\IMG_20240912_030151.jpg\n",
      "Deleted: C:/Users/Admin/Desktop/Model folder/Pod Recognition/dataset comp 1\\IMG_20240912_031542.jpg\n",
      "Deleted: C:/Users/Admin/Desktop/Model folder/Pod Recognition/dataset comp 1\\IMG_20240912_031717.jpg\n",
      "Deleted: C:/Users/Admin/Desktop/Model folder/Pod Recognition/dataset comp 1\\IMG_20240912_031945.jpg\n",
      "Deleted: C:/Users/Admin/Desktop/Model folder/Pod Recognition/dataset comp 1\\IMG_20240912_085820.jpg\n",
      "Deleted: C:/Users/Admin/Desktop/Model folder/Pod Recognition/dataset comp 1\\IMG_20240912_085939.jpg\n",
      "Deleted: C:/Users/Admin/Desktop/Model folder/Pod Recognition/dataset comp 1\\IMG_20240912_090026.jpg\n",
      "Deleted: C:/Users/Admin/Desktop/Model folder/Pod Recognition/dataset comp 1\\IMG_20240912_090055.jpg\n",
      "Deleted: C:/Users/Admin/Desktop/Model folder/Pod Recognition/dataset comp 1\\IMG_20240912_090113.jpg\n",
      "Deleted: C:/Users/Admin/Desktop/Model folder/Pod Recognition/dataset comp 1\\IMG_20240912_090224.jpg\n",
      "Deleted 76 images without labels.\n"
     ]
    }
   ],
   "source": [
    "\n",
    "image_folder = 'C:/Users/Admin/Desktop/Model folder/Pod Recognition/dataset comp 1'  # Replace with your images folder path\n",
    "label_folder = 'C:/Users/Admin/Desktop/Model folder/Pod Recognition/labels/train'\n",
    "# List all image files (assuming image extensions are .jpg, .png, etc.)\n",
    "image_files = [f for f in os.listdir(image_folder) if f.endswith(('.jpg', '.jpeg', '.png'))]\n",
    "\n",
    "# List all label files (assuming labels are in .txt format)\n",
    "label_files = [f for f in os.listdir(label_folder) if f.endswith('.txt')]\n",
    "\n",
    "# Remove file extensions from both lists to compare them\n",
    "image_names = [os.path.splitext(f)[0] for f in image_files]\n",
    "label_names = [os.path.splitext(f)[0] for f in label_files]\n",
    "\n",
    "# Find images without corresponding labels\n",
    "images_without_labels = [img for img in image_names if img not in label_names]\n",
    "\n",
    "# Delete images without labels\n",
    "for img in images_without_labels:\n",
    "    img_file = img + '.jpg'  # Adjust extension if needed\n",
    "    img_path = os.path.join(image_folder, img_file)\n",
    "    if os.path.exists(img_path):\n",
    "        os.remove(img_path)\n",
    "        print(f\"Deleted: {img_path}\")\n",
    "\n",
    "print(f\"Deleted {len(images_without_labels)} images without labels.\")"
   ]
  },
  {
   "cell_type": "code",
   "execution_count": 5,
   "metadata": {},
   "outputs": [
    {
     "name": "stdout",
     "output_type": "stream",
     "text": [
      "Dataset successfully structured for YOLOv8 with 80% training, 10% validation, and 10% test splits!\n"
     ]
    }
   ],
   "source": [
    "import os\n",
    "import shutil\n",
    "from sklearn.model_selection import train_test_split\n",
    "\n",
    "# Define paths to your dataset\n",
    "image_folder = 'C:/Users/Admin/Desktop/Model folder/Pod Recognition/dataset comp 1'  # Replace with your images folder path\n",
    "label_folder = 'C:/Users/Admin/Desktop/Model folder/Pod Recognition/labels/train'  # Path to images\n",
    "\n",
    "# Create the structure for YOLOv8\n",
    "base_dir = 'C:/Users/Admin/Desktop/Model folder/yolo_pod'  # Change this path if necessary\n",
    "os.makedirs(f'{base_dir}/images/train', exist_ok=True)\n",
    "os.makedirs(f'{base_dir}/images/val', exist_ok=True)\n",
    "os.makedirs(f'{base_dir}/images/test', exist_ok=True)\n",
    "os.makedirs(f'{base_dir}/labels/train', exist_ok=True)\n",
    "os.makedirs(f'{base_dir}/labels/val', exist_ok=True)\n",
    "os.makedirs(f'{base_dir}/labels/test', exist_ok=True)\n",
    "\n",
    "# Get list of image files and corresponding label files\n",
    "image_files = [f for f in os.listdir(image_folder) if f.endswith(('.jpg', '.jpeg', '.png'))]\n",
    "label_files = [f.replace('.jpg', '.txt').replace('.png', '.txt') for f in image_files]\n",
    "\n",
    "# Split dataset into train (80%) and remaining (20%)\n",
    "train_images, remaining_images = train_test_split(image_files, test_size=0.2, random_state=42)\n",
    "\n",
    "# Split the remaining dataset into validation (50% of the remaining 20%) and test (50% of the remaining 20%)\n",
    "val_images, test_images = train_test_split(remaining_images, test_size=0.5, random_state=42)\n",
    "\n",
    "# Move training images and labels\n",
    "for img_file in train_images:\n",
    "    label_file = img_file.replace('.jpg', '.txt').replace('.png', '.txt')\n",
    "    # Move image\n",
    "    shutil.copy(os.path.join(image_folder, img_file), os.path.join(base_dir, 'images/train', img_file))\n",
    "    # Move label\n",
    "    if os.path.exists(os.path.join(label_folder, label_file)):\n",
    "        shutil.copy(os.path.join(label_folder, label_file), os.path.join(base_dir, 'labels/train', label_file))\n",
    "\n",
    "# Move validation images and labels\n",
    "for img_file in val_images:\n",
    "    label_file = img_file.replace('.jpg', '.txt').replace('.png', '.txt')\n",
    "    # Move image\n",
    "    shutil.copy(os.path.join(image_folder, img_file), os.path.join(base_dir, 'images/val', img_file))\n",
    "    # Move label\n",
    "    if os.path.exists(os.path.join(label_folder, label_file)):\n",
    "        shutil.copy(os.path.join(label_folder, label_file), os.path.join(base_dir, 'labels/val', label_file))\n",
    "\n",
    "# Move test images and labels\n",
    "for img_file in test_images:\n",
    "    label_file = img_file.replace('.jpg', '.txt').replace('.png', '.txt')\n",
    "    # Move image\n",
    "    shutil.copy(os.path.join(image_folder, img_file), os.path.join(base_dir, 'images/test', img_file))\n",
    "    # Move label\n",
    "    if os.path.exists(os.path.join(label_folder, label_file)):\n",
    "        shutil.copy(os.path.join(label_folder, label_file), os.path.join(base_dir, 'labels/test', label_file))\n",
    "\n",
    "print('Dataset successfully structured for YOLOv8 with 80% training, 10% validation, and 10% test splits!')"
   ]
  },
  {
   "cell_type": "code",
   "execution_count": 6,
   "metadata": {},
   "outputs": [],
   "source": [
    "model_save_path = \"C:/Users/Admin/Desktop/Model folder/yolo_models\""
   ]
  },
  {
   "cell_type": "code",
   "execution_count": 7,
   "metadata": {},
   "outputs": [
    {
     "name": "stdout",
     "output_type": "stream",
     "text": [
      "Ultralytics YOLOv8.2.98  Python-3.8.5 torch-2.4.1+cpu CPU (Intel Core(TM) i7-8650U 1.90GHz)\n",
      "\u001b[34m\u001b[1mengine\\trainer: \u001b[0mtask=detect, mode=train, model=yolov8n.pt, data=C:/Users/Admin/Desktop/Model folder/yolo_pod/data.yaml, epochs=10, time=None, patience=100, batch=32, imgsz=640, save=True, save_period=-1, cache=False, device=None, workers=8, project=C:/Users/Admin/Desktop/Model folder/yolo_models, name=yolov8_pod_model, exist_ok=False, pretrained=True, optimizer=auto, verbose=True, seed=0, deterministic=True, single_cls=False, rect=False, cos_lr=False, close_mosaic=10, resume=False, amp=True, fraction=1.0, profile=False, freeze=None, multi_scale=False, overlap_mask=True, mask_ratio=4, dropout=0.0, val=True, split=val, save_json=False, save_hybrid=False, conf=None, iou=0.7, max_det=300, half=False, dnn=False, plots=True, source=None, vid_stride=1, stream_buffer=False, visualize=False, augment=False, agnostic_nms=False, classes=None, retina_masks=False, embed=None, show=False, save_frames=False, save_txt=False, save_conf=False, save_crop=False, show_labels=True, show_conf=True, show_boxes=True, line_width=None, format=torchscript, keras=False, optimize=False, int8=False, dynamic=False, simplify=False, opset=None, workspace=4, nms=False, lr0=0.01, lrf=0.01, momentum=0.937, weight_decay=0.0005, warmup_epochs=3.0, warmup_momentum=0.8, warmup_bias_lr=0.1, box=7.5, cls=0.5, dfl=1.5, pose=12.0, kobj=1.0, label_smoothing=0.0, nbs=64, hsv_h=0.015, hsv_s=0.7, hsv_v=0.4, degrees=0.0, translate=0.1, scale=0.5, shear=0.0, perspective=0.0, flipud=0.0, fliplr=0.5, bgr=0.0, mosaic=1.0, mixup=0.0, copy_paste=0.0, auto_augment=randaugment, erasing=0.4, crop_fraction=1.0, cfg=None, tracker=botsort.yaml, save_dir=C:\\Users\\Admin\\Desktop\\Model folder\\yolo_models\\yolov8_pod_model\n",
      "Overriding model.yaml nc=80 with nc=1\n",
      "\n",
      "                   from  n    params  module                                       arguments                     \n",
      "  0                  -1  1       464  ultralytics.nn.modules.conv.Conv             [3, 16, 3, 2]                 \n",
      "  1                  -1  1      4672  ultralytics.nn.modules.conv.Conv             [16, 32, 3, 2]                \n",
      "  2                  -1  1      7360  ultralytics.nn.modules.block.C2f             [32, 32, 1, True]             \n",
      "  3                  -1  1     18560  ultralytics.nn.modules.conv.Conv             [32, 64, 3, 2]                \n",
      "  4                  -1  2     49664  ultralytics.nn.modules.block.C2f             [64, 64, 2, True]             \n",
      "  5                  -1  1     73984  ultralytics.nn.modules.conv.Conv             [64, 128, 3, 2]               \n",
      "  6                  -1  2    197632  ultralytics.nn.modules.block.C2f             [128, 128, 2, True]           \n",
      "  7                  -1  1    295424  ultralytics.nn.modules.conv.Conv             [128, 256, 3, 2]              \n",
      "  8                  -1  1    460288  ultralytics.nn.modules.block.C2f             [256, 256, 1, True]           \n",
      "  9                  -1  1    164608  ultralytics.nn.modules.block.SPPF            [256, 256, 5]                 \n",
      " 10                  -1  1         0  torch.nn.modules.upsampling.Upsample         [None, 2, 'nearest']          \n",
      " 11             [-1, 6]  1         0  ultralytics.nn.modules.conv.Concat           [1]                           \n",
      " 12                  -1  1    148224  ultralytics.nn.modules.block.C2f             [384, 128, 1]                 \n",
      " 13                  -1  1         0  torch.nn.modules.upsampling.Upsample         [None, 2, 'nearest']          \n",
      " 14             [-1, 4]  1         0  ultralytics.nn.modules.conv.Concat           [1]                           \n",
      " 15                  -1  1     37248  ultralytics.nn.modules.block.C2f             [192, 64, 1]                  \n",
      " 16                  -1  1     36992  ultralytics.nn.modules.conv.Conv             [64, 64, 3, 2]                \n",
      " 17            [-1, 12]  1         0  ultralytics.nn.modules.conv.Concat           [1]                           \n",
      " 18                  -1  1    123648  ultralytics.nn.modules.block.C2f             [192, 128, 1]                 \n",
      " 19                  -1  1    147712  ultralytics.nn.modules.conv.Conv             [128, 128, 3, 2]              \n",
      " 20             [-1, 9]  1         0  ultralytics.nn.modules.conv.Concat           [1]                           \n",
      " 21                  -1  1    493056  ultralytics.nn.modules.block.C2f             [384, 256, 1]                 \n",
      " 22        [15, 18, 21]  1    751507  ultralytics.nn.modules.head.Detect           [1, [64, 128, 256]]           \n",
      "Model summary: 225 layers, 3,011,043 parameters, 3,011,027 gradients, 8.2 GFLOPs\n",
      "\n",
      "Transferred 319/355 items from pretrained weights\n",
      "Freezing layer 'model.22.dfl.conv.weight'\n"
     ]
    },
    {
     "name": "stderr",
     "output_type": "stream",
     "text": [
      "\u001b[34m\u001b[1mtrain: \u001b[0mScanning C:\\Users\\Admin\\Desktop\\Model folder\\yolo_pod\\labels\\train...:   0%|          | 0/500 [00:00<?, ?it/s]C:\\Users\\Admin\\anaconda3\\lib\\site-packages\\PIL\\Image.py:2834: DecompressionBombWarning: Image size (108000000 pixels) exceeds limit of 89478485 pixels, could be decompression bomb DOS attack.\n",
      "  warnings.warn(\n",
      "\u001b[34m\u001b[1mtrain: \u001b[0mScanning C:\\Users\\Admin\\Desktop\\Model folder\\yolo_pod\\labels\\train... 500 images, 0 backgrounds, 0 corrupt: 100%|██████████| 500/500 [00:00<00:00, 1393.80it/s]\n"
     ]
    },
    {
     "name": "stdout",
     "output_type": "stream",
     "text": [
      "\u001b[34m\u001b[1mtrain: \u001b[0mNew cache created: C:\\Users\\Admin\\Desktop\\Model folder\\yolo_pod\\labels\\train.cache\n"
     ]
    },
    {
     "name": "stderr",
     "output_type": "stream",
     "text": [
      "\u001b[34m\u001b[1mval: \u001b[0mScanning C:\\Users\\Admin\\Desktop\\Model folder\\yolo_pod\\labels\\val... 62 images, 0 backgrounds, 0 corrupt: 100%|██████████| 62/62 [00:00<00:00, 1426.85it/s]"
     ]
    },
    {
     "name": "stdout",
     "output_type": "stream",
     "text": [
      "\u001b[34m\u001b[1mval: \u001b[0mNew cache created: C:\\Users\\Admin\\Desktop\\Model folder\\yolo_pod\\labels\\val.cache\n"
     ]
    },
    {
     "name": "stderr",
     "output_type": "stream",
     "text": [
      "\n",
      "C:\\Users\\Admin\\anaconda3\\lib\\site-packages\\pandas\\core\\computation\\expressions.py:20: UserWarning: Pandas requires version '2.7.3' or newer of 'numexpr' (version '2.7.1' currently installed).\n",
      "  from pandas.core.computation.check import NUMEXPR_INSTALLED\n"
     ]
    },
    {
     "name": "stdout",
     "output_type": "stream",
     "text": [
      "Plotting labels to C:\\Users\\Admin\\Desktop\\Model folder\\yolo_models\\yolov8_pod_model\\labels.jpg... \n",
      "\u001b[34m\u001b[1moptimizer:\u001b[0m 'optimizer=auto' found, ignoring 'lr0=0.01' and 'momentum=0.937' and determining best 'optimizer', 'lr0' and 'momentum' automatically... \n",
      "\u001b[34m\u001b[1moptimizer:\u001b[0m AdamW(lr=0.002, momentum=0.9) with parameter groups 57 weight(decay=0.0), 64 weight(decay=0.0005), 63 bias(decay=0.0)\n",
      "Image sizes 640 train, 640 val\n",
      "Using 0 dataloader workers\n",
      "Logging results to \u001b[1mC:\\Users\\Admin\\Desktop\\Model folder\\yolo_models\\yolov8_pod_model\u001b[0m\n",
      "Starting training for 10 epochs...\n",
      "Closing dataloader mosaic\n",
      "\n",
      "      Epoch    GPU_mem   box_loss   cls_loss   dfl_loss  Instances       Size\n"
     ]
    },
    {
     "name": "stderr",
     "output_type": "stream",
     "text": [
      "       1/10         0G      2.288      3.536      2.102         45        640: 100%|██████████| 16/16 [11:55<00:00, 44.74s/it]\n",
      "                 Class     Images  Instances      Box(P          R      mAP50  mAP50-95): 100%|██████████| 1/1 [01:03<00:00, 63.63s/it]"
     ]
    },
    {
     "name": "stdout",
     "output_type": "stream",
     "text": [
      "                   all         62        175    0.00817      0.869      0.142     0.0533\n"
     ]
    },
    {
     "name": "stderr",
     "output_type": "stream",
     "text": [
      "\n"
     ]
    },
    {
     "name": "stdout",
     "output_type": "stream",
     "text": [
      "\n",
      "      Epoch    GPU_mem   box_loss   cls_loss   dfl_loss  Instances       Size\n"
     ]
    },
    {
     "name": "stderr",
     "output_type": "stream",
     "text": [
      "       2/10         0G      1.927       2.63      1.629         45        640: 100%|██████████| 16/16 [10:01<00:00, 37.62s/it]\n",
      "                 Class     Images  Instances      Box(P          R      mAP50  mAP50-95): 100%|██████████| 1/1 [01:09<00:00, 69.44s/it]"
     ]
    },
    {
     "name": "stdout",
     "output_type": "stream",
     "text": [
      "                   all         62        175      0.268      0.314      0.178     0.0625\n"
     ]
    },
    {
     "name": "stderr",
     "output_type": "stream",
     "text": [
      "\n"
     ]
    },
    {
     "name": "stdout",
     "output_type": "stream",
     "text": [
      "\n",
      "      Epoch    GPU_mem   box_loss   cls_loss   dfl_loss  Instances       Size\n"
     ]
    },
    {
     "name": "stderr",
     "output_type": "stream",
     "text": [
      "       3/10         0G      1.914      2.484      1.653         49        640: 100%|██████████| 16/16 [11:34<00:00, 43.40s/it]\n",
      "                 Class     Images  Instances      Box(P          R      mAP50  mAP50-95):   0%|          | 0/1 [00:00<?, ?it/s]"
     ]
    },
    {
     "name": "stdout",
     "output_type": "stream",
     "text": [
      "WARNING  NMS time limit 5.100s exceeded\n"
     ]
    },
    {
     "name": "stderr",
     "output_type": "stream",
     "text": [
      "                 Class     Images  Instances      Box(P          R      mAP50  mAP50-95): 100%|██████████| 1/1 [10:23<00:00, 623.77s/it]"
     ]
    },
    {
     "name": "stdout",
     "output_type": "stream",
     "text": [
      "                   all         62        175      0.465     0.0914      0.129     0.0499\n"
     ]
    },
    {
     "name": "stderr",
     "output_type": "stream",
     "text": [
      "\n"
     ]
    },
    {
     "name": "stdout",
     "output_type": "stream",
     "text": [
      "\n",
      "      Epoch    GPU_mem   box_loss   cls_loss   dfl_loss  Instances       Size\n"
     ]
    },
    {
     "name": "stderr",
     "output_type": "stream",
     "text": [
      "       4/10         0G       1.87      2.379      1.627         63        640: 100%|██████████| 16/16 [23:32<00:00, 88.28s/it]  \n",
      "                 Class     Images  Instances      Box(P          R      mAP50  mAP50-95): 100%|██████████| 1/1 [00:58<00:00, 58.88s/it]"
     ]
    },
    {
     "name": "stdout",
     "output_type": "stream",
     "text": [
      "                   all         62        175      0.369       0.36      0.279      0.111\n"
     ]
    },
    {
     "name": "stderr",
     "output_type": "stream",
     "text": [
      "\n"
     ]
    },
    {
     "name": "stdout",
     "output_type": "stream",
     "text": [
      "\n",
      "      Epoch    GPU_mem   box_loss   cls_loss   dfl_loss  Instances       Size\n"
     ]
    },
    {
     "name": "stderr",
     "output_type": "stream",
     "text": [
      "       5/10         0G      1.855       2.21      1.604         50        640: 100%|██████████| 16/16 [09:18<00:00, 34.92s/it]\n",
      "                 Class     Images  Instances      Box(P          R      mAP50  mAP50-95): 100%|██████████| 1/1 [00:59<00:00, 59.71s/it]"
     ]
    },
    {
     "name": "stdout",
     "output_type": "stream",
     "text": [
      "                   all         62        175      0.328      0.474      0.302      0.113\n"
     ]
    },
    {
     "name": "stderr",
     "output_type": "stream",
     "text": [
      "\n"
     ]
    },
    {
     "name": "stdout",
     "output_type": "stream",
     "text": [
      "\n",
      "      Epoch    GPU_mem   box_loss   cls_loss   dfl_loss  Instances       Size\n"
     ]
    },
    {
     "name": "stderr",
     "output_type": "stream",
     "text": [
      "       6/10         0G      1.835      2.086      1.586         67        640: 100%|██████████| 16/16 [09:14<00:00, 34.66s/it]\n",
      "                 Class     Images  Instances      Box(P          R      mAP50  mAP50-95): 100%|██████████| 1/1 [00:58<00:00, 58.35s/it]"
     ]
    },
    {
     "name": "stdout",
     "output_type": "stream",
     "text": [
      "                   all         62        175      0.339      0.469      0.308     0.0993\n"
     ]
    },
    {
     "name": "stderr",
     "output_type": "stream",
     "text": [
      "\n"
     ]
    },
    {
     "name": "stdout",
     "output_type": "stream",
     "text": [
      "\n",
      "      Epoch    GPU_mem   box_loss   cls_loss   dfl_loss  Instances       Size\n"
     ]
    },
    {
     "name": "stderr",
     "output_type": "stream",
     "text": [
      "       7/10         0G      1.773      1.992      1.534         49        640: 100%|██████████| 16/16 [09:07<00:00, 34.22s/it]\n",
      "                 Class     Images  Instances      Box(P          R      mAP50  mAP50-95): 100%|██████████| 1/1 [00:58<00:00, 58.23s/it]"
     ]
    },
    {
     "name": "stdout",
     "output_type": "stream",
     "text": [
      "                   all         62        175      0.436      0.434      0.379      0.134\n"
     ]
    },
    {
     "name": "stderr",
     "output_type": "stream",
     "text": [
      "\n"
     ]
    },
    {
     "name": "stdout",
     "output_type": "stream",
     "text": [
      "\n",
      "      Epoch    GPU_mem   box_loss   cls_loss   dfl_loss  Instances       Size\n"
     ]
    },
    {
     "name": "stderr",
     "output_type": "stream",
     "text": [
      "       8/10         0G      1.761      1.918      1.502         52        640: 100%|██████████| 16/16 [09:01<00:00, 33.83s/it]\n",
      "                 Class     Images  Instances      Box(P          R      mAP50  mAP50-95): 100%|██████████| 1/1 [00:58<00:00, 58.23s/it]"
     ]
    },
    {
     "name": "stdout",
     "output_type": "stream",
     "text": [
      "                   all         62        175      0.409      0.455      0.376      0.138\n"
     ]
    },
    {
     "name": "stderr",
     "output_type": "stream",
     "text": [
      "\n"
     ]
    },
    {
     "name": "stdout",
     "output_type": "stream",
     "text": [
      "\n",
      "      Epoch    GPU_mem   box_loss   cls_loss   dfl_loss  Instances       Size\n"
     ]
    },
    {
     "name": "stderr",
     "output_type": "stream",
     "text": [
      "       9/10         0G      1.696      1.835      1.491         35        640: 100%|██████████| 16/16 [09:24<00:00, 35.28s/it]\n",
      "                 Class     Images  Instances      Box(P          R      mAP50  mAP50-95): 100%|██████████| 1/1 [00:58<00:00, 58.29s/it]"
     ]
    },
    {
     "name": "stdout",
     "output_type": "stream",
     "text": [
      "                   all         62        175      0.428      0.583      0.442      0.158\n"
     ]
    },
    {
     "name": "stderr",
     "output_type": "stream",
     "text": [
      "\n"
     ]
    },
    {
     "name": "stdout",
     "output_type": "stream",
     "text": [
      "\n",
      "      Epoch    GPU_mem   box_loss   cls_loss   dfl_loss  Instances       Size\n"
     ]
    },
    {
     "name": "stderr",
     "output_type": "stream",
     "text": [
      "      10/10         0G      1.672      1.761      1.464         57        640: 100%|██████████| 16/16 [09:08<00:00, 34.29s/it]\n",
      "                 Class     Images  Instances      Box(P          R      mAP50  mAP50-95): 100%|██████████| 1/1 [00:58<00:00, 58.03s/it]"
     ]
    },
    {
     "name": "stdout",
     "output_type": "stream",
     "text": [
      "                   all         62        175      0.441      0.686      0.487       0.19\n"
     ]
    },
    {
     "name": "stderr",
     "output_type": "stream",
     "text": [
      "\n"
     ]
    },
    {
     "name": "stdout",
     "output_type": "stream",
     "text": [
      "\n",
      "10 epochs completed in 2.200 hours.\n",
      "Optimizer stripped from C:\\Users\\Admin\\Desktop\\Model folder\\yolo_models\\yolov8_pod_model\\weights\\last.pt, 6.2MB\n",
      "Optimizer stripped from C:\\Users\\Admin\\Desktop\\Model folder\\yolo_models\\yolov8_pod_model\\weights\\best.pt, 6.2MB\n",
      "\n",
      "Validating C:\\Users\\Admin\\Desktop\\Model folder\\yolo_models\\yolov8_pod_model\\weights\\best.pt...\n",
      "Ultralytics YOLOv8.2.98  Python-3.8.5 torch-2.4.1+cpu CPU (Intel Core(TM) i7-8650U 1.90GHz)\n",
      "Model summary (fused): 168 layers, 3,005,843 parameters, 0 gradients, 8.1 GFLOPs\n"
     ]
    },
    {
     "name": "stderr",
     "output_type": "stream",
     "text": [
      "                 Class     Images  Instances      Box(P          R      mAP50  mAP50-95): 100%|██████████| 1/1 [00:55<00:00, 55.19s/it]\n"
     ]
    },
    {
     "name": "stdout",
     "output_type": "stream",
     "text": [
      "                   all         62        175      0.441      0.697      0.488       0.19\n",
      "Speed: 3.3ms preprocess, 136.3ms inference, 0.0ms loss, 8.6ms postprocess per image\n",
      "Results saved to \u001b[1mC:\\Users\\Admin\\Desktop\\Model folder\\yolo_models\\yolov8_pod_model\u001b[0m\n"
     ]
    },
    {
     "data": {
      "text/plain": [
       "ultralytics.utils.metrics.DetMetrics object with attributes:\n",
       "\n",
       "ap_class_index: array([0])\n",
       "box: ultralytics.utils.metrics.Metric object\n",
       "confusion_matrix: <ultralytics.utils.metrics.ConfusionMatrix object at 0x000002910D9C68E0>\n",
       "curves: ['Precision-Recall(B)', 'F1-Confidence(B)', 'Precision-Confidence(B)', 'Recall-Confidence(B)']\n",
       "curves_results: [[array([          0,    0.001001,    0.002002,    0.003003,    0.004004,    0.005005,    0.006006,    0.007007,    0.008008,    0.009009,     0.01001,    0.011011,    0.012012,    0.013013,    0.014014,    0.015015,    0.016016,    0.017017,    0.018018,    0.019019,     0.02002,    0.021021,    0.022022,    0.023023,\n",
       "          0.024024,    0.025025,    0.026026,    0.027027,    0.028028,    0.029029,     0.03003,    0.031031,    0.032032,    0.033033,    0.034034,    0.035035,    0.036036,    0.037037,    0.038038,    0.039039,     0.04004,    0.041041,    0.042042,    0.043043,    0.044044,    0.045045,    0.046046,    0.047047,\n",
       "          0.048048,    0.049049,     0.05005,    0.051051,    0.052052,    0.053053,    0.054054,    0.055055,    0.056056,    0.057057,    0.058058,    0.059059,     0.06006,    0.061061,    0.062062,    0.063063,    0.064064,    0.065065,    0.066066,    0.067067,    0.068068,    0.069069,     0.07007,    0.071071,\n",
       "          0.072072,    0.073073,    0.074074,    0.075075,    0.076076,    0.077077,    0.078078,    0.079079,     0.08008,    0.081081,    0.082082,    0.083083,    0.084084,    0.085085,    0.086086,    0.087087,    0.088088,    0.089089,     0.09009,    0.091091,    0.092092,    0.093093,    0.094094,    0.095095,\n",
       "          0.096096,    0.097097,    0.098098,    0.099099,      0.1001,      0.1011,      0.1021,      0.1031,      0.1041,     0.10511,     0.10611,     0.10711,     0.10811,     0.10911,     0.11011,     0.11111,     0.11211,     0.11311,     0.11411,     0.11512,     0.11612,     0.11712,     0.11812,     0.11912,\n",
       "           0.12012,     0.12112,     0.12212,     0.12312,     0.12412,     0.12513,     0.12613,     0.12713,     0.12813,     0.12913,     0.13013,     0.13113,     0.13213,     0.13313,     0.13413,     0.13514,     0.13614,     0.13714,     0.13814,     0.13914,     0.14014,     0.14114,     0.14214,     0.14314,\n",
       "           0.14414,     0.14515,     0.14615,     0.14715,     0.14815,     0.14915,     0.15015,     0.15115,     0.15215,     0.15315,     0.15415,     0.15516,     0.15616,     0.15716,     0.15816,     0.15916,     0.16016,     0.16116,     0.16216,     0.16316,     0.16416,     0.16517,     0.16617,     0.16717,\n",
       "           0.16817,     0.16917,     0.17017,     0.17117,     0.17217,     0.17317,     0.17417,     0.17518,     0.17618,     0.17718,     0.17818,     0.17918,     0.18018,     0.18118,     0.18218,     0.18318,     0.18418,     0.18519,     0.18619,     0.18719,     0.18819,     0.18919,     0.19019,     0.19119,\n",
       "           0.19219,     0.19319,     0.19419,      0.1952,      0.1962,      0.1972,      0.1982,      0.1992,      0.2002,      0.2012,      0.2022,      0.2032,      0.2042,     0.20521,     0.20621,     0.20721,     0.20821,     0.20921,     0.21021,     0.21121,     0.21221,     0.21321,     0.21421,     0.21522,\n",
       "           0.21622,     0.21722,     0.21822,     0.21922,     0.22022,     0.22122,     0.22222,     0.22322,     0.22422,     0.22523,     0.22623,     0.22723,     0.22823,     0.22923,     0.23023,     0.23123,     0.23223,     0.23323,     0.23423,     0.23524,     0.23624,     0.23724,     0.23824,     0.23924,\n",
       "           0.24024,     0.24124,     0.24224,     0.24324,     0.24424,     0.24525,     0.24625,     0.24725,     0.24825,     0.24925,     0.25025,     0.25125,     0.25225,     0.25325,     0.25425,     0.25526,     0.25626,     0.25726,     0.25826,     0.25926,     0.26026,     0.26126,     0.26226,     0.26326,\n",
       "           0.26426,     0.26527,     0.26627,     0.26727,     0.26827,     0.26927,     0.27027,     0.27127,     0.27227,     0.27327,     0.27427,     0.27528,     0.27628,     0.27728,     0.27828,     0.27928,     0.28028,     0.28128,     0.28228,     0.28328,     0.28428,     0.28529,     0.28629,     0.28729,\n",
       "           0.28829,     0.28929,     0.29029,     0.29129,     0.29229,     0.29329,     0.29429,      0.2953,      0.2963,      0.2973,      0.2983,      0.2993,      0.3003,      0.3013,      0.3023,      0.3033,      0.3043,     0.30531,     0.30631,     0.30731,     0.30831,     0.30931,     0.31031,     0.31131,\n",
       "           0.31231,     0.31331,     0.31431,     0.31532,     0.31632,     0.31732,     0.31832,     0.31932,     0.32032,     0.32132,     0.32232,     0.32332,     0.32432,     0.32533,     0.32633,     0.32733,     0.32833,     0.32933,     0.33033,     0.33133,     0.33233,     0.33333,     0.33433,     0.33534,\n",
       "           0.33634,     0.33734,     0.33834,     0.33934,     0.34034,     0.34134,     0.34234,     0.34334,     0.34434,     0.34535,     0.34635,     0.34735,     0.34835,     0.34935,     0.35035,     0.35135,     0.35235,     0.35335,     0.35435,     0.35536,     0.35636,     0.35736,     0.35836,     0.35936,\n",
       "           0.36036,     0.36136,     0.36236,     0.36336,     0.36436,     0.36537,     0.36637,     0.36737,     0.36837,     0.36937,     0.37037,     0.37137,     0.37237,     0.37337,     0.37437,     0.37538,     0.37638,     0.37738,     0.37838,     0.37938,     0.38038,     0.38138,     0.38238,     0.38338,\n",
       "           0.38438,     0.38539,     0.38639,     0.38739,     0.38839,     0.38939,     0.39039,     0.39139,     0.39239,     0.39339,     0.39439,      0.3954,      0.3964,      0.3974,      0.3984,      0.3994,      0.4004,      0.4014,      0.4024,      0.4034,      0.4044,     0.40541,     0.40641,     0.40741,\n",
       "           0.40841,     0.40941,     0.41041,     0.41141,     0.41241,     0.41341,     0.41441,     0.41542,     0.41642,     0.41742,     0.41842,     0.41942,     0.42042,     0.42142,     0.42242,     0.42342,     0.42442,     0.42543,     0.42643,     0.42743,     0.42843,     0.42943,     0.43043,     0.43143,\n",
       "           0.43243,     0.43343,     0.43443,     0.43544,     0.43644,     0.43744,     0.43844,     0.43944,     0.44044,     0.44144,     0.44244,     0.44344,     0.44444,     0.44545,     0.44645,     0.44745,     0.44845,     0.44945,     0.45045,     0.45145,     0.45245,     0.45345,     0.45445,     0.45546,\n",
       "           0.45646,     0.45746,     0.45846,     0.45946,     0.46046,     0.46146,     0.46246,     0.46346,     0.46446,     0.46547,     0.46647,     0.46747,     0.46847,     0.46947,     0.47047,     0.47147,     0.47247,     0.47347,     0.47447,     0.47548,     0.47648,     0.47748,     0.47848,     0.47948,\n",
       "           0.48048,     0.48148,     0.48248,     0.48348,     0.48448,     0.48549,     0.48649,     0.48749,     0.48849,     0.48949,     0.49049,     0.49149,     0.49249,     0.49349,     0.49449,      0.4955,      0.4965,      0.4975,      0.4985,      0.4995,      0.5005,      0.5015,      0.5025,      0.5035,\n",
       "            0.5045,     0.50551,     0.50651,     0.50751,     0.50851,     0.50951,     0.51051,     0.51151,     0.51251,     0.51351,     0.51451,     0.51552,     0.51652,     0.51752,     0.51852,     0.51952,     0.52052,     0.52152,     0.52252,     0.52352,     0.52452,     0.52553,     0.52653,     0.52753,\n",
       "           0.52853,     0.52953,     0.53053,     0.53153,     0.53253,     0.53353,     0.53453,     0.53554,     0.53654,     0.53754,     0.53854,     0.53954,     0.54054,     0.54154,     0.54254,     0.54354,     0.54454,     0.54555,     0.54655,     0.54755,     0.54855,     0.54955,     0.55055,     0.55155,\n",
       "           0.55255,     0.55355,     0.55455,     0.55556,     0.55656,     0.55756,     0.55856,     0.55956,     0.56056,     0.56156,     0.56256,     0.56356,     0.56456,     0.56557,     0.56657,     0.56757,     0.56857,     0.56957,     0.57057,     0.57157,     0.57257,     0.57357,     0.57457,     0.57558,\n",
       "           0.57658,     0.57758,     0.57858,     0.57958,     0.58058,     0.58158,     0.58258,     0.58358,     0.58458,     0.58559,     0.58659,     0.58759,     0.58859,     0.58959,     0.59059,     0.59159,     0.59259,     0.59359,     0.59459,      0.5956,      0.5966,      0.5976,      0.5986,      0.5996,\n",
       "            0.6006,      0.6016,      0.6026,      0.6036,      0.6046,     0.60561,     0.60661,     0.60761,     0.60861,     0.60961,     0.61061,     0.61161,     0.61261,     0.61361,     0.61461,     0.61562,     0.61662,     0.61762,     0.61862,     0.61962,     0.62062,     0.62162,     0.62262,     0.62362,\n",
       "           0.62462,     0.62563,     0.62663,     0.62763,     0.62863,     0.62963,     0.63063,     0.63163,     0.63263,     0.63363,     0.63463,     0.63564,     0.63664,     0.63764,     0.63864,     0.63964,     0.64064,     0.64164,     0.64264,     0.64364,     0.64464,     0.64565,     0.64665,     0.64765,\n",
       "           0.64865,     0.64965,     0.65065,     0.65165,     0.65265,     0.65365,     0.65465,     0.65566,     0.65666,     0.65766,     0.65866,     0.65966,     0.66066,     0.66166,     0.66266,     0.66366,     0.66466,     0.66567,     0.66667,     0.66767,     0.66867,     0.66967,     0.67067,     0.67167,\n",
       "           0.67267,     0.67367,     0.67467,     0.67568,     0.67668,     0.67768,     0.67868,     0.67968,     0.68068,     0.68168,     0.68268,     0.68368,     0.68468,     0.68569,     0.68669,     0.68769,     0.68869,     0.68969,     0.69069,     0.69169,     0.69269,     0.69369,     0.69469,      0.6957,\n",
       "            0.6967,      0.6977,      0.6987,      0.6997,      0.7007,      0.7017,      0.7027,      0.7037,      0.7047,     0.70571,     0.70671,     0.70771,     0.70871,     0.70971,     0.71071,     0.71171,     0.71271,     0.71371,     0.71471,     0.71572,     0.71672,     0.71772,     0.71872,     0.71972,\n",
       "           0.72072,     0.72172,     0.72272,     0.72372,     0.72472,     0.72573,     0.72673,     0.72773,     0.72873,     0.72973,     0.73073,     0.73173,     0.73273,     0.73373,     0.73473,     0.73574,     0.73674,     0.73774,     0.73874,     0.73974,     0.74074,     0.74174,     0.74274,     0.74374,\n",
       "           0.74474,     0.74575,     0.74675,     0.74775,     0.74875,     0.74975,     0.75075,     0.75175,     0.75275,     0.75375,     0.75475,     0.75576,     0.75676,     0.75776,     0.75876,     0.75976,     0.76076,     0.76176,     0.76276,     0.76376,     0.76476,     0.76577,     0.76677,     0.76777,\n",
       "           0.76877,     0.76977,     0.77077,     0.77177,     0.77277,     0.77377,     0.77477,     0.77578,     0.77678,     0.77778,     0.77878,     0.77978,     0.78078,     0.78178,     0.78278,     0.78378,     0.78478,     0.78579,     0.78679,     0.78779,     0.78879,     0.78979,     0.79079,     0.79179,\n",
       "           0.79279,     0.79379,     0.79479,      0.7958,      0.7968,      0.7978,      0.7988,      0.7998,      0.8008,      0.8018,      0.8028,      0.8038,      0.8048,     0.80581,     0.80681,     0.80781,     0.80881,     0.80981,     0.81081,     0.81181,     0.81281,     0.81381,     0.81481,     0.81582,\n",
       "           0.81682,     0.81782,     0.81882,     0.81982,     0.82082,     0.82182,     0.82282,     0.82382,     0.82482,     0.82583,     0.82683,     0.82783,     0.82883,     0.82983,     0.83083,     0.83183,     0.83283,     0.83383,     0.83483,     0.83584,     0.83684,     0.83784,     0.83884,     0.83984,\n",
       "           0.84084,     0.84184,     0.84284,     0.84384,     0.84484,     0.84585,     0.84685,     0.84785,     0.84885,     0.84985,     0.85085,     0.85185,     0.85285,     0.85385,     0.85485,     0.85586,     0.85686,     0.85786,     0.85886,     0.85986,     0.86086,     0.86186,     0.86286,     0.86386,\n",
       "           0.86486,     0.86587,     0.86687,     0.86787,     0.86887,     0.86987,     0.87087,     0.87187,     0.87287,     0.87387,     0.87487,     0.87588,     0.87688,     0.87788,     0.87888,     0.87988,     0.88088,     0.88188,     0.88288,     0.88388,     0.88488,     0.88589,     0.88689,     0.88789,\n",
       "           0.88889,     0.88989,     0.89089,     0.89189,     0.89289,     0.89389,     0.89489,      0.8959,      0.8969,      0.8979,      0.8989,      0.8999,      0.9009,      0.9019,      0.9029,      0.9039,      0.9049,     0.90591,     0.90691,     0.90791,     0.90891,     0.90991,     0.91091,     0.91191,\n",
       "           0.91291,     0.91391,     0.91491,     0.91592,     0.91692,     0.91792,     0.91892,     0.91992,     0.92092,     0.92192,     0.92292,     0.92392,     0.92492,     0.92593,     0.92693,     0.92793,     0.92893,     0.92993,     0.93093,     0.93193,     0.93293,     0.93393,     0.93493,     0.93594,\n",
       "           0.93694,     0.93794,     0.93894,     0.93994,     0.94094,     0.94194,     0.94294,     0.94394,     0.94494,     0.94595,     0.94695,     0.94795,     0.94895,     0.94995,     0.95095,     0.95195,     0.95295,     0.95395,     0.95495,     0.95596,     0.95696,     0.95796,     0.95896,     0.95996,\n",
       "           0.96096,     0.96196,     0.96296,     0.96396,     0.96496,     0.96597,     0.96697,     0.96797,     0.96897,     0.96997,     0.97097,     0.97197,     0.97297,     0.97397,     0.97497,     0.97598,     0.97698,     0.97798,     0.97898,     0.97998,     0.98098,     0.98198,     0.98298,     0.98398,\n",
       "           0.98498,     0.98599,     0.98699,     0.98799,     0.98899,     0.98999,     0.99099,     0.99199,     0.99299,     0.99399,     0.99499,       0.996,       0.997,       0.998,       0.999,           1]), array([[        0.8,         0.8,         0.8,         0.8,         0.8,         0.8,         0.8,         0.8,         0.8,         0.8,         0.8,         0.8,         0.8,         0.8,         0.8,         0.8,         0.8,         0.8,         0.8,         0.8,         0.8,         0.8,         0.8,\n",
       "               0.75,        0.75,        0.75,        0.75,        0.75,        0.75,        0.75,        0.75,        0.75,        0.75,        0.75,        0.75,        0.75,        0.75,        0.75,        0.75,        0.75,        0.75,        0.75,        0.75,        0.75,        0.75,        0.75,\n",
       "               0.75,        0.75,        0.75,        0.75,        0.75,        0.75,        0.75,        0.75,        0.75,        0.75,        0.75,        0.75,        0.75,        0.75,        0.75,        0.75,        0.75,        0.75,        0.75,        0.75,        0.75,        0.75,        0.75,\n",
       "               0.75,        0.75,        0.75,        0.75,        0.75,        0.75,        0.75,        0.75,        0.75,        0.75,        0.75,        0.75,        0.75,        0.75,        0.75,        0.75,        0.75,        0.75,        0.75,        0.75,        0.75,        0.75,        0.75,\n",
       "               0.75,        0.75,        0.75,        0.75,        0.75,        0.75,        0.75,        0.75,        0.75,        0.75,        0.75,        0.75,        0.75,        0.75,        0.75,        0.75,        0.75,        0.75,        0.75,        0.75,        0.75,        0.75,        0.75,\n",
       "               0.75,        0.75,        0.75,        0.75,        0.75,        0.75,        0.75,        0.75,        0.75,        0.75,        0.75,        0.75,        0.75,        0.75,        0.75,        0.75,        0.75,        0.75,        0.75,        0.75,        0.75,        0.75,        0.75,\n",
       "             0.7027,      0.7027,      0.7027,      0.7027,      0.7027,      0.7027,      0.7027,      0.7027,      0.7027,      0.7027,      0.7027,     0.69231,     0.69231,     0.69231,     0.69231,     0.69231,     0.69231,     0.67391,     0.67391,     0.67391,     0.67391,     0.67391,     0.67391,\n",
       "            0.67391,     0.67391,     0.67391,     0.67391,     0.67391,     0.67391,     0.67391,     0.67391,     0.67391,     0.67391,     0.67391,     0.67391,     0.67391,     0.67391,     0.67391,     0.67391,     0.66667,     0.66667,     0.66667,     0.66667,     0.66667,     0.66667,     0.66667,\n",
       "            0.66667,     0.66667,     0.66667,     0.66667,     0.66667,     0.66667,     0.66667,     0.66667,     0.66667,     0.66667,     0.66667,     0.66667,     0.66667,     0.66667,     0.66667,     0.66667,     0.66667,     0.66667,     0.66667,     0.66667,     0.66667,     0.66667,     0.66667,\n",
       "            0.66667,     0.66667,     0.66667,     0.66667,     0.66667,     0.66667,     0.66667,     0.66667,     0.66667,     0.66667,     0.66667,     0.66667,     0.66667,     0.66667,     0.66667,     0.66667,     0.66667,     0.66667,     0.66667,     0.66667,     0.66667,     0.66667,     0.66667,\n",
       "            0.66667,     0.66667,     0.66667,     0.66667,     0.66667,     0.66667,     0.66667,     0.66667,     0.66667,     0.66667,     0.66667,     0.66667,     0.66667,     0.66667,     0.66667,     0.66667,     0.66667,     0.66667,     0.66667,     0.66667,     0.66667,     0.66667,     0.66234,\n",
       "            0.66234,     0.66234,     0.66234,     0.66234,     0.66234,     0.66234,     0.66234,     0.66234,     0.66234,     0.66234,     0.66234,     0.66234,     0.66234,     0.66234,     0.66234,     0.66234,     0.66234,     0.66234,     0.66234,     0.66234,     0.66234,     0.66234,     0.66234,\n",
       "            0.66234,     0.66234,     0.66234,     0.66234,     0.66234,     0.66234,     0.66234,     0.66234,     0.66234,     0.66234,     0.66234,     0.66234,     0.66234,     0.66234,     0.66234,     0.66234,     0.65823,     0.65823,     0.65823,     0.65823,     0.65823,     0.63551,     0.63551,\n",
       "            0.63551,     0.63551,     0.63551,     0.63551,     0.63551,     0.63551,     0.63551,     0.63551,     0.63551,     0.63551,     0.63551,     0.63551,     0.63551,     0.63551,     0.63551,     0.63551,     0.63551,     0.63551,     0.63551,     0.63551,     0.63551,     0.63551,     0.63551,\n",
       "            0.63551,     0.63551,     0.63551,     0.63551,     0.63551,     0.63551,     0.63551,     0.63551,     0.63551,     0.63551,     0.63551,     0.63551,     0.63551,     0.63551,     0.63551,     0.63551,     0.63551,     0.63551,     0.63551,     0.63551,     0.63551,     0.63551,     0.63551,\n",
       "            0.63551,     0.63551,     0.63551,     0.63551,     0.63551,     0.63551,     0.63551,     0.63551,     0.63551,     0.63551,     0.63551,     0.63551,     0.63551,     0.63551,     0.63551,     0.63551,     0.63551,     0.63551,     0.63551,     0.63551,     0.63551,     0.63551,     0.63551,\n",
       "            0.63551,     0.63551,     0.63551,     0.63551,     0.63551,     0.63551,     0.63551,     0.63551,     0.63551,     0.63551,     0.63551,     0.63551,     0.63551,     0.63551,     0.63551,     0.63551,     0.63551,     0.63551,     0.63551,     0.63551,     0.63551,     0.63393,     0.63393,\n",
       "            0.63393,     0.63393,     0.63393,     0.63393,     0.63393,     0.63393,     0.63393,     0.63393,     0.63393,     0.63393,     0.63393,     0.63393,     0.63393,     0.63393,     0.63393,     0.61475,     0.61475,     0.61475,     0.61475,     0.61475,     0.61475,     0.61475,     0.61475,\n",
       "            0.61475,     0.61475,     0.61475,     0.61475,     0.61475,     0.61475,     0.61475,     0.61475,     0.61475,     0.61475,     0.61475,     0.61475,     0.61475,     0.61475,     0.61475,      0.6129,      0.6129,      0.6129,      0.6129,      0.6129,     0.58779,     0.58779,     0.58779,\n",
       "            0.58779,     0.58779,     0.58779,     0.58696,     0.58696,     0.58696,     0.58696,     0.58696,     0.58696,     0.58696,     0.58696,     0.58696,     0.58696,     0.58696,     0.58696,     0.58696,     0.58696,     0.58696,     0.58696,     0.58696,     0.58696,     0.58696,     0.58696,\n",
       "            0.58696,     0.58696,     0.58696,     0.57746,     0.57746,     0.57746,     0.57746,     0.57746,     0.57746,     0.57639,     0.57639,     0.57639,     0.57639,     0.57639,     0.56757,     0.56757,     0.56757,     0.56757,     0.56757,     0.56757,     0.55195,     0.55195,     0.55195,\n",
       "            0.55195,     0.55195,     0.55195,     0.54777,     0.54777,     0.54777,     0.54777,     0.54777,     0.53939,     0.53939,     0.53939,     0.53939,     0.53939,     0.53939,     0.53939,     0.53939,     0.53939,     0.53939,     0.53939,     0.53939,     0.53939,     0.53939,     0.53939,\n",
       "            0.53939,     0.53939,     0.53939,     0.53846,     0.53846,     0.53846,     0.53846,     0.53846,     0.53846,     0.53846,     0.53846,     0.53846,     0.53846,     0.53846,     0.51977,     0.51977,     0.51977,     0.51977,     0.51977,     0.51977,     0.51099,     0.51099,     0.51099,\n",
       "            0.51099,     0.51099,     0.50538,     0.50538,     0.50538,     0.50538,     0.50538,     0.50538,     0.49741,     0.49741,     0.49741,     0.49741,     0.49741,     0.49741,     0.49741,     0.49741,     0.49741,     0.49741,     0.49741,     0.49741,      0.4899,      0.4899,      0.4899,\n",
       "             0.4899,      0.4899,     0.48293,     0.48293,     0.48293,     0.48293,     0.48293,     0.48293,     0.48293,     0.48293,     0.48293,     0.48293,     0.48293,     0.48293,     0.47847,     0.47847,     0.47847,     0.47847,     0.47847,     0.47642,     0.47642,     0.47642,     0.47642,\n",
       "            0.47642,     0.47642,     0.46753,     0.46753,     0.46753,     0.46753,     0.46753,     0.46753,     0.46753,     0.46753,     0.46753,     0.46753,     0.46753,     0.46753,     0.46753,     0.46753,     0.46753,     0.46753,     0.46753,     0.46753,     0.46753,     0.46753,     0.46753,\n",
       "            0.46753,     0.46753,     0.46753,     0.46753,     0.46753,     0.46753,     0.46753,     0.46753,     0.46753,     0.46753,     0.46753,     0.46753,     0.46753,     0.46753,     0.46753,     0.46753,     0.46753,     0.46753,     0.46753,     0.45868,     0.45868,     0.45868,     0.45868,\n",
       "            0.45868,     0.45868,     0.45868,     0.45868,     0.45868,     0.45868,     0.45868,     0.45868,     0.45868,     0.45868,     0.45868,     0.45868,     0.45868,     0.45528,     0.45528,     0.45528,     0.45528,     0.45528,     0.45528,      0.4549,      0.4549,      0.4549,      0.4549,\n",
       "             0.4549,      0.4549,      0.4549,      0.4549,      0.4549,      0.4549,      0.4549,      0.4549,      0.4549,      0.4549,      0.4549,      0.4549,      0.4549,      0.4549,      0.4549,      0.4549,      0.4549,      0.4549,      0.4549,     0.45283,     0.45283,     0.45283,     0.45283,\n",
       "            0.45283,     0.45283,     0.45283,     0.45283,     0.45283,     0.45283,     0.45283,     0.45283,     0.45283,     0.45283,     0.45283,     0.45283,     0.45283,     0.45283,     0.45283,     0.45283,     0.45283,     0.45283,     0.45283,     0.44689,     0.44689,     0.44689,     0.44689,\n",
       "            0.44689,     0.44689,     0.44689,     0.44689,     0.44689,     0.44689,     0.44689,     0.43617,     0.43617,     0.43617,     0.43617,     0.43617,     0.43617,     0.43509,     0.43509,     0.43509,     0.43509,     0.43509,     0.43103,     0.43103,     0.43103,     0.43103,     0.43103,\n",
       "            0.43103,     0.42905,     0.42905,     0.42905,     0.42905,     0.42905,     0.42905,     0.42905,     0.42905,     0.42905,     0.42905,     0.42905,     0.41534,     0.41534,     0.41534,     0.41534,     0.41534,     0.41534,     0.41534,     0.41534,     0.41534,     0.41534,     0.41534,\n",
       "            0.41534,     0.41534,     0.41534,     0.41534,     0.41534,     0.41534,     0.41534,     0.40937,     0.40937,     0.40937,     0.40937,     0.40937,     0.38824,     0.38824,     0.38824,     0.38824,     0.38824,     0.38824,     0.38439,     0.38439,     0.38439,     0.38439,     0.38439,\n",
       "            0.38439,      0.3764,      0.3764,      0.3764,      0.3764,      0.3764,     0.35433,     0.35433,     0.35433,     0.35433,     0.35433,     0.35433,     0.34949,     0.34949,     0.34949,     0.34949,     0.34949,     0.34949,     0.34949,     0.34949,     0.34949,     0.34949,     0.34949,\n",
       "            0.34949,     0.34414,     0.34414,     0.34414,     0.34414,     0.34414,     0.32251,     0.32251,     0.32251,     0.32251,     0.32251,     0.32251,     0.27027,     0.27027,     0.27027,     0.27027,     0.27027,     0.27027,     0.26908,     0.26908,     0.26908,     0.26908,     0.26908,\n",
       "            0.26007,     0.26007,     0.26007,     0.26007,     0.26007,     0.26007,     0.25812,     0.25812,     0.25812,     0.25812,     0.25812,     0.25812,     0.21951,     0.21951,     0.21951,     0.21951,     0.21951,     0.21951,      0.2028,      0.2028,      0.2028,      0.2028,      0.2028,\n",
       "            0.19519,     0.19519,     0.19519,     0.19519,     0.19519,     0.19519,     0.19393,     0.19393,     0.19393,     0.19393,     0.19393,     0.19393,     0.19346,     0.19346,     0.19346,     0.19346,     0.19346,     0.16893,     0.16893,     0.16893,     0.16893,     0.16893,     0.16893,\n",
       "            0.15924,     0.15924,     0.15924,     0.15924,     0.15924,     0.15924,     0.12459,     0.12459,     0.12459,     0.12459,     0.12459,     0.11866,     0.11866,     0.11866,     0.11866,     0.11866,     0.11866,     0.11023,     0.11023,     0.11023,     0.11023,     0.11023,     0.11023,\n",
       "                0.1,         0.1,         0.1,         0.1,         0.1,         0.1,    0.095738,    0.095738,    0.095738,    0.095738,    0.095738,    0.080787,    0.080787,    0.080787,    0.080787,    0.080787,    0.080787,    0.076999,    0.076999,    0.076999,    0.076999,    0.076999,    0.076999,\n",
       "           0.074109,    0.074109,    0.074109,    0.074109,    0.074109,    0.073373,    0.073373,    0.073373,    0.073373,    0.073373,    0.073373,    0.069384,    0.069384,    0.069384,    0.069384,    0.069384,    0.069384,    0.063461,    0.063461,    0.063461,    0.063461,    0.063461,    0.063461,\n",
       "           0.057919,    0.057919,    0.057919,    0.057919,    0.057919,    0.049102,    0.049102,    0.049102,    0.049102,    0.049102,    0.049102,    0.049102,    0.049102,    0.049102,    0.049102,    0.049102,    0.049102,    0.046077,    0.046077,    0.046077,    0.046077,    0.046077,    0.043869,\n",
       "           0.043869,    0.043869,    0.043869,    0.043869,    0.043869,    0.036054,    0.036054,    0.036054,    0.036054,    0.036054,    0.036054,    0.032704,    0.032704,    0.032704,    0.032704,    0.032704,    0.032704,    0.028509,    0.028509,    0.028509,    0.028509,    0.028509,    0.026924,\n",
       "           0.026924,    0.026924,    0.026924,    0.026924,    0.026924,    0.011655,    0.011655,    0.011655,    0.011655,    0.011655,    0.011655,   0.0088591,   0.0084564,   0.0080537,    0.007651,   0.0072483,   0.0068457,    0.006443,   0.0060403,   0.0056376,   0.0052349,   0.0048322,   0.0044295,\n",
       "          0.0040269,   0.0036242,   0.0032215,   0.0028188,   0.0024161,   0.0020134,   0.0016107,   0.0012081,  0.00080537,  0.00040269,           0]]), 'Recall', 'Precision'], [array([          0,    0.001001,    0.002002,    0.003003,    0.004004,    0.005005,    0.006006,    0.007007,    0.008008,    0.009009,     0.01001,    0.011011,    0.012012,    0.013013,    0.014014,    0.015015,    0.016016,    0.017017,    0.018018,    0.019019,     0.02002,    0.021021,    0.022022,    0.023023,\n",
       "          0.024024,    0.025025,    0.026026,    0.027027,    0.028028,    0.029029,     0.03003,    0.031031,    0.032032,    0.033033,    0.034034,    0.035035,    0.036036,    0.037037,    0.038038,    0.039039,     0.04004,    0.041041,    0.042042,    0.043043,    0.044044,    0.045045,    0.046046,    0.047047,\n",
       "          0.048048,    0.049049,     0.05005,    0.051051,    0.052052,    0.053053,    0.054054,    0.055055,    0.056056,    0.057057,    0.058058,    0.059059,     0.06006,    0.061061,    0.062062,    0.063063,    0.064064,    0.065065,    0.066066,    0.067067,    0.068068,    0.069069,     0.07007,    0.071071,\n",
       "          0.072072,    0.073073,    0.074074,    0.075075,    0.076076,    0.077077,    0.078078,    0.079079,     0.08008,    0.081081,    0.082082,    0.083083,    0.084084,    0.085085,    0.086086,    0.087087,    0.088088,    0.089089,     0.09009,    0.091091,    0.092092,    0.093093,    0.094094,    0.095095,\n",
       "          0.096096,    0.097097,    0.098098,    0.099099,      0.1001,      0.1011,      0.1021,      0.1031,      0.1041,     0.10511,     0.10611,     0.10711,     0.10811,     0.10911,     0.11011,     0.11111,     0.11211,     0.11311,     0.11411,     0.11512,     0.11612,     0.11712,     0.11812,     0.11912,\n",
       "           0.12012,     0.12112,     0.12212,     0.12312,     0.12412,     0.12513,     0.12613,     0.12713,     0.12813,     0.12913,     0.13013,     0.13113,     0.13213,     0.13313,     0.13413,     0.13514,     0.13614,     0.13714,     0.13814,     0.13914,     0.14014,     0.14114,     0.14214,     0.14314,\n",
       "           0.14414,     0.14515,     0.14615,     0.14715,     0.14815,     0.14915,     0.15015,     0.15115,     0.15215,     0.15315,     0.15415,     0.15516,     0.15616,     0.15716,     0.15816,     0.15916,     0.16016,     0.16116,     0.16216,     0.16316,     0.16416,     0.16517,     0.16617,     0.16717,\n",
       "           0.16817,     0.16917,     0.17017,     0.17117,     0.17217,     0.17317,     0.17417,     0.17518,     0.17618,     0.17718,     0.17818,     0.17918,     0.18018,     0.18118,     0.18218,     0.18318,     0.18418,     0.18519,     0.18619,     0.18719,     0.18819,     0.18919,     0.19019,     0.19119,\n",
       "           0.19219,     0.19319,     0.19419,      0.1952,      0.1962,      0.1972,      0.1982,      0.1992,      0.2002,      0.2012,      0.2022,      0.2032,      0.2042,     0.20521,     0.20621,     0.20721,     0.20821,     0.20921,     0.21021,     0.21121,     0.21221,     0.21321,     0.21421,     0.21522,\n",
       "           0.21622,     0.21722,     0.21822,     0.21922,     0.22022,     0.22122,     0.22222,     0.22322,     0.22422,     0.22523,     0.22623,     0.22723,     0.22823,     0.22923,     0.23023,     0.23123,     0.23223,     0.23323,     0.23423,     0.23524,     0.23624,     0.23724,     0.23824,     0.23924,\n",
       "           0.24024,     0.24124,     0.24224,     0.24324,     0.24424,     0.24525,     0.24625,     0.24725,     0.24825,     0.24925,     0.25025,     0.25125,     0.25225,     0.25325,     0.25425,     0.25526,     0.25626,     0.25726,     0.25826,     0.25926,     0.26026,     0.26126,     0.26226,     0.26326,\n",
       "           0.26426,     0.26527,     0.26627,     0.26727,     0.26827,     0.26927,     0.27027,     0.27127,     0.27227,     0.27327,     0.27427,     0.27528,     0.27628,     0.27728,     0.27828,     0.27928,     0.28028,     0.28128,     0.28228,     0.28328,     0.28428,     0.28529,     0.28629,     0.28729,\n",
       "           0.28829,     0.28929,     0.29029,     0.29129,     0.29229,     0.29329,     0.29429,      0.2953,      0.2963,      0.2973,      0.2983,      0.2993,      0.3003,      0.3013,      0.3023,      0.3033,      0.3043,     0.30531,     0.30631,     0.30731,     0.30831,     0.30931,     0.31031,     0.31131,\n",
       "           0.31231,     0.31331,     0.31431,     0.31532,     0.31632,     0.31732,     0.31832,     0.31932,     0.32032,     0.32132,     0.32232,     0.32332,     0.32432,     0.32533,     0.32633,     0.32733,     0.32833,     0.32933,     0.33033,     0.33133,     0.33233,     0.33333,     0.33433,     0.33534,\n",
       "           0.33634,     0.33734,     0.33834,     0.33934,     0.34034,     0.34134,     0.34234,     0.34334,     0.34434,     0.34535,     0.34635,     0.34735,     0.34835,     0.34935,     0.35035,     0.35135,     0.35235,     0.35335,     0.35435,     0.35536,     0.35636,     0.35736,     0.35836,     0.35936,\n",
       "           0.36036,     0.36136,     0.36236,     0.36336,     0.36436,     0.36537,     0.36637,     0.36737,     0.36837,     0.36937,     0.37037,     0.37137,     0.37237,     0.37337,     0.37437,     0.37538,     0.37638,     0.37738,     0.37838,     0.37938,     0.38038,     0.38138,     0.38238,     0.38338,\n",
       "           0.38438,     0.38539,     0.38639,     0.38739,     0.38839,     0.38939,     0.39039,     0.39139,     0.39239,     0.39339,     0.39439,      0.3954,      0.3964,      0.3974,      0.3984,      0.3994,      0.4004,      0.4014,      0.4024,      0.4034,      0.4044,     0.40541,     0.40641,     0.40741,\n",
       "           0.40841,     0.40941,     0.41041,     0.41141,     0.41241,     0.41341,     0.41441,     0.41542,     0.41642,     0.41742,     0.41842,     0.41942,     0.42042,     0.42142,     0.42242,     0.42342,     0.42442,     0.42543,     0.42643,     0.42743,     0.42843,     0.42943,     0.43043,     0.43143,\n",
       "           0.43243,     0.43343,     0.43443,     0.43544,     0.43644,     0.43744,     0.43844,     0.43944,     0.44044,     0.44144,     0.44244,     0.44344,     0.44444,     0.44545,     0.44645,     0.44745,     0.44845,     0.44945,     0.45045,     0.45145,     0.45245,     0.45345,     0.45445,     0.45546,\n",
       "           0.45646,     0.45746,     0.45846,     0.45946,     0.46046,     0.46146,     0.46246,     0.46346,     0.46446,     0.46547,     0.46647,     0.46747,     0.46847,     0.46947,     0.47047,     0.47147,     0.47247,     0.47347,     0.47447,     0.47548,     0.47648,     0.47748,     0.47848,     0.47948,\n",
       "           0.48048,     0.48148,     0.48248,     0.48348,     0.48448,     0.48549,     0.48649,     0.48749,     0.48849,     0.48949,     0.49049,     0.49149,     0.49249,     0.49349,     0.49449,      0.4955,      0.4965,      0.4975,      0.4985,      0.4995,      0.5005,      0.5015,      0.5025,      0.5035,\n",
       "            0.5045,     0.50551,     0.50651,     0.50751,     0.50851,     0.50951,     0.51051,     0.51151,     0.51251,     0.51351,     0.51451,     0.51552,     0.51652,     0.51752,     0.51852,     0.51952,     0.52052,     0.52152,     0.52252,     0.52352,     0.52452,     0.52553,     0.52653,     0.52753,\n",
       "           0.52853,     0.52953,     0.53053,     0.53153,     0.53253,     0.53353,     0.53453,     0.53554,     0.53654,     0.53754,     0.53854,     0.53954,     0.54054,     0.54154,     0.54254,     0.54354,     0.54454,     0.54555,     0.54655,     0.54755,     0.54855,     0.54955,     0.55055,     0.55155,\n",
       "           0.55255,     0.55355,     0.55455,     0.55556,     0.55656,     0.55756,     0.55856,     0.55956,     0.56056,     0.56156,     0.56256,     0.56356,     0.56456,     0.56557,     0.56657,     0.56757,     0.56857,     0.56957,     0.57057,     0.57157,     0.57257,     0.57357,     0.57457,     0.57558,\n",
       "           0.57658,     0.57758,     0.57858,     0.57958,     0.58058,     0.58158,     0.58258,     0.58358,     0.58458,     0.58559,     0.58659,     0.58759,     0.58859,     0.58959,     0.59059,     0.59159,     0.59259,     0.59359,     0.59459,      0.5956,      0.5966,      0.5976,      0.5986,      0.5996,\n",
       "            0.6006,      0.6016,      0.6026,      0.6036,      0.6046,     0.60561,     0.60661,     0.60761,     0.60861,     0.60961,     0.61061,     0.61161,     0.61261,     0.61361,     0.61461,     0.61562,     0.61662,     0.61762,     0.61862,     0.61962,     0.62062,     0.62162,     0.62262,     0.62362,\n",
       "           0.62462,     0.62563,     0.62663,     0.62763,     0.62863,     0.62963,     0.63063,     0.63163,     0.63263,     0.63363,     0.63463,     0.63564,     0.63664,     0.63764,     0.63864,     0.63964,     0.64064,     0.64164,     0.64264,     0.64364,     0.64464,     0.64565,     0.64665,     0.64765,\n",
       "           0.64865,     0.64965,     0.65065,     0.65165,     0.65265,     0.65365,     0.65465,     0.65566,     0.65666,     0.65766,     0.65866,     0.65966,     0.66066,     0.66166,     0.66266,     0.66366,     0.66466,     0.66567,     0.66667,     0.66767,     0.66867,     0.66967,     0.67067,     0.67167,\n",
       "           0.67267,     0.67367,     0.67467,     0.67568,     0.67668,     0.67768,     0.67868,     0.67968,     0.68068,     0.68168,     0.68268,     0.68368,     0.68468,     0.68569,     0.68669,     0.68769,     0.68869,     0.68969,     0.69069,     0.69169,     0.69269,     0.69369,     0.69469,      0.6957,\n",
       "            0.6967,      0.6977,      0.6987,      0.6997,      0.7007,      0.7017,      0.7027,      0.7037,      0.7047,     0.70571,     0.70671,     0.70771,     0.70871,     0.70971,     0.71071,     0.71171,     0.71271,     0.71371,     0.71471,     0.71572,     0.71672,     0.71772,     0.71872,     0.71972,\n",
       "           0.72072,     0.72172,     0.72272,     0.72372,     0.72472,     0.72573,     0.72673,     0.72773,     0.72873,     0.72973,     0.73073,     0.73173,     0.73273,     0.73373,     0.73473,     0.73574,     0.73674,     0.73774,     0.73874,     0.73974,     0.74074,     0.74174,     0.74274,     0.74374,\n",
       "           0.74474,     0.74575,     0.74675,     0.74775,     0.74875,     0.74975,     0.75075,     0.75175,     0.75275,     0.75375,     0.75475,     0.75576,     0.75676,     0.75776,     0.75876,     0.75976,     0.76076,     0.76176,     0.76276,     0.76376,     0.76476,     0.76577,     0.76677,     0.76777,\n",
       "           0.76877,     0.76977,     0.77077,     0.77177,     0.77277,     0.77377,     0.77477,     0.77578,     0.77678,     0.77778,     0.77878,     0.77978,     0.78078,     0.78178,     0.78278,     0.78378,     0.78478,     0.78579,     0.78679,     0.78779,     0.78879,     0.78979,     0.79079,     0.79179,\n",
       "           0.79279,     0.79379,     0.79479,      0.7958,      0.7968,      0.7978,      0.7988,      0.7998,      0.8008,      0.8018,      0.8028,      0.8038,      0.8048,     0.80581,     0.80681,     0.80781,     0.80881,     0.80981,     0.81081,     0.81181,     0.81281,     0.81381,     0.81481,     0.81582,\n",
       "           0.81682,     0.81782,     0.81882,     0.81982,     0.82082,     0.82182,     0.82282,     0.82382,     0.82482,     0.82583,     0.82683,     0.82783,     0.82883,     0.82983,     0.83083,     0.83183,     0.83283,     0.83383,     0.83483,     0.83584,     0.83684,     0.83784,     0.83884,     0.83984,\n",
       "           0.84084,     0.84184,     0.84284,     0.84384,     0.84484,     0.84585,     0.84685,     0.84785,     0.84885,     0.84985,     0.85085,     0.85185,     0.85285,     0.85385,     0.85485,     0.85586,     0.85686,     0.85786,     0.85886,     0.85986,     0.86086,     0.86186,     0.86286,     0.86386,\n",
       "           0.86486,     0.86587,     0.86687,     0.86787,     0.86887,     0.86987,     0.87087,     0.87187,     0.87287,     0.87387,     0.87487,     0.87588,     0.87688,     0.87788,     0.87888,     0.87988,     0.88088,     0.88188,     0.88288,     0.88388,     0.88488,     0.88589,     0.88689,     0.88789,\n",
       "           0.88889,     0.88989,     0.89089,     0.89189,     0.89289,     0.89389,     0.89489,      0.8959,      0.8969,      0.8979,      0.8989,      0.8999,      0.9009,      0.9019,      0.9029,      0.9039,      0.9049,     0.90591,     0.90691,     0.90791,     0.90891,     0.90991,     0.91091,     0.91191,\n",
       "           0.91291,     0.91391,     0.91491,     0.91592,     0.91692,     0.91792,     0.91892,     0.91992,     0.92092,     0.92192,     0.92292,     0.92392,     0.92492,     0.92593,     0.92693,     0.92793,     0.92893,     0.92993,     0.93093,     0.93193,     0.93293,     0.93393,     0.93493,     0.93594,\n",
       "           0.93694,     0.93794,     0.93894,     0.93994,     0.94094,     0.94194,     0.94294,     0.94394,     0.94494,     0.94595,     0.94695,     0.94795,     0.94895,     0.94995,     0.95095,     0.95195,     0.95295,     0.95395,     0.95495,     0.95596,     0.95696,     0.95796,     0.95896,     0.95996,\n",
       "           0.96096,     0.96196,     0.96296,     0.96396,     0.96496,     0.96597,     0.96697,     0.96797,     0.96897,     0.96997,     0.97097,     0.97197,     0.97297,     0.97397,     0.97497,     0.97598,     0.97698,     0.97798,     0.97898,     0.97998,     0.98098,     0.98198,     0.98298,     0.98398,\n",
       "           0.98498,     0.98599,     0.98699,     0.98799,     0.98899,     0.98999,     0.99099,     0.99199,     0.99299,     0.99399,     0.99499,       0.996,       0.997,       0.998,       0.999,           1]), array([[   0.018219,    0.018219,    0.019935,     0.02625,    0.048995,    0.076564,    0.092934,     0.10809,     0.11873,     0.12896,     0.13658,     0.14477,     0.15231,     0.15989,     0.16816,      0.1754,     0.18144,     0.18824,      0.1952,     0.20117,     0.20679,       0.211,      0.2168,\n",
       "            0.21985,     0.22504,     0.23032,      0.2354,     0.24127,     0.24673,     0.25031,      0.2533,     0.26017,     0.26371,     0.26752,     0.27005,     0.27236,     0.27508,     0.27976,     0.28237,     0.28894,      0.2923,      0.2975,     0.30059,     0.30602,     0.31044,      0.3142,\n",
       "            0.31424,     0.31642,     0.31923,     0.32169,     0.32556,     0.32537,     0.32905,     0.33203,     0.33654,     0.33953,     0.34487,     0.34657,     0.34798,     0.35139,     0.35212,     0.35402,     0.35842,     0.36039,     0.36187,     0.36551,      0.3695,      0.3742,      0.3778,\n",
       "            0.38102,     0.38261,     0.38568,      0.3878,     0.39071,     0.39041,     0.39364,     0.39387,     0.39614,      0.3992,     0.40166,     0.40165,     0.40353,     0.40495,     0.40578,      0.4076,      0.4112,     0.41345,     0.41516,     0.41605,      0.4187,     0.42015,     0.42147,\n",
       "            0.42336,     0.42502,     0.42718,     0.43067,     0.43237,     0.43395,     0.43523,      0.4357,     0.43884,     0.43962,     0.44081,     0.44212,     0.44248,       0.444,     0.44661,     0.45029,     0.45191,     0.45294,     0.45453,     0.45639,     0.45765,     0.45712,     0.45716,\n",
       "             0.4599,     0.46291,     0.46502,     0.46764,     0.47302,     0.47667,     0.47738,     0.48098,     0.47919,     0.48025,     0.48195,     0.48341,     0.48525,     0.48378,       0.485,     0.48597,      0.4896,     0.49364,     0.49426,     0.49542,     0.49657,     0.49858,     0.50134,\n",
       "            0.50184,     0.50345,     0.50443,     0.50377,     0.50226,     0.50325,     0.50411,     0.50649,     0.50789,     0.50836,     0.51033,     0.50922,     0.50774,     0.50861,     0.50972,     0.51038,     0.51047,     0.51046,      0.5125,     0.51333,      0.5163,      0.5193,     0.52094,\n",
       "            0.52204,     0.52342,     0.52444,     0.52519,     0.52594,     0.52682,     0.52775,     0.52898,     0.52908,     0.53242,       0.531,     0.52686,     0.52691,     0.52606,     0.52784,     0.53063,     0.53273,      0.5331,     0.53347,     0.53383,      0.5342,     0.53456,     0.53513,\n",
       "            0.53589,     0.53663,     0.53754,     0.53861,      0.5359,     0.53421,     0.53464,     0.53612,     0.53733,     0.53645,     0.53558,      0.5347,     0.53555,     0.53618,     0.53676,     0.53764,     0.53797,     0.53691,     0.53807,     0.53646,     0.53727,     0.53771,     0.53805,\n",
       "            0.53839,     0.53908,     0.54004,     0.54046,     0.54087,     0.53928,     0.54018,     0.54106,      0.5418,     0.54334,     0.54412,     0.54523,     0.54206,     0.54029,     0.53943,     0.53694,     0.53526,     0.53619,     0.53678,     0.53799,      0.5392,     0.53633,       0.536,\n",
       "            0.53418,     0.53156,     0.53133,     0.53048,     0.53193,       0.529,     0.53011,     0.52968,     0.52836,     0.52703,     0.52445,     0.52382,     0.52608,     0.52865,     0.53121,     0.52842,     0.52176,      0.5199,      0.5163,     0.52012,     0.51712,     0.51285,      0.5133,\n",
       "            0.51374,     0.51444,      0.5154,     0.51597,     0.51653,      0.5208,     0.52168,     0.51953,     0.51942,     0.52059,     0.51716,     0.51383,     0.51375,      0.5144,     0.51527,     0.51759,     0.51852,     0.51945,     0.51619,     0.51672,     0.51726,     0.51803,     0.52038,\n",
       "            0.52148,     0.52045,     0.51876,     0.51636,     0.51375,     0.51413,      0.5145,     0.51488,     0.51541,     0.51611,     0.51819,     0.51993,      0.5207,     0.51928,     0.51786,     0.51704,     0.51839,     0.51889,     0.51939,     0.52067,     0.51889,     0.51709,     0.51809,\n",
       "            0.51937,     0.52086,      0.5194,      0.5203,     0.52078,     0.52125,     0.52176,     0.52231,     0.52285,     0.52491,     0.52587,     0.52855,     0.52634,     0.52227,     0.51967,      0.5148,     0.51566,     0.51596,     0.51434,     0.51272,     0.51255,     0.51398,     0.51579,\n",
       "            0.51804,     0.51643,     0.51481,     0.51376,     0.51446,     0.51515,     0.51406,     0.51348,     0.51572,     0.51654,     0.51716,      0.5176,     0.51805,     0.51849,     0.51843,     0.51582,     0.51719,     0.51769,      0.5182,      0.5187,     0.51905,     0.51939,     0.51973,\n",
       "            0.52007,     0.52015,     0.51773,     0.51587,     0.51668,     0.51409,     0.51522,     0.51615,     0.51684,     0.51752,       0.516,     0.51431,     0.51239,     0.50888,     0.50906,     0.50915,     0.50816,     0.50718,     0.50619,      0.5052,     0.50506,     0.50539,     0.50571,\n",
       "            0.50604,     0.50636,     0.50278,     0.50194,      0.5033,     0.50467,     0.50698,     0.50796,     0.50631,      0.5038,     0.50004,     0.49138,     0.49044,     0.48938,     0.48832,     0.48726,     0.48837,     0.49188,     0.49285,     0.49271,     0.49005,     0.48665,     0.48447,\n",
       "            0.48526,     0.48553,     0.48312,      0.4807,     0.47639,     0.47441,     0.47243,     0.46639,     0.46614,     0.46054,     0.45873,     0.45693,     0.45281,     0.44792,     0.44173,     0.43363,     0.43244,     0.43125,     0.43005,     0.42885,     0.42831,     0.42914,     0.42842,\n",
       "            0.42538,     0.42217,     0.41876,     0.41681,     0.41533,     0.41386,     0.41239,     0.41065,     0.40882,     0.40698,     0.40723,     0.40239,     0.40205,     0.40269,     0.40107,     0.39723,      0.3989,     0.39949,     0.40004,     0.40036,     0.40067,     0.40099,     0.40131,\n",
       "            0.40176,     0.40265,     0.40489,     0.40633,     0.40699,     0.40765,     0.40884,     0.40829,     0.40621,     0.40413,      0.4036,     0.40441,     0.40436,     0.40365,     0.40293,     0.40222,     0.40151,      0.4008,     0.40009,     0.39937,     0.39866,     0.39701,     0.39486,\n",
       "            0.39271,     0.39136,      0.3904,     0.38944,     0.38848,     0.38752,     0.38655,     0.38559,     0.38167,     0.37859,     0.37734,     0.37609,     0.37484,     0.37359,      0.3723,     0.37059,     0.36888,     0.36716,     0.36595,     0.36635,     0.36675,     0.36714,     0.36656,\n",
       "            0.36494,     0.36332,     0.36169,     0.36131,     0.36227,     0.36251,     0.36275,     0.36298,     0.36322,     0.36346,     0.36405,     0.36482,     0.36391,       0.363,     0.36209,     0.36118,     0.36026,     0.35935,     0.35843,     0.35737,     0.35628,     0.35519,     0.35411,\n",
       "            0.35302,     0.35193,     0.35172,     0.35217,     0.35262,     0.35209,     0.34903,     0.34587,     0.33468,     0.32681,     0.31894,     0.31832,     0.31753,     0.31674,     0.31595,     0.31516,     0.31437,     0.31358,     0.31278,     0.31199,     0.31201,     0.31252,     0.31302,\n",
       "            0.29699,     0.29176,      0.2852,     0.28463,     0.28481,       0.285,     0.28518,     0.28537,     0.28555,     0.28558,     0.28442,     0.28325,     0.28208,     0.28091,     0.27975,     0.27858,     0.27817,     0.27842,     0.27868,     0.27894,     0.27919,     0.28036,     0.27604,\n",
       "            0.27134,      0.2674,     0.26398,     0.26155,     0.25912,     0.25669,     0.25433,     0.25197,      0.2496,     0.24922,     0.24976,     0.25137,     0.25216,     0.24933,      0.2465,     0.24421,     0.24466,     0.24511,     0.23932,     0.23556,      0.2337,     0.23185,     0.22999,\n",
       "            0.22862,     0.22882,     0.22902,     0.22922,     0.22942,     0.22962,     0.22996,     0.23034,     0.23071,     0.23134,     0.23141,     0.22886,     0.22631,     0.22374,     0.21426,     0.21238,      0.2105,     0.20862,     0.20673,      0.2052,     0.20397,     0.20273,     0.20149,\n",
       "            0.20025,     0.19901,     0.19777,     0.19651,     0.19523,     0.19394,     0.19266,     0.19137,     0.19009,      0.1888,     0.18441,     0.17922,     0.17954,     0.17987,     0.17536,     0.16985,     0.16524,     0.16045,      0.1554,     0.15215,     0.15047,     0.14878,     0.14709,\n",
       "             0.1454,      0.1437,     0.13848,     0.13332,     0.12957,     0.12581,      0.1244,     0.12448,     0.12456,     0.12464,     0.12471,     0.12479,     0.12486,     0.12493,     0.12482,     0.12286,      0.1209,     0.11893,     0.11696,     0.11502,      0.1134,     0.11177,     0.11014,\n",
       "            0.10851,     0.10688,     0.10526,     0.10535,     0.10543,     0.10551,      0.1056,     0.10567,     0.10575,     0.10556,     0.10305,     0.10054,    0.098016,    0.095571,    0.093849,    0.092124,    0.090397,    0.088669,    0.086938,    0.085273,    0.083868,    0.082463,    0.081056,\n",
       "           0.079648,    0.078238,    0.076827,    0.075415,     0.06927,    0.064733,    0.064349,    0.063964,     0.06358,    0.063195,     0.06281,    0.062426,    0.062041,    0.061656,    0.061271,    0.060886,    0.060501,    0.060116,     0.05973,    0.059345,    0.058959,    0.058574,    0.058188,\n",
       "           0.057802,    0.057417,    0.057031,    0.056645,    0.056259,    0.055872,    0.055486,      0.0551,    0.054713,    0.054348,     0.05436,    0.054372,    0.054384,    0.054395,    0.054407,    0.054418,     0.05443,    0.054441,    0.054452,    0.054463,    0.054474,    0.054485,    0.054495,\n",
       "           0.054506,    0.054517,    0.054527,    0.054538,    0.054548,    0.054558,    0.054568,    0.054578,    0.054588,    0.054598,    0.054608,    0.054618,    0.054628,    0.054637,    0.054191,    0.051998,    0.049803,    0.047605,    0.045403,    0.043968,    0.044001,    0.044033,    0.044064,\n",
       "           0.044094,    0.044122,     0.04415,    0.044177,      0.0442,    0.044205,     0.04421,    0.044215,     0.04422,    0.044225,     0.04423,    0.044234,    0.044239,    0.044244,    0.044249,    0.044254,    0.044258,    0.044263,    0.044268,    0.044272,    0.044277,    0.044281,    0.044286,\n",
       "            0.04429,    0.044295,    0.044299,    0.044304,    0.044308,    0.044313,    0.044317,    0.044321,    0.044326,     0.04433,    0.044334,    0.044338,    0.044342,    0.044347,    0.044351,    0.044355,    0.044359,    0.044363,    0.044367,    0.044371,    0.044375,    0.044379,    0.044383,\n",
       "           0.044387,    0.044391,    0.044395,    0.044398,    0.044402,    0.044406,     0.04441,    0.044414,    0.044417,    0.044421,    0.044425,    0.044428,    0.044432,    0.044436,    0.044439,    0.044443,    0.043561,    0.042003,    0.040442,     0.03888,    0.037316,     0.03575,    0.034181,\n",
       "           0.033424,     0.03326,    0.033095,    0.032931,    0.032766,    0.032602,    0.032437,    0.032272,    0.032108,    0.031943,    0.031778,    0.031614,    0.031449,    0.031284,     0.03112,    0.030955,     0.03079,    0.030625,    0.030461,    0.030296,    0.030131,    0.029966,    0.029801,\n",
       "           0.029636,    0.029471,    0.029306,    0.029141,    0.028976,    0.028811,    0.028646,    0.028481,    0.028316,    0.028151,    0.027986,    0.027821,    0.027656,    0.027491,    0.027326,    0.027161,    0.026995,     0.02683,    0.026665,      0.0265,    0.026334,    0.026169,    0.026004,\n",
       "           0.025838,    0.025673,    0.025508,    0.025342,    0.025177,    0.025011,    0.024846,     0.02468,    0.024515,    0.024349,    0.024184,    0.024018,    0.023853,    0.023687,    0.023521,    0.023356,     0.02319,    0.023024,    0.022859,    0.022693,    0.022527,    0.021073,    0.018976,\n",
       "           0.016877,    0.014776,    0.012672,    0.003599,           0,           0,           0,           0,           0,           0,           0,           0,           0,           0,           0,           0,           0,           0,           0,           0,           0,           0,           0,\n",
       "                  0,           0,           0,           0,           0,           0,           0,           0,           0,           0,           0,           0,           0,           0,           0,           0,           0,           0,           0,           0,           0,           0,           0,\n",
       "                  0,           0,           0,           0,           0,           0,           0,           0,           0,           0,           0,           0,           0,           0,           0,           0,           0,           0,           0,           0,           0,           0,           0,\n",
       "                  0,           0,           0,           0,           0,           0,           0,           0,           0,           0,           0,           0,           0,           0,           0,           0,           0,           0,           0,           0,           0,           0,           0,\n",
       "                  0,           0,           0,           0,           0,           0,           0,           0,           0,           0,           0,           0,           0,           0,           0,           0,           0,           0,           0,           0,           0,           0,           0,\n",
       "                  0,           0,           0,           0,           0,           0,           0,           0,           0,           0,           0]]), 'Confidence', 'F1'], [array([          0,    0.001001,    0.002002,    0.003003,    0.004004,    0.005005,    0.006006,    0.007007,    0.008008,    0.009009,     0.01001,    0.011011,    0.012012,    0.013013,    0.014014,    0.015015,    0.016016,    0.017017,    0.018018,    0.019019,     0.02002,    0.021021,    0.022022,    0.023023,\n",
       "          0.024024,    0.025025,    0.026026,    0.027027,    0.028028,    0.029029,     0.03003,    0.031031,    0.032032,    0.033033,    0.034034,    0.035035,    0.036036,    0.037037,    0.038038,    0.039039,     0.04004,    0.041041,    0.042042,    0.043043,    0.044044,    0.045045,    0.046046,    0.047047,\n",
       "          0.048048,    0.049049,     0.05005,    0.051051,    0.052052,    0.053053,    0.054054,    0.055055,    0.056056,    0.057057,    0.058058,    0.059059,     0.06006,    0.061061,    0.062062,    0.063063,    0.064064,    0.065065,    0.066066,    0.067067,    0.068068,    0.069069,     0.07007,    0.071071,\n",
       "          0.072072,    0.073073,    0.074074,    0.075075,    0.076076,    0.077077,    0.078078,    0.079079,     0.08008,    0.081081,    0.082082,    0.083083,    0.084084,    0.085085,    0.086086,    0.087087,    0.088088,    0.089089,     0.09009,    0.091091,    0.092092,    0.093093,    0.094094,    0.095095,\n",
       "          0.096096,    0.097097,    0.098098,    0.099099,      0.1001,      0.1011,      0.1021,      0.1031,      0.1041,     0.10511,     0.10611,     0.10711,     0.10811,     0.10911,     0.11011,     0.11111,     0.11211,     0.11311,     0.11411,     0.11512,     0.11612,     0.11712,     0.11812,     0.11912,\n",
       "           0.12012,     0.12112,     0.12212,     0.12312,     0.12412,     0.12513,     0.12613,     0.12713,     0.12813,     0.12913,     0.13013,     0.13113,     0.13213,     0.13313,     0.13413,     0.13514,     0.13614,     0.13714,     0.13814,     0.13914,     0.14014,     0.14114,     0.14214,     0.14314,\n",
       "           0.14414,     0.14515,     0.14615,     0.14715,     0.14815,     0.14915,     0.15015,     0.15115,     0.15215,     0.15315,     0.15415,     0.15516,     0.15616,     0.15716,     0.15816,     0.15916,     0.16016,     0.16116,     0.16216,     0.16316,     0.16416,     0.16517,     0.16617,     0.16717,\n",
       "           0.16817,     0.16917,     0.17017,     0.17117,     0.17217,     0.17317,     0.17417,     0.17518,     0.17618,     0.17718,     0.17818,     0.17918,     0.18018,     0.18118,     0.18218,     0.18318,     0.18418,     0.18519,     0.18619,     0.18719,     0.18819,     0.18919,     0.19019,     0.19119,\n",
       "           0.19219,     0.19319,     0.19419,      0.1952,      0.1962,      0.1972,      0.1982,      0.1992,      0.2002,      0.2012,      0.2022,      0.2032,      0.2042,     0.20521,     0.20621,     0.20721,     0.20821,     0.20921,     0.21021,     0.21121,     0.21221,     0.21321,     0.21421,     0.21522,\n",
       "           0.21622,     0.21722,     0.21822,     0.21922,     0.22022,     0.22122,     0.22222,     0.22322,     0.22422,     0.22523,     0.22623,     0.22723,     0.22823,     0.22923,     0.23023,     0.23123,     0.23223,     0.23323,     0.23423,     0.23524,     0.23624,     0.23724,     0.23824,     0.23924,\n",
       "           0.24024,     0.24124,     0.24224,     0.24324,     0.24424,     0.24525,     0.24625,     0.24725,     0.24825,     0.24925,     0.25025,     0.25125,     0.25225,     0.25325,     0.25425,     0.25526,     0.25626,     0.25726,     0.25826,     0.25926,     0.26026,     0.26126,     0.26226,     0.26326,\n",
       "           0.26426,     0.26527,     0.26627,     0.26727,     0.26827,     0.26927,     0.27027,     0.27127,     0.27227,     0.27327,     0.27427,     0.27528,     0.27628,     0.27728,     0.27828,     0.27928,     0.28028,     0.28128,     0.28228,     0.28328,     0.28428,     0.28529,     0.28629,     0.28729,\n",
       "           0.28829,     0.28929,     0.29029,     0.29129,     0.29229,     0.29329,     0.29429,      0.2953,      0.2963,      0.2973,      0.2983,      0.2993,      0.3003,      0.3013,      0.3023,      0.3033,      0.3043,     0.30531,     0.30631,     0.30731,     0.30831,     0.30931,     0.31031,     0.31131,\n",
       "           0.31231,     0.31331,     0.31431,     0.31532,     0.31632,     0.31732,     0.31832,     0.31932,     0.32032,     0.32132,     0.32232,     0.32332,     0.32432,     0.32533,     0.32633,     0.32733,     0.32833,     0.32933,     0.33033,     0.33133,     0.33233,     0.33333,     0.33433,     0.33534,\n",
       "           0.33634,     0.33734,     0.33834,     0.33934,     0.34034,     0.34134,     0.34234,     0.34334,     0.34434,     0.34535,     0.34635,     0.34735,     0.34835,     0.34935,     0.35035,     0.35135,     0.35235,     0.35335,     0.35435,     0.35536,     0.35636,     0.35736,     0.35836,     0.35936,\n",
       "           0.36036,     0.36136,     0.36236,     0.36336,     0.36436,     0.36537,     0.36637,     0.36737,     0.36837,     0.36937,     0.37037,     0.37137,     0.37237,     0.37337,     0.37437,     0.37538,     0.37638,     0.37738,     0.37838,     0.37938,     0.38038,     0.38138,     0.38238,     0.38338,\n",
       "           0.38438,     0.38539,     0.38639,     0.38739,     0.38839,     0.38939,     0.39039,     0.39139,     0.39239,     0.39339,     0.39439,      0.3954,      0.3964,      0.3974,      0.3984,      0.3994,      0.4004,      0.4014,      0.4024,      0.4034,      0.4044,     0.40541,     0.40641,     0.40741,\n",
       "           0.40841,     0.40941,     0.41041,     0.41141,     0.41241,     0.41341,     0.41441,     0.41542,     0.41642,     0.41742,     0.41842,     0.41942,     0.42042,     0.42142,     0.42242,     0.42342,     0.42442,     0.42543,     0.42643,     0.42743,     0.42843,     0.42943,     0.43043,     0.43143,\n",
       "           0.43243,     0.43343,     0.43443,     0.43544,     0.43644,     0.43744,     0.43844,     0.43944,     0.44044,     0.44144,     0.44244,     0.44344,     0.44444,     0.44545,     0.44645,     0.44745,     0.44845,     0.44945,     0.45045,     0.45145,     0.45245,     0.45345,     0.45445,     0.45546,\n",
       "           0.45646,     0.45746,     0.45846,     0.45946,     0.46046,     0.46146,     0.46246,     0.46346,     0.46446,     0.46547,     0.46647,     0.46747,     0.46847,     0.46947,     0.47047,     0.47147,     0.47247,     0.47347,     0.47447,     0.47548,     0.47648,     0.47748,     0.47848,     0.47948,\n",
       "           0.48048,     0.48148,     0.48248,     0.48348,     0.48448,     0.48549,     0.48649,     0.48749,     0.48849,     0.48949,     0.49049,     0.49149,     0.49249,     0.49349,     0.49449,      0.4955,      0.4965,      0.4975,      0.4985,      0.4995,      0.5005,      0.5015,      0.5025,      0.5035,\n",
       "            0.5045,     0.50551,     0.50651,     0.50751,     0.50851,     0.50951,     0.51051,     0.51151,     0.51251,     0.51351,     0.51451,     0.51552,     0.51652,     0.51752,     0.51852,     0.51952,     0.52052,     0.52152,     0.52252,     0.52352,     0.52452,     0.52553,     0.52653,     0.52753,\n",
       "           0.52853,     0.52953,     0.53053,     0.53153,     0.53253,     0.53353,     0.53453,     0.53554,     0.53654,     0.53754,     0.53854,     0.53954,     0.54054,     0.54154,     0.54254,     0.54354,     0.54454,     0.54555,     0.54655,     0.54755,     0.54855,     0.54955,     0.55055,     0.55155,\n",
       "           0.55255,     0.55355,     0.55455,     0.55556,     0.55656,     0.55756,     0.55856,     0.55956,     0.56056,     0.56156,     0.56256,     0.56356,     0.56456,     0.56557,     0.56657,     0.56757,     0.56857,     0.56957,     0.57057,     0.57157,     0.57257,     0.57357,     0.57457,     0.57558,\n",
       "           0.57658,     0.57758,     0.57858,     0.57958,     0.58058,     0.58158,     0.58258,     0.58358,     0.58458,     0.58559,     0.58659,     0.58759,     0.58859,     0.58959,     0.59059,     0.59159,     0.59259,     0.59359,     0.59459,      0.5956,      0.5966,      0.5976,      0.5986,      0.5996,\n",
       "            0.6006,      0.6016,      0.6026,      0.6036,      0.6046,     0.60561,     0.60661,     0.60761,     0.60861,     0.60961,     0.61061,     0.61161,     0.61261,     0.61361,     0.61461,     0.61562,     0.61662,     0.61762,     0.61862,     0.61962,     0.62062,     0.62162,     0.62262,     0.62362,\n",
       "           0.62462,     0.62563,     0.62663,     0.62763,     0.62863,     0.62963,     0.63063,     0.63163,     0.63263,     0.63363,     0.63463,     0.63564,     0.63664,     0.63764,     0.63864,     0.63964,     0.64064,     0.64164,     0.64264,     0.64364,     0.64464,     0.64565,     0.64665,     0.64765,\n",
       "           0.64865,     0.64965,     0.65065,     0.65165,     0.65265,     0.65365,     0.65465,     0.65566,     0.65666,     0.65766,     0.65866,     0.65966,     0.66066,     0.66166,     0.66266,     0.66366,     0.66466,     0.66567,     0.66667,     0.66767,     0.66867,     0.66967,     0.67067,     0.67167,\n",
       "           0.67267,     0.67367,     0.67467,     0.67568,     0.67668,     0.67768,     0.67868,     0.67968,     0.68068,     0.68168,     0.68268,     0.68368,     0.68468,     0.68569,     0.68669,     0.68769,     0.68869,     0.68969,     0.69069,     0.69169,     0.69269,     0.69369,     0.69469,      0.6957,\n",
       "            0.6967,      0.6977,      0.6987,      0.6997,      0.7007,      0.7017,      0.7027,      0.7037,      0.7047,     0.70571,     0.70671,     0.70771,     0.70871,     0.70971,     0.71071,     0.71171,     0.71271,     0.71371,     0.71471,     0.71572,     0.71672,     0.71772,     0.71872,     0.71972,\n",
       "           0.72072,     0.72172,     0.72272,     0.72372,     0.72472,     0.72573,     0.72673,     0.72773,     0.72873,     0.72973,     0.73073,     0.73173,     0.73273,     0.73373,     0.73473,     0.73574,     0.73674,     0.73774,     0.73874,     0.73974,     0.74074,     0.74174,     0.74274,     0.74374,\n",
       "           0.74474,     0.74575,     0.74675,     0.74775,     0.74875,     0.74975,     0.75075,     0.75175,     0.75275,     0.75375,     0.75475,     0.75576,     0.75676,     0.75776,     0.75876,     0.75976,     0.76076,     0.76176,     0.76276,     0.76376,     0.76476,     0.76577,     0.76677,     0.76777,\n",
       "           0.76877,     0.76977,     0.77077,     0.77177,     0.77277,     0.77377,     0.77477,     0.77578,     0.77678,     0.77778,     0.77878,     0.77978,     0.78078,     0.78178,     0.78278,     0.78378,     0.78478,     0.78579,     0.78679,     0.78779,     0.78879,     0.78979,     0.79079,     0.79179,\n",
       "           0.79279,     0.79379,     0.79479,      0.7958,      0.7968,      0.7978,      0.7988,      0.7998,      0.8008,      0.8018,      0.8028,      0.8038,      0.8048,     0.80581,     0.80681,     0.80781,     0.80881,     0.80981,     0.81081,     0.81181,     0.81281,     0.81381,     0.81481,     0.81582,\n",
       "           0.81682,     0.81782,     0.81882,     0.81982,     0.82082,     0.82182,     0.82282,     0.82382,     0.82482,     0.82583,     0.82683,     0.82783,     0.82883,     0.82983,     0.83083,     0.83183,     0.83283,     0.83383,     0.83483,     0.83584,     0.83684,     0.83784,     0.83884,     0.83984,\n",
       "           0.84084,     0.84184,     0.84284,     0.84384,     0.84484,     0.84585,     0.84685,     0.84785,     0.84885,     0.84985,     0.85085,     0.85185,     0.85285,     0.85385,     0.85485,     0.85586,     0.85686,     0.85786,     0.85886,     0.85986,     0.86086,     0.86186,     0.86286,     0.86386,\n",
       "           0.86486,     0.86587,     0.86687,     0.86787,     0.86887,     0.86987,     0.87087,     0.87187,     0.87287,     0.87387,     0.87487,     0.87588,     0.87688,     0.87788,     0.87888,     0.87988,     0.88088,     0.88188,     0.88288,     0.88388,     0.88488,     0.88589,     0.88689,     0.88789,\n",
       "           0.88889,     0.88989,     0.89089,     0.89189,     0.89289,     0.89389,     0.89489,      0.8959,      0.8969,      0.8979,      0.8989,      0.8999,      0.9009,      0.9019,      0.9029,      0.9039,      0.9049,     0.90591,     0.90691,     0.90791,     0.90891,     0.90991,     0.91091,     0.91191,\n",
       "           0.91291,     0.91391,     0.91491,     0.91592,     0.91692,     0.91792,     0.91892,     0.91992,     0.92092,     0.92192,     0.92292,     0.92392,     0.92492,     0.92593,     0.92693,     0.92793,     0.92893,     0.92993,     0.93093,     0.93193,     0.93293,     0.93393,     0.93493,     0.93594,\n",
       "           0.93694,     0.93794,     0.93894,     0.93994,     0.94094,     0.94194,     0.94294,     0.94394,     0.94494,     0.94595,     0.94695,     0.94795,     0.94895,     0.94995,     0.95095,     0.95195,     0.95295,     0.95395,     0.95495,     0.95596,     0.95696,     0.95796,     0.95896,     0.95996,\n",
       "           0.96096,     0.96196,     0.96296,     0.96396,     0.96496,     0.96597,     0.96697,     0.96797,     0.96897,     0.96997,     0.97097,     0.97197,     0.97297,     0.97397,     0.97497,     0.97598,     0.97698,     0.97798,     0.97898,     0.97998,     0.98098,     0.98198,     0.98298,     0.98398,\n",
       "           0.98498,     0.98599,     0.98699,     0.98799,     0.98899,     0.98999,     0.99099,     0.99199,     0.99299,     0.99399,     0.99499,       0.996,       0.997,       0.998,       0.999,           1]), array([[   0.009195,   0.0091951,     0.01007,    0.013305,    0.025131,    0.039892,    0.048923,    0.057397,    0.063458,    0.069375,    0.073877,    0.078783,     0.08332,    0.087876,    0.092901,     0.09741,     0.10122,     0.10547,     0.10987,     0.11376,     0.11737,     0.12019,     0.12397,\n",
       "             0.1261,     0.12953,     0.13303,     0.13643,      0.1404,      0.1441,     0.14655,     0.14861,     0.15336,     0.15583,     0.15849,     0.16048,     0.16211,     0.16404,     0.16737,     0.16948,     0.17423,     0.17668,      0.1805,     0.18278,     0.18681,     0.19011,     0.19294,\n",
       "            0.19358,     0.19555,      0.1977,     0.19959,     0.20258,     0.20278,     0.20564,     0.20798,     0.21153,      0.2139,     0.21815,     0.21951,     0.22105,     0.22382,     0.22441,     0.22596,     0.22955,     0.23117,      0.2324,     0.23541,     0.23872,     0.24266,      0.2457,\n",
       "            0.24843,     0.24979,      0.2524,     0.25422,     0.25673,     0.25704,     0.25985,     0.26064,     0.26263,     0.26533,     0.26751,     0.26813,     0.26996,     0.27175,     0.27249,     0.27414,     0.27741,     0.27945,     0.28102,     0.28184,     0.28428,     0.28561,     0.28683,\n",
       "            0.28859,     0.29014,     0.29215,     0.29542,     0.29703,     0.29852,     0.29974,     0.30018,     0.30317,     0.30392,     0.30506,     0.30631,     0.30665,     0.30812,     0.31064,     0.31421,     0.31579,      0.3168,     0.31835,     0.32018,     0.32142,      0.3215,     0.32188,\n",
       "             0.3246,     0.32761,     0.32973,     0.33238,     0.33784,     0.34157,     0.34339,     0.34713,     0.34697,     0.34865,     0.35045,       0.352,     0.35395,     0.35358,     0.35489,     0.35593,     0.35985,     0.36422,      0.3649,     0.36617,     0.36743,     0.36963,     0.37267,\n",
       "            0.37322,       0.375,     0.37609,     0.37582,     0.37488,     0.37617,     0.37713,      0.3798,     0.38138,      0.3819,     0.38413,     0.38356,     0.38264,     0.38366,     0.38492,     0.38567,     0.38689,     0.38727,     0.38963,     0.39058,     0.39404,     0.39754,     0.39947,\n",
       "            0.40076,     0.40239,     0.40359,     0.40448,     0.40538,     0.40642,     0.40754,     0.40918,     0.41084,     0.41489,     0.41422,     0.41164,     0.41233,     0.41256,     0.41475,     0.41821,     0.42082,     0.42128,     0.42174,      0.4222,     0.42266,     0.42311,     0.42383,\n",
       "            0.42479,     0.42571,     0.42686,     0.42821,     0.42695,     0.42589,     0.42719,     0.42909,     0.43085,      0.4303,     0.42975,      0.4292,     0.43044,     0.43126,     0.43201,     0.43315,     0.43436,     0.43436,     0.43588,     0.43598,     0.43705,     0.43763,     0.43808,\n",
       "            0.43853,     0.43944,     0.44073,     0.44128,     0.44183,     0.44354,     0.44561,     0.44681,     0.44782,     0.44992,     0.45099,     0.45253,     0.45071,     0.44959,     0.44952,     0.44938,     0.44885,     0.45016,       0.451,     0.45272,     0.45442,     0.45288,     0.45367,\n",
       "            0.45252,     0.45171,     0.45274,     0.45296,     0.45509,     0.45333,     0.45724,     0.45805,     0.45721,     0.45636,     0.45471,     0.45501,     0.45843,     0.46235,     0.46628,     0.46524,     0.46096,     0.46095,     0.45984,     0.46601,     0.46407,     0.46145,     0.46217,\n",
       "            0.46289,     0.46402,      0.4656,     0.46652,     0.46744,     0.47448,     0.47595,     0.47627,     0.48014,     0.48214,      0.4804,     0.47822,     0.47875,     0.47986,     0.48139,     0.48546,     0.48709,     0.48947,     0.48741,     0.48837,     0.48933,     0.49072,     0.49495,\n",
       "            0.49694,     0.49657,     0.49547,     0.49391,     0.49232,     0.49301,      0.4937,     0.49439,     0.49537,     0.49666,     0.50052,     0.50378,     0.50532,      0.5044,     0.50348,     0.50342,     0.50597,     0.50692,     0.50788,     0.51034,     0.50961,     0.50874,     0.51068,\n",
       "            0.51318,     0.51856,      0.5188,     0.52061,     0.52156,     0.52251,     0.52353,     0.52463,     0.52573,     0.52992,     0.53188,     0.53738,     0.53671,     0.53673,     0.53691,     0.53377,      0.5356,      0.5368,     0.53575,     0.53469,     0.53557,      0.5387,      0.5427,\n",
       "            0.54775,      0.5467,     0.54566,     0.54525,     0.54682,     0.54839,     0.55022,     0.55198,     0.55718,      0.5591,     0.56055,      0.5616,     0.56265,      0.5637,     0.56648,     0.56532,     0.56863,     0.56985,     0.57106,     0.57228,     0.57315,     0.57398,     0.57481,\n",
       "            0.57564,     0.57625,      0.5747,     0.57378,      0.5758,     0.57538,     0.58093,     0.58331,     0.58507,     0.58682,     0.58596,     0.58488,     0.58366,     0.58142,     0.58355,     0.58485,     0.58421,     0.58358,     0.58295,     0.58231,     0.58265,     0.58351,     0.58438,\n",
       "            0.58525,     0.58611,     0.58647,     0.59455,     0.59839,     0.60227,      0.6089,     0.61174,     0.61161,     0.61107,     0.61159,      0.6099,     0.60951,     0.60882,     0.60814,     0.60746,     0.61333,     0.62451,     0.62765,     0.63264,     0.63097,     0.62882,     0.62813,\n",
       "            0.63079,     0.63278,     0.63125,     0.62972,     0.63177,     0.63049,     0.62921,     0.62659,     0.63009,     0.62642,     0.62523,     0.62403,     0.62127,     0.61797,     0.61373,     0.60811,     0.60727,     0.60642,     0.60558,     0.60474,     0.60524,     0.60854,     0.60967,\n",
       "            0.60751,     0.60521,     0.60276,     0.60134,     0.60027,     0.59919,     0.59812,     0.59684,     0.59548,     0.59412,     0.59977,     0.59615,     0.59785,      0.6007,      0.6008,       0.599,     0.60664,     0.60937,     0.61195,     0.61344,     0.61493,     0.61642,     0.61791,\n",
       "            0.62006,     0.62433,     0.63526,     0.64236,      0.6457,     0.64904,     0.65508,     0.65742,     0.65597,     0.65452,     0.65617,     0.66048,     0.66205,     0.66156,     0.66106,     0.66056,     0.66006,     0.65956,     0.65907,     0.65857,     0.65807,      0.6569,     0.65537,\n",
       "            0.65384,     0.65286,     0.65217,     0.65147,     0.65077,     0.65008,     0.64938,     0.64868,     0.64578,      0.6435,     0.64256,     0.64162,     0.64068,     0.63973,     0.63875,     0.63744,     0.63612,     0.63481,     0.63437,     0.63678,      0.6392,     0.64161,     0.64225,\n",
       "            0.64099,     0.63974,     0.63848,      0.6418,     0.64788,     0.64941,     0.65095,     0.65248,     0.65402,     0.65555,     0.65943,     0.66642,     0.66574,     0.66505,     0.66436,     0.66367,     0.66299,      0.6623,     0.66161,     0.66079,     0.65996,     0.65912,     0.65828,\n",
       "            0.65745,     0.65661,     0.65806,     0.66122,     0.66439,       0.666,     0.66364,      0.6612,     0.65224,     0.64575,     0.63907,     0.64857,     0.64788,      0.6472,     0.64652,     0.64584,     0.64516,     0.64448,      0.6438,     0.64312,     0.64557,     0.64995,     0.65434,\n",
       "            0.64035,     0.63554,      0.6407,     0.64185,     0.64375,     0.64566,     0.64756,     0.64947,     0.65138,     0.65293,     0.65184,     0.65074,     0.64964,     0.64854,     0.64745,     0.64635,     0.64733,     0.65014,     0.65296,     0.65578,     0.65859,      0.6718,     0.66973,\n",
       "            0.66534,     0.66154,     0.65823,     0.65581,     0.65339,     0.65096,     0.64852,     0.64608,     0.64363,     0.64785,     0.65517,     0.67806,     0.69214,     0.68934,     0.68654,     0.68542,     0.69265,     0.69987,     0.69678,     0.69298,     0.69105,     0.68911,     0.68718,\n",
       "             0.6866,     0.69028,     0.69396,     0.69764,     0.70132,       0.705,     0.71143,     0.71873,     0.72604,     0.73874,     0.74956,     0.74716,     0.74475,     0.74235,     0.73294,     0.73096,     0.72898,     0.72701,     0.72503,     0.72338,       0.722,     0.72062,     0.71923,\n",
       "            0.71785,     0.71647,     0.71509,     0.71365,     0.71212,      0.7106,     0.70908,     0.70756,     0.70603,     0.70451,       0.699,     0.69563,     0.70569,     0.71574,     0.71407,     0.73674,     0.73084,     0.72451,     0.71752,     0.71291,     0.71036,     0.70781,     0.70527,\n",
       "            0.70272,     0.70017,     0.69155,     0.68293,     0.67611,      0.6693,     0.66949,     0.67409,     0.67869,      0.6833,      0.6879,      0.6925,      0.6971,      0.7017,     0.70554,     0.70186,     0.69818,      0.6945,     0.69082,     0.68716,     0.68374,     0.68031,     0.67689,\n",
       "            0.67347,     0.67004,     0.66676,     0.67365,     0.68054,     0.68743,     0.69432,     0.70121,      0.7081,     0.71373,     0.70823,     0.70274,     0.69725,     0.69187,     0.68752,     0.68317,     0.67882,     0.67447,     0.67012,     0.66581,     0.66167,     0.65752,     0.65338,\n",
       "            0.64923,     0.64508,     0.64094,     0.63679,     0.61537,     0.59944,     0.59781,     0.59618,     0.59455,     0.59293,      0.5913,     0.58967,     0.58804,     0.58641,     0.58478,     0.58315,     0.58152,      0.5799,     0.57827,     0.57664,     0.57501,     0.57338,     0.57175,\n",
       "            0.57012,      0.5685,     0.56687,     0.56524,     0.56361,     0.56198,     0.56035,     0.55872,     0.55709,     0.55569,     0.55819,     0.56068,     0.56317,     0.56567,     0.56816,     0.57065,     0.57315,     0.57564,     0.57814,     0.58063,     0.58312,     0.58562,     0.58811,\n",
       "             0.5906,      0.5931,     0.59559,     0.59809,     0.60058,     0.60307,     0.60557,     0.60806,     0.61055,     0.61305,     0.61554,     0.61804,     0.62053,     0.62302,     0.62272,      0.6117,     0.60069,     0.58968,     0.57866,     0.57542,     0.58704,     0.59866,     0.61029,\n",
       "            0.62191,     0.63353,     0.64516,     0.65678,     0.66701,     0.66933,     0.67164,     0.67396,     0.67627,     0.67859,     0.68091,     0.68322,     0.68554,     0.68785,     0.69017,     0.69248,      0.6948,     0.69711,     0.69943,     0.70175,     0.70406,     0.70638,     0.70869,\n",
       "            0.71101,     0.71332,     0.71564,     0.71795,     0.72027,     0.72259,      0.7249,     0.72722,     0.72953,     0.73185,     0.73416,     0.73648,     0.73879,     0.74111,     0.74343,     0.74574,     0.74806,     0.75037,     0.75269,       0.755,     0.75732,     0.75963,     0.76195,\n",
       "            0.76426,     0.76658,      0.7689,     0.77121,     0.77353,     0.77584,     0.77816,     0.78047,     0.78279,      0.7851,     0.78742,     0.78974,     0.79205,     0.79437,     0.79668,       0.799,     0.79594,     0.78879,     0.78163,     0.77448,     0.76732,     0.76017,     0.75302,\n",
       "            0.74928,     0.74803,     0.74679,     0.74554,      0.7443,     0.74305,     0.74181,     0.74056,     0.73932,     0.73807,     0.73683,     0.73558,     0.73433,     0.73309,     0.73184,      0.7306,     0.72935,     0.72811,     0.72686,     0.72562,     0.72437,     0.72313,     0.72188,\n",
       "            0.72063,     0.71939,     0.71814,      0.7169,     0.71565,     0.71441,     0.71316,     0.71192,     0.71067,     0.70943,     0.70818,     0.70693,     0.70569,     0.70444,      0.7032,     0.70195,     0.70071,     0.69946,     0.69822,     0.69697,     0.69573,     0.69448,     0.69323,\n",
       "            0.69199,     0.69074,      0.6895,     0.68825,     0.68701,     0.68576,     0.68452,     0.68327,     0.68203,     0.68078,     0.67953,     0.67829,     0.67704,      0.6758,     0.67455,     0.67331,     0.67206,     0.67082,     0.66957,     0.66833,     0.66708,     0.64575,     0.61441,\n",
       "            0.58307,     0.55174,      0.5204,     0.15925,           1,           1,           1,           1,           1,           1,           1,           1,           1,           1,           1,           1,           1,           1,           1,           1,           1,           1,           1,\n",
       "                  1,           1,           1,           1,           1,           1,           1,           1,           1,           1,           1,           1,           1,           1,           1,           1,           1,           1,           1,           1,           1,           1,           1,\n",
       "                  1,           1,           1,           1,           1,           1,           1,           1,           1,           1,           1,           1,           1,           1,           1,           1,           1,           1,           1,           1,           1,           1,           1,\n",
       "                  1,           1,           1,           1,           1,           1,           1,           1,           1,           1,           1,           1,           1,           1,           1,           1,           1,           1,           1,           1,           1,           1,           1,\n",
       "                  1,           1,           1,           1,           1,           1,           1,           1,           1,           1,           1,           1,           1,           1,           1,           1,           1,           1,           1,           1,           1,           1,           1,\n",
       "                  1,           1,           1,           1,           1,           1,           1,           1,           1,           1,           1]]), 'Confidence', 'Precision'], [array([          0,    0.001001,    0.002002,    0.003003,    0.004004,    0.005005,    0.006006,    0.007007,    0.008008,    0.009009,     0.01001,    0.011011,    0.012012,    0.013013,    0.014014,    0.015015,    0.016016,    0.017017,    0.018018,    0.019019,     0.02002,    0.021021,    0.022022,    0.023023,\n",
       "          0.024024,    0.025025,    0.026026,    0.027027,    0.028028,    0.029029,     0.03003,    0.031031,    0.032032,    0.033033,    0.034034,    0.035035,    0.036036,    0.037037,    0.038038,    0.039039,     0.04004,    0.041041,    0.042042,    0.043043,    0.044044,    0.045045,    0.046046,    0.047047,\n",
       "          0.048048,    0.049049,     0.05005,    0.051051,    0.052052,    0.053053,    0.054054,    0.055055,    0.056056,    0.057057,    0.058058,    0.059059,     0.06006,    0.061061,    0.062062,    0.063063,    0.064064,    0.065065,    0.066066,    0.067067,    0.068068,    0.069069,     0.07007,    0.071071,\n",
       "          0.072072,    0.073073,    0.074074,    0.075075,    0.076076,    0.077077,    0.078078,    0.079079,     0.08008,    0.081081,    0.082082,    0.083083,    0.084084,    0.085085,    0.086086,    0.087087,    0.088088,    0.089089,     0.09009,    0.091091,    0.092092,    0.093093,    0.094094,    0.095095,\n",
       "          0.096096,    0.097097,    0.098098,    0.099099,      0.1001,      0.1011,      0.1021,      0.1031,      0.1041,     0.10511,     0.10611,     0.10711,     0.10811,     0.10911,     0.11011,     0.11111,     0.11211,     0.11311,     0.11411,     0.11512,     0.11612,     0.11712,     0.11812,     0.11912,\n",
       "           0.12012,     0.12112,     0.12212,     0.12312,     0.12412,     0.12513,     0.12613,     0.12713,     0.12813,     0.12913,     0.13013,     0.13113,     0.13213,     0.13313,     0.13413,     0.13514,     0.13614,     0.13714,     0.13814,     0.13914,     0.14014,     0.14114,     0.14214,     0.14314,\n",
       "           0.14414,     0.14515,     0.14615,     0.14715,     0.14815,     0.14915,     0.15015,     0.15115,     0.15215,     0.15315,     0.15415,     0.15516,     0.15616,     0.15716,     0.15816,     0.15916,     0.16016,     0.16116,     0.16216,     0.16316,     0.16416,     0.16517,     0.16617,     0.16717,\n",
       "           0.16817,     0.16917,     0.17017,     0.17117,     0.17217,     0.17317,     0.17417,     0.17518,     0.17618,     0.17718,     0.17818,     0.17918,     0.18018,     0.18118,     0.18218,     0.18318,     0.18418,     0.18519,     0.18619,     0.18719,     0.18819,     0.18919,     0.19019,     0.19119,\n",
       "           0.19219,     0.19319,     0.19419,      0.1952,      0.1962,      0.1972,      0.1982,      0.1992,      0.2002,      0.2012,      0.2022,      0.2032,      0.2042,     0.20521,     0.20621,     0.20721,     0.20821,     0.20921,     0.21021,     0.21121,     0.21221,     0.21321,     0.21421,     0.21522,\n",
       "           0.21622,     0.21722,     0.21822,     0.21922,     0.22022,     0.22122,     0.22222,     0.22322,     0.22422,     0.22523,     0.22623,     0.22723,     0.22823,     0.22923,     0.23023,     0.23123,     0.23223,     0.23323,     0.23423,     0.23524,     0.23624,     0.23724,     0.23824,     0.23924,\n",
       "           0.24024,     0.24124,     0.24224,     0.24324,     0.24424,     0.24525,     0.24625,     0.24725,     0.24825,     0.24925,     0.25025,     0.25125,     0.25225,     0.25325,     0.25425,     0.25526,     0.25626,     0.25726,     0.25826,     0.25926,     0.26026,     0.26126,     0.26226,     0.26326,\n",
       "           0.26426,     0.26527,     0.26627,     0.26727,     0.26827,     0.26927,     0.27027,     0.27127,     0.27227,     0.27327,     0.27427,     0.27528,     0.27628,     0.27728,     0.27828,     0.27928,     0.28028,     0.28128,     0.28228,     0.28328,     0.28428,     0.28529,     0.28629,     0.28729,\n",
       "           0.28829,     0.28929,     0.29029,     0.29129,     0.29229,     0.29329,     0.29429,      0.2953,      0.2963,      0.2973,      0.2983,      0.2993,      0.3003,      0.3013,      0.3023,      0.3033,      0.3043,     0.30531,     0.30631,     0.30731,     0.30831,     0.30931,     0.31031,     0.31131,\n",
       "           0.31231,     0.31331,     0.31431,     0.31532,     0.31632,     0.31732,     0.31832,     0.31932,     0.32032,     0.32132,     0.32232,     0.32332,     0.32432,     0.32533,     0.32633,     0.32733,     0.32833,     0.32933,     0.33033,     0.33133,     0.33233,     0.33333,     0.33433,     0.33534,\n",
       "           0.33634,     0.33734,     0.33834,     0.33934,     0.34034,     0.34134,     0.34234,     0.34334,     0.34434,     0.34535,     0.34635,     0.34735,     0.34835,     0.34935,     0.35035,     0.35135,     0.35235,     0.35335,     0.35435,     0.35536,     0.35636,     0.35736,     0.35836,     0.35936,\n",
       "           0.36036,     0.36136,     0.36236,     0.36336,     0.36436,     0.36537,     0.36637,     0.36737,     0.36837,     0.36937,     0.37037,     0.37137,     0.37237,     0.37337,     0.37437,     0.37538,     0.37638,     0.37738,     0.37838,     0.37938,     0.38038,     0.38138,     0.38238,     0.38338,\n",
       "           0.38438,     0.38539,     0.38639,     0.38739,     0.38839,     0.38939,     0.39039,     0.39139,     0.39239,     0.39339,     0.39439,      0.3954,      0.3964,      0.3974,      0.3984,      0.3994,      0.4004,      0.4014,      0.4024,      0.4034,      0.4044,     0.40541,     0.40641,     0.40741,\n",
       "           0.40841,     0.40941,     0.41041,     0.41141,     0.41241,     0.41341,     0.41441,     0.41542,     0.41642,     0.41742,     0.41842,     0.41942,     0.42042,     0.42142,     0.42242,     0.42342,     0.42442,     0.42543,     0.42643,     0.42743,     0.42843,     0.42943,     0.43043,     0.43143,\n",
       "           0.43243,     0.43343,     0.43443,     0.43544,     0.43644,     0.43744,     0.43844,     0.43944,     0.44044,     0.44144,     0.44244,     0.44344,     0.44444,     0.44545,     0.44645,     0.44745,     0.44845,     0.44945,     0.45045,     0.45145,     0.45245,     0.45345,     0.45445,     0.45546,\n",
       "           0.45646,     0.45746,     0.45846,     0.45946,     0.46046,     0.46146,     0.46246,     0.46346,     0.46446,     0.46547,     0.46647,     0.46747,     0.46847,     0.46947,     0.47047,     0.47147,     0.47247,     0.47347,     0.47447,     0.47548,     0.47648,     0.47748,     0.47848,     0.47948,\n",
       "           0.48048,     0.48148,     0.48248,     0.48348,     0.48448,     0.48549,     0.48649,     0.48749,     0.48849,     0.48949,     0.49049,     0.49149,     0.49249,     0.49349,     0.49449,      0.4955,      0.4965,      0.4975,      0.4985,      0.4995,      0.5005,      0.5015,      0.5025,      0.5035,\n",
       "            0.5045,     0.50551,     0.50651,     0.50751,     0.50851,     0.50951,     0.51051,     0.51151,     0.51251,     0.51351,     0.51451,     0.51552,     0.51652,     0.51752,     0.51852,     0.51952,     0.52052,     0.52152,     0.52252,     0.52352,     0.52452,     0.52553,     0.52653,     0.52753,\n",
       "           0.52853,     0.52953,     0.53053,     0.53153,     0.53253,     0.53353,     0.53453,     0.53554,     0.53654,     0.53754,     0.53854,     0.53954,     0.54054,     0.54154,     0.54254,     0.54354,     0.54454,     0.54555,     0.54655,     0.54755,     0.54855,     0.54955,     0.55055,     0.55155,\n",
       "           0.55255,     0.55355,     0.55455,     0.55556,     0.55656,     0.55756,     0.55856,     0.55956,     0.56056,     0.56156,     0.56256,     0.56356,     0.56456,     0.56557,     0.56657,     0.56757,     0.56857,     0.56957,     0.57057,     0.57157,     0.57257,     0.57357,     0.57457,     0.57558,\n",
       "           0.57658,     0.57758,     0.57858,     0.57958,     0.58058,     0.58158,     0.58258,     0.58358,     0.58458,     0.58559,     0.58659,     0.58759,     0.58859,     0.58959,     0.59059,     0.59159,     0.59259,     0.59359,     0.59459,      0.5956,      0.5966,      0.5976,      0.5986,      0.5996,\n",
       "            0.6006,      0.6016,      0.6026,      0.6036,      0.6046,     0.60561,     0.60661,     0.60761,     0.60861,     0.60961,     0.61061,     0.61161,     0.61261,     0.61361,     0.61461,     0.61562,     0.61662,     0.61762,     0.61862,     0.61962,     0.62062,     0.62162,     0.62262,     0.62362,\n",
       "           0.62462,     0.62563,     0.62663,     0.62763,     0.62863,     0.62963,     0.63063,     0.63163,     0.63263,     0.63363,     0.63463,     0.63564,     0.63664,     0.63764,     0.63864,     0.63964,     0.64064,     0.64164,     0.64264,     0.64364,     0.64464,     0.64565,     0.64665,     0.64765,\n",
       "           0.64865,     0.64965,     0.65065,     0.65165,     0.65265,     0.65365,     0.65465,     0.65566,     0.65666,     0.65766,     0.65866,     0.65966,     0.66066,     0.66166,     0.66266,     0.66366,     0.66466,     0.66567,     0.66667,     0.66767,     0.66867,     0.66967,     0.67067,     0.67167,\n",
       "           0.67267,     0.67367,     0.67467,     0.67568,     0.67668,     0.67768,     0.67868,     0.67968,     0.68068,     0.68168,     0.68268,     0.68368,     0.68468,     0.68569,     0.68669,     0.68769,     0.68869,     0.68969,     0.69069,     0.69169,     0.69269,     0.69369,     0.69469,      0.6957,\n",
       "            0.6967,      0.6977,      0.6987,      0.6997,      0.7007,      0.7017,      0.7027,      0.7037,      0.7047,     0.70571,     0.70671,     0.70771,     0.70871,     0.70971,     0.71071,     0.71171,     0.71271,     0.71371,     0.71471,     0.71572,     0.71672,     0.71772,     0.71872,     0.71972,\n",
       "           0.72072,     0.72172,     0.72272,     0.72372,     0.72472,     0.72573,     0.72673,     0.72773,     0.72873,     0.72973,     0.73073,     0.73173,     0.73273,     0.73373,     0.73473,     0.73574,     0.73674,     0.73774,     0.73874,     0.73974,     0.74074,     0.74174,     0.74274,     0.74374,\n",
       "           0.74474,     0.74575,     0.74675,     0.74775,     0.74875,     0.74975,     0.75075,     0.75175,     0.75275,     0.75375,     0.75475,     0.75576,     0.75676,     0.75776,     0.75876,     0.75976,     0.76076,     0.76176,     0.76276,     0.76376,     0.76476,     0.76577,     0.76677,     0.76777,\n",
       "           0.76877,     0.76977,     0.77077,     0.77177,     0.77277,     0.77377,     0.77477,     0.77578,     0.77678,     0.77778,     0.77878,     0.77978,     0.78078,     0.78178,     0.78278,     0.78378,     0.78478,     0.78579,     0.78679,     0.78779,     0.78879,     0.78979,     0.79079,     0.79179,\n",
       "           0.79279,     0.79379,     0.79479,      0.7958,      0.7968,      0.7978,      0.7988,      0.7998,      0.8008,      0.8018,      0.8028,      0.8038,      0.8048,     0.80581,     0.80681,     0.80781,     0.80881,     0.80981,     0.81081,     0.81181,     0.81281,     0.81381,     0.81481,     0.81582,\n",
       "           0.81682,     0.81782,     0.81882,     0.81982,     0.82082,     0.82182,     0.82282,     0.82382,     0.82482,     0.82583,     0.82683,     0.82783,     0.82883,     0.82983,     0.83083,     0.83183,     0.83283,     0.83383,     0.83483,     0.83584,     0.83684,     0.83784,     0.83884,     0.83984,\n",
       "           0.84084,     0.84184,     0.84284,     0.84384,     0.84484,     0.84585,     0.84685,     0.84785,     0.84885,     0.84985,     0.85085,     0.85185,     0.85285,     0.85385,     0.85485,     0.85586,     0.85686,     0.85786,     0.85886,     0.85986,     0.86086,     0.86186,     0.86286,     0.86386,\n",
       "           0.86486,     0.86587,     0.86687,     0.86787,     0.86887,     0.86987,     0.87087,     0.87187,     0.87287,     0.87387,     0.87487,     0.87588,     0.87688,     0.87788,     0.87888,     0.87988,     0.88088,     0.88188,     0.88288,     0.88388,     0.88488,     0.88589,     0.88689,     0.88789,\n",
       "           0.88889,     0.88989,     0.89089,     0.89189,     0.89289,     0.89389,     0.89489,      0.8959,      0.8969,      0.8979,      0.8989,      0.8999,      0.9009,      0.9019,      0.9029,      0.9039,      0.9049,     0.90591,     0.90691,     0.90791,     0.90891,     0.90991,     0.91091,     0.91191,\n",
       "           0.91291,     0.91391,     0.91491,     0.91592,     0.91692,     0.91792,     0.91892,     0.91992,     0.92092,     0.92192,     0.92292,     0.92392,     0.92492,     0.92593,     0.92693,     0.92793,     0.92893,     0.92993,     0.93093,     0.93193,     0.93293,     0.93393,     0.93493,     0.93594,\n",
       "           0.93694,     0.93794,     0.93894,     0.93994,     0.94094,     0.94194,     0.94294,     0.94394,     0.94494,     0.94595,     0.94695,     0.94795,     0.94895,     0.94995,     0.95095,     0.95195,     0.95295,     0.95395,     0.95495,     0.95596,     0.95696,     0.95796,     0.95896,     0.95996,\n",
       "           0.96096,     0.96196,     0.96296,     0.96396,     0.96496,     0.96597,     0.96697,     0.96797,     0.96897,     0.96997,     0.97097,     0.97197,     0.97297,     0.97397,     0.97497,     0.97598,     0.97698,     0.97798,     0.97898,     0.97998,     0.98098,     0.98198,     0.98298,     0.98398,\n",
       "           0.98498,     0.98599,     0.98699,     0.98799,     0.98899,     0.98999,     0.99099,     0.99199,     0.99299,     0.99399,     0.99499,       0.996,       0.997,       0.998,       0.999,           1]), array([[    0.97714,     0.97714,     0.97714,     0.97143,     0.97143,     0.94857,     0.92571,     0.92571,        0.92,     0.91429,     0.90286,     0.89143,     0.88571,     0.88571,     0.88571,        0.88,     0.87429,     0.87429,     0.87429,     0.86857,     0.86857,     0.86286,     0.86286,\n",
       "            0.85714,     0.85714,     0.85714,     0.85714,     0.85714,     0.85714,     0.85714,     0.85714,     0.85714,     0.85714,     0.85714,     0.85143,     0.85143,     0.85143,     0.85143,     0.84571,     0.84571,     0.84571,     0.84571,     0.84571,     0.84571,     0.84571,     0.84571,\n",
       "            0.83429,     0.82857,     0.82857,     0.82857,     0.82857,     0.82286,     0.82286,     0.82286,     0.82286,     0.82286,     0.82286,     0.82286,     0.81714,     0.81714,     0.81714,     0.81714,     0.81714,     0.81714,     0.81714,     0.81714,     0.81714,     0.81714,     0.81714,\n",
       "            0.81714,     0.81714,     0.81714,     0.81714,     0.81714,     0.81143,     0.81143,     0.80571,     0.80571,     0.80571,     0.80571,         0.8,     0.79873,     0.79429,     0.79429,     0.79429,     0.79429,     0.79429,     0.79429,     0.79429,     0.79429,     0.79429,     0.79429,\n",
       "            0.79429,     0.79429,     0.79429,     0.79429,     0.79429,     0.79429,     0.79429,     0.79429,     0.79429,     0.79429,     0.79429,     0.79429,     0.79429,     0.79429,     0.79429,     0.79429,     0.79429,     0.79429,     0.79429,     0.79429,     0.79429,     0.79063,     0.78857,\n",
       "            0.78857,     0.78857,     0.78857,     0.78857,     0.78857,     0.78857,     0.78286,     0.78286,     0.77422,     0.77143,     0.77143,     0.77143,     0.77143,     0.76571,     0.76571,     0.76571,     0.76571,     0.76571,     0.76571,     0.76571,     0.76571,     0.76571,     0.76571,\n",
       "            0.76571,     0.76571,     0.76571,     0.76381,     0.76075,        0.76,        0.76,        0.76,        0.76,        0.76,        0.76,     0.75734,     0.75437,     0.75429,     0.75429,     0.75429,     0.75003,     0.74857,     0.74857,     0.74857,     0.74857,     0.74857,     0.74857,\n",
       "            0.74857,     0.74857,     0.74857,     0.74857,     0.74857,     0.74857,     0.74857,     0.74798,     0.74286,     0.74286,     0.73946,     0.73163,      0.7297,     0.72571,     0.72571,     0.72571,     0.72571,     0.72571,     0.72571,     0.72571,     0.72571,     0.72571,     0.72571,\n",
       "            0.72571,     0.72571,     0.72571,     0.72571,      0.7195,     0.71641,     0.71429,     0.71429,     0.71374,     0.71215,     0.71055,     0.70896,     0.70857,     0.70857,     0.70857,     0.70857,     0.70648,     0.70286,     0.70286,     0.69714,     0.69714,     0.69714,     0.69714,\n",
       "            0.69714,     0.69714,     0.69714,     0.69714,     0.69714,     0.68775,     0.68571,     0.68571,     0.68571,     0.68571,     0.68571,     0.68571,     0.67987,     0.67682,     0.67429,     0.66689,     0.66286,     0.66286,     0.66286,     0.66286,     0.66286,     0.65748,     0.65483,\n",
       "            0.65179,     0.64571,     0.64294,        0.64,        0.64,     0.63499,     0.63062,     0.62787,     0.62573,      0.6236,     0.61945,     0.61714,     0.61714,     0.61714,     0.61714,     0.61147,     0.60104,     0.59614,     0.58857,     0.58845,     0.58387,     0.57714,     0.57714,\n",
       "            0.57714,     0.57714,     0.57714,     0.57714,     0.57714,     0.57714,     0.57714,     0.57143,     0.56571,     0.56571,     0.56001,     0.55516,     0.55429,     0.55429,     0.55429,     0.55429,     0.55429,     0.55335,     0.54857,     0.54857,     0.54857,     0.54857,     0.54857,\n",
       "            0.54857,     0.54674,     0.54435,     0.54095,     0.53714,     0.53714,     0.53714,     0.53714,     0.53714,     0.53714,     0.53714,     0.53714,     0.53703,     0.53506,     0.53309,     0.53143,     0.53143,     0.53143,     0.53143,     0.53143,     0.52851,     0.52571,     0.52571,\n",
       "            0.52571,     0.52317,        0.52,        0.52,        0.52,        0.52,        0.52,        0.52,        0.52,        0.52,        0.52,        0.52,     0.51636,     0.50857,     0.50351,     0.49714,     0.49714,     0.49668,     0.49458,     0.49248,     0.49143,     0.49143,     0.49143,\n",
       "            0.49138,     0.48933,     0.48727,     0.48571,     0.48571,     0.48571,     0.48235,        0.48,        0.48,        0.48,        0.48,        0.48,        0.48,        0.48,     0.47789,     0.47429,     0.47429,     0.47429,     0.47429,     0.47429,     0.47429,     0.47429,     0.47429,\n",
       "            0.47429,     0.47401,     0.47103,     0.46857,     0.46857,      0.4646,     0.46286,     0.46286,     0.46286,     0.46286,     0.46097,     0.45893,     0.45662,     0.45243,     0.45143,      0.4508,     0.44963,     0.44847,      0.4473,     0.44613,     0.44571,     0.44571,     0.44571,\n",
       "            0.44571,     0.44571,        0.44,     0.43429,     0.43429,     0.43429,     0.43429,     0.43429,     0.43194,     0.42857,      0.4229,     0.41143,     0.41029,     0.40912,     0.40795,     0.40678,     0.40571,     0.40571,     0.40571,     0.40347,     0.40059,     0.39691,     0.39429,\n",
       "            0.39429,     0.39388,      0.3913,     0.38872,     0.38236,     0.38027,     0.37819,     0.37143,     0.36989,     0.36411,     0.36227,     0.36042,     0.35621,     0.35126,     0.34503,     0.33695,     0.33577,     0.33459,     0.33341,     0.33223,     0.33143,     0.33143,     0.33025,\n",
       "            0.32727,     0.32413,     0.32082,     0.31893,     0.31751,     0.31609,     0.31467,     0.31301,     0.31125,     0.30949,     0.30827,     0.30368,     0.30286,     0.30286,     0.30101,     0.29714,     0.29714,     0.29714,     0.29714,     0.29714,     0.29714,     0.29714,     0.29714,\n",
       "            0.29714,     0.29714,     0.29714,     0.29714,     0.29714,     0.29714,     0.29714,     0.29609,      0.2942,      0.2923,     0.29143,     0.29143,     0.29106,     0.29042,     0.28978,     0.28914,      0.2885,     0.28786,     0.28722,     0.28658,     0.28594,     0.28447,     0.28255,\n",
       "            0.28063,     0.27943,     0.27858,     0.27773,     0.27688,     0.27603,     0.27518,     0.27433,     0.27089,     0.26819,      0.2671,     0.26601,     0.26492,     0.26383,     0.26271,     0.26123,     0.25975,     0.25827,     0.25714,     0.25714,     0.25714,     0.25714,     0.25647,\n",
       "            0.25508,      0.2537,     0.25231,     0.25143,     0.25143,     0.25143,     0.25143,     0.25143,     0.25143,     0.25143,     0.25143,     0.25116,     0.25039,     0.24963,     0.24886,     0.24809,     0.24733,     0.24656,      0.2458,     0.24491,       0.244,      0.2431,      0.2422,\n",
       "            0.24129,     0.24039,        0.24,        0.24,        0.24,      0.2393,     0.23678,     0.23419,     0.22509,     0.21876,     0.21249,     0.21092,      0.2103,     0.20968,     0.20906,     0.20844,     0.20782,     0.20719,     0.20657,     0.20595,     0.20571,     0.20571,     0.20571,\n",
       "            0.19333,     0.18934,     0.18342,     0.18286,     0.18286,     0.18286,     0.18286,     0.18286,     0.18286,     0.18276,     0.18189,     0.18102,     0.18015,     0.17929,     0.17842,     0.17755,     0.17714,     0.17714,     0.17714,     0.17714,     0.17714,     0.17714,     0.17384,\n",
       "            0.17042,     0.16756,      0.1651,     0.16335,      0.1616,     0.15986,     0.15818,      0.1565,     0.15482,     0.15429,     0.15429,     0.15429,     0.15416,     0.15219,     0.15022,     0.14857,     0.14857,     0.14857,     0.14447,      0.1419,     0.14063,     0.13937,      0.1381,\n",
       "            0.13714,     0.13714,     0.13714,     0.13714,     0.13714,     0.13714,     0.13714,     0.13714,     0.13714,     0.13714,     0.13683,     0.13513,     0.13342,     0.13172,     0.12547,     0.12424,     0.12301,     0.12178,     0.12055,     0.11956,     0.11876,     0.11796,     0.11716,\n",
       "            0.11635,     0.11555,     0.11475,     0.11394,     0.11312,      0.1123,     0.11147,     0.11065,     0.10983,     0.10901,     0.10621,     0.10286,     0.10286,     0.10286,    0.099955,     0.09599,    0.093149,    0.090214,    0.087135,    0.085165,    0.084146,    0.083126,    0.082106,\n",
       "           0.081087,    0.080067,    0.076942,    0.073868,    0.071649,     0.06943,    0.068571,    0.068571,    0.068571,    0.068571,    0.068571,    0.068571,    0.068571,    0.068571,    0.068466,    0.067322,    0.066177,    0.065033,    0.063888,    0.062764,    0.061825,    0.060886,    0.059947,\n",
       "           0.059008,    0.058069,    0.057143,    0.057143,    0.057143,    0.057143,    0.057143,    0.057143,    0.057143,    0.056997,    0.055569,    0.054141,    0.052713,    0.051331,    0.050362,    0.049392,    0.048423,    0.047454,    0.046484,    0.045554,    0.044772,     0.04399,    0.043208,\n",
       "           0.042426,    0.041644,    0.040863,    0.040081,    0.036701,    0.034214,    0.034004,    0.033795,    0.033586,    0.033376,    0.033167,    0.032957,    0.032748,    0.032539,    0.032329,     0.03212,     0.03191,    0.031701,    0.031492,    0.031282,    0.031073,    0.030863,    0.030654,\n",
       "           0.030445,    0.030235,    0.030026,    0.029816,    0.029607,    0.029398,    0.029188,    0.028979,    0.028769,    0.028571,    0.028571,    0.028571,    0.028571,    0.028571,    0.028571,    0.028571,    0.028571,    0.028571,    0.028571,    0.028571,    0.028571,    0.028571,    0.028571,\n",
       "           0.028571,    0.028571,    0.028571,    0.028571,    0.028571,    0.028571,    0.028571,    0.028571,    0.028571,    0.028571,    0.028571,    0.028571,    0.028571,    0.028571,    0.028328,    0.027153,    0.025978,    0.024804,    0.023629,    0.022857,    0.022857,    0.022857,    0.022857,\n",
       "           0.022857,    0.022857,    0.022857,    0.022857,    0.022857,    0.022857,    0.022857,    0.022857,    0.022857,    0.022857,    0.022857,    0.022857,    0.022857,    0.022857,    0.022857,    0.022857,    0.022857,    0.022857,    0.022857,    0.022857,    0.022857,    0.022857,    0.022857,\n",
       "           0.022857,    0.022857,    0.022857,    0.022857,    0.022857,    0.022857,    0.022857,    0.022857,    0.022857,    0.022857,    0.022857,    0.022857,    0.022857,    0.022857,    0.022857,    0.022857,    0.022857,    0.022857,    0.022857,    0.022857,    0.022857,    0.022857,    0.022857,\n",
       "           0.022857,    0.022857,    0.022857,    0.022857,    0.022857,    0.022857,    0.022857,    0.022857,    0.022857,    0.022857,    0.022857,    0.022857,    0.022857,    0.022857,    0.022857,    0.022857,    0.022393,    0.021576,    0.020758,     0.01994,    0.019123,    0.018305,    0.017488,\n",
       "           0.017093,    0.017008,    0.016923,    0.016837,    0.016752,    0.016666,    0.016581,    0.016496,     0.01641,    0.016325,    0.016239,    0.016154,    0.016069,    0.015983,    0.015898,    0.015812,    0.015727,    0.015642,    0.015556,    0.015471,    0.015385,      0.0153,    0.015215,\n",
       "           0.015129,    0.015044,    0.014958,    0.014873,    0.014788,    0.014702,    0.014617,    0.014531,    0.014446,    0.014361,    0.014275,     0.01419,    0.014104,    0.014019,    0.013934,    0.013848,    0.013763,    0.013677,    0.013592,    0.013507,    0.013421,    0.013336,     0.01325,\n",
       "           0.013165,     0.01308,    0.012994,    0.012909,    0.012823,    0.012738,    0.012653,    0.012567,    0.012482,    0.012396,    0.012311,    0.012226,     0.01214,    0.012055,    0.011969,    0.011884,    0.011799,    0.011713,    0.011628,    0.011542,    0.011457,    0.010711,   0.0096369,\n",
       "          0.0085626,   0.0074882,   0.0064138,   0.0018201,           0,           0,           0,           0,           0,           0,           0,           0,           0,           0,           0,           0,           0,           0,           0,           0,           0,           0,           0,\n",
       "                  0,           0,           0,           0,           0,           0,           0,           0,           0,           0,           0,           0,           0,           0,           0,           0,           0,           0,           0,           0,           0,           0,           0,\n",
       "                  0,           0,           0,           0,           0,           0,           0,           0,           0,           0,           0,           0,           0,           0,           0,           0,           0,           0,           0,           0,           0,           0,           0,\n",
       "                  0,           0,           0,           0,           0,           0,           0,           0,           0,           0,           0,           0,           0,           0,           0,           0,           0,           0,           0,           0,           0,           0,           0,\n",
       "                  0,           0,           0,           0,           0,           0,           0,           0,           0,           0,           0,           0,           0,           0,           0,           0,           0,           0,           0,           0,           0,           0,           0,\n",
       "                  0,           0,           0,           0,           0,           0,           0,           0,           0,           0,           0]]), 'Confidence', 'Recall']]\n",
       "fitness: 0.22019209212212593\n",
       "keys: ['metrics/precision(B)', 'metrics/recall(B)', 'metrics/mAP50(B)', 'metrics/mAP50-95(B)']\n",
       "maps: array([    0.19039])\n",
       "names: {0: 'pod'}\n",
       "plot: True\n",
       "results_dict: {'metrics/precision(B)': 0.4412796850051653, 'metrics/recall(B)': 0.6971428571428572, 'metrics/mAP50(B)': 0.4884009245483047, 'metrics/mAP50-95(B)': 0.19039111074143938, 'fitness': 0.22019209212212593}\n",
       "save_dir: WindowsPath('C:/Users/Admin/Desktop/Model folder/yolo_models/yolov8_pod_model')\n",
       "speed: {'preprocess': 3.2754136670020317, 'inference': 136.32848185877646, 'loss': 0.0, 'postprocess': 8.566502601869644}\n",
       "task: 'detect'"
      ]
     },
     "execution_count": 7,
     "metadata": {},
     "output_type": "execute_result"
    }
   ],
   "source": [
    "# Load a pre-trained model and update it with your dataset\n",
    "model = YOLO('yolov8n.pt')  # Load YOLOv8n pre-trained model (adjust if needed)\n",
    "\n",
    "# Train the model\n",
    "model.train(data='C:/Users/Admin/Desktop/Model folder/yolo_pod/data.yaml', epochs=10, batch=32, project=model_save_path, name='yolov8_pod_model')"
   ]
  },
  {
   "cell_type": "code",
   "execution_count": 9,
   "metadata": {},
   "outputs": [
    {
     "name": "stdout",
     "output_type": "stream",
     "text": [
      "\n",
      "image 1/63 C:\\Users\\Admin\\Desktop\\Model folder\\yolo_pod\\images\\test\\IMG_20240804_120926.jpg: 640x480 4 pods, 242.2ms\n",
      "image 2/63 C:\\Users\\Admin\\Desktop\\Model folder\\yolo_pod\\images\\test\\IMG_20240804_123927.jpg: 640x640 2 pods, 359.9ms\n",
      "image 3/63 C:\\Users\\Admin\\Desktop\\Model folder\\yolo_pod\\images\\test\\IMG_20240804_124959.jpg: 640x480 4 pods, 187.6ms\n",
      "image 4/63 C:\\Users\\Admin\\Desktop\\Model folder\\yolo_pod\\images\\test\\IMG_20240804_125333.jpg: 640x480 3 pods, 142.4ms\n",
      "image 5/63 C:\\Users\\Admin\\Desktop\\Model folder\\yolo_pod\\images\\test\\IMG_20240804_130054.jpg: 480x640 1 pod, 199.8ms\n",
      "image 6/63 C:\\Users\\Admin\\Desktop\\Model folder\\yolo_pod\\images\\test\\IMG_20240804_130146.jpg: 640x480 2 pods, 143.9ms\n",
      "image 7/63 C:\\Users\\Admin\\Desktop\\Model folder\\yolo_pod\\images\\test\\IMG_20240804_170125.jpg: 640x480 4 pods, 169.6ms\n",
      "image 8/63 C:\\Users\\Admin\\Desktop\\Model folder\\yolo_pod\\images\\test\\IMG_20240804_170137.jpg: 640x480 2 pods, 204.0ms\n",
      "image 9/63 C:\\Users\\Admin\\Desktop\\Model folder\\yolo_pod\\images\\test\\IMG_20240804_170340.jpg: 640x480 2 pods, 142.0ms\n",
      "image 10/63 C:\\Users\\Admin\\Desktop\\Model folder\\yolo_pod\\images\\test\\IMG_20240804_171253.jpg: 640x480 3 pods, 504.0ms\n",
      "image 11/63 C:\\Users\\Admin\\Desktop\\Model folder\\yolo_pod\\images\\test\\IMG_20240804_171400.jpg: 480x640 5 pods, 522.5ms\n",
      "image 12/63 C:\\Users\\Admin\\Desktop\\Model folder\\yolo_pod\\images\\test\\IMG_20240804_171825.jpg: 640x480 3 pods, 218.3ms\n",
      "image 13/63 C:\\Users\\Admin\\Desktop\\Model folder\\yolo_pod\\images\\test\\IMG_20240804_171925.jpg: 640x480 3 pods, 188.1ms\n",
      "image 14/63 C:\\Users\\Admin\\Desktop\\Model folder\\yolo_pod\\images\\test\\IMG_20240804_172008.jpg: 640x480 6 pods, 147.3ms\n",
      "image 15/63 C:\\Users\\Admin\\Desktop\\Model folder\\yolo_pod\\images\\test\\IMG_20240804_172308.jpg: 640x480 4 pods, 159.9ms\n",
      "image 16/63 C:\\Users\\Admin\\Desktop\\Model folder\\yolo_pod\\images\\test\\IMG_20240804_172349.jpg: 640x480 1 pod, 162.7ms\n",
      "image 17/63 C:\\Users\\Admin\\Desktop\\Model folder\\yolo_pod\\images\\test\\IMG_20240804_172752.jpg: 640x480 2 pods, 140.1ms\n",
      "image 18/63 C:\\Users\\Admin\\Desktop\\Model folder\\yolo_pod\\images\\test\\IMG_20240804_172912.jpg: 640x480 1 pod, 141.0ms\n",
      "image 19/63 C:\\Users\\Admin\\Desktop\\Model folder\\yolo_pod\\images\\test\\IMG_20240804_173238.jpg: 640x480 2 pods, 145.1ms\n",
      "image 20/63 C:\\Users\\Admin\\Desktop\\Model folder\\yolo_pod\\images\\test\\IMG_20240804_173302.jpg: 640x480 4 pods, 149.8ms\n",
      "image 21/63 C:\\Users\\Admin\\Desktop\\Model folder\\yolo_pod\\images\\test\\IMG_20240804_173513.jpg: 640x480 4 pods, 152.3ms\n",
      "image 22/63 C:\\Users\\Admin\\Desktop\\Model folder\\yolo_pod\\images\\test\\IMG_20240804_173550.jpg: 640x480 4 pods, 170.7ms\n",
      "image 23/63 C:\\Users\\Admin\\Desktop\\Model folder\\yolo_pod\\images\\test\\IMG_20240804_173950.jpg: 640x480 6 pods, 226.4ms\n",
      "image 24/63 C:\\Users\\Admin\\Desktop\\Model folder\\yolo_pod\\images\\test\\IMG_20240804_174425.jpg: 640x480 3 pods, 195.4ms\n",
      "image 25/63 C:\\Users\\Admin\\Desktop\\Model folder\\yolo_pod\\images\\test\\IMG_20240804_174448.jpg: 640x480 6 pods, 360.3ms\n",
      "image 26/63 C:\\Users\\Admin\\Desktop\\Model folder\\yolo_pod\\images\\test\\IMG_20240804_174500.jpg: 640x480 3 pods, 274.3ms\n",
      "image 27/63 C:\\Users\\Admin\\Desktop\\Model folder\\yolo_pod\\images\\test\\IMG_20240804_174550.jpg: 640x480 2 pods, 524.7ms\n",
      "image 28/63 C:\\Users\\Admin\\Desktop\\Model folder\\yolo_pod\\images\\test\\IMG_20240804_174626.jpg: 640x480 3 pods, 790.7ms\n",
      "image 29/63 C:\\Users\\Admin\\Desktop\\Model folder\\yolo_pod\\images\\test\\IMG_20240804_175343.jpg: 640x480 4 pods, 142.3ms\n",
      "image 30/63 C:\\Users\\Admin\\Desktop\\Model folder\\yolo_pod\\images\\test\\IMG_20240804_175537.jpg: 640x480 4 pods, 189.2ms\n",
      "image 31/63 C:\\Users\\Admin\\Desktop\\Model folder\\yolo_pod\\images\\test\\IMG_20240804_175647.jpg: 640x480 7 pods, 143.6ms\n",
      "image 32/63 C:\\Users\\Admin\\Desktop\\Model folder\\yolo_pod\\images\\test\\IMG_20240804_175656.jpg: 640x480 5 pods, 157.3ms\n",
      "image 33/63 C:\\Users\\Admin\\Desktop\\Model folder\\yolo_pod\\images\\test\\IMG_20240804_180553.jpg: 640x480 2 pods, 140.7ms\n",
      "image 34/63 C:\\Users\\Admin\\Desktop\\Model folder\\yolo_pod\\images\\test\\IMG_20240804_180801.jpg: 640x480 5 pods, 154.8ms\n",
      "image 35/63 C:\\Users\\Admin\\Desktop\\Model folder\\yolo_pod\\images\\test\\IMG_20240804_181146.jpg: 640x480 3 pods, 203.6ms\n",
      "image 36/63 C:\\Users\\Admin\\Desktop\\Model folder\\yolo_pod\\images\\test\\IMG_20240804_181148.jpg: 640x480 3 pods, 172.9ms\n",
      "image 37/63 C:\\Users\\Admin\\Desktop\\Model folder\\yolo_pod\\images\\test\\IMG_20240804_181310.jpg: 640x480 (no detections), 173.0ms\n",
      "image 38/63 C:\\Users\\Admin\\Desktop\\Model folder\\yolo_pod\\images\\test\\IMG_20240804_181405.jpg: 640x480 2 pods, 191.9ms\n",
      "image 39/63 C:\\Users\\Admin\\Desktop\\Model folder\\yolo_pod\\images\\test\\IMG_20240804_181450.jpg: 640x480 1 pod, 220.1ms\n",
      "image 40/63 C:\\Users\\Admin\\Desktop\\Model folder\\yolo_pod\\images\\test\\IMG_20240804_181739.jpg: 640x480 1 pod, 159.1ms\n",
      "image 41/63 C:\\Users\\Admin\\Desktop\\Model folder\\yolo_pod\\images\\test\\IMG_20240804_181949.jpg: 640x480 3 pods, 609.7ms\n",
      "image 42/63 C:\\Users\\Admin\\Desktop\\Model folder\\yolo_pod\\images\\test\\IMG_20240804_182202.jpg: 640x480 3 pods, 623.1ms\n",
      "image 43/63 C:\\Users\\Admin\\Desktop\\Model folder\\yolo_pod\\images\\test\\IMG_20240804_182454.jpg: 640x480 2 pods, 804.2ms\n",
      "image 44/63 C:\\Users\\Admin\\Desktop\\Model folder\\yolo_pod\\images\\test\\IMG_20240804_182636.jpg: 640x480 1 pod, 846.5ms\n",
      "image 45/63 C:\\Users\\Admin\\Desktop\\Model folder\\yolo_pod\\images\\test\\IMG_20240804_182748.jpg: 640x480 1 pod, 159.9ms\n",
      "image 46/63 C:\\Users\\Admin\\Desktop\\Model folder\\yolo_pod\\images\\test\\IMG_20240804_183258.jpg: 640x480 5 pods, 156.4ms\n",
      "image 47/63 C:\\Users\\Admin\\Desktop\\Model folder\\yolo_pod\\images\\test\\IMG_20240804_183417.jpg: 640x480 4 pods, 178.7ms\n",
      "image 48/63 C:\\Users\\Admin\\Desktop\\Model folder\\yolo_pod\\images\\test\\IMG_20240804_184033.jpg: 640x480 (no detections), 141.6ms\n",
      "image 49/63 C:\\Users\\Admin\\Desktop\\Model folder\\yolo_pod\\images\\test\\IMG_20240804_184109.jpg: 640x480 1 pod, 173.4ms\n",
      "image 50/63 C:\\Users\\Admin\\Desktop\\Model folder\\yolo_pod\\images\\test\\IMG_20240806_100520.jpg: 448x640 2 pods, 316.0ms\n",
      "image 51/63 C:\\Users\\Admin\\Desktop\\Model folder\\yolo_pod\\images\\test\\IMG_20240806_100550.jpg: 416x640 1 pod, 206.8ms\n",
      "image 52/63 C:\\Users\\Admin\\Desktop\\Model folder\\yolo_pod\\images\\test\\IMG_20240905_222346.jpg: 512x640 6 pods, 277.2ms\n",
      "image 53/63 C:\\Users\\Admin\\Desktop\\Model folder\\yolo_pod\\images\\test\\IMG_20240912_023428.jpg: 640x512 1 pod, 204.8ms\n",
      "image 54/63 C:\\Users\\Admin\\Desktop\\Model folder\\yolo_pod\\images\\test\\IMG_20240912_024055.jpg: 544x640 2 pods, 267.4ms\n",
      "image 55/63 C:\\Users\\Admin\\Desktop\\Model folder\\yolo_pod\\images\\test\\IMG_20240912_024203.jpg: 640x576 3 pods, 331.8ms\n",
      "image 56/63 C:\\Users\\Admin\\Desktop\\Model folder\\yolo_pod\\images\\test\\IMG_20240912_024408.jpg: 640x640 1 pod, 301.6ms\n",
      "image 57/63 C:\\Users\\Admin\\Desktop\\Model folder\\yolo_pod\\images\\test\\IMG_20240912_024428.jpg: 640x544 2 pods, 266.1ms\n",
      "image 58/63 C:\\Users\\Admin\\Desktop\\Model folder\\yolo_pod\\images\\test\\IMG_20240912_025102.jpg: 640x640 7 pods, 172.8ms\n",
      "image 59/63 C:\\Users\\Admin\\Desktop\\Model folder\\yolo_pod\\images\\test\\IMG_20240912_025830.jpg: 480x640 1 pod, 196.9ms\n",
      "image 60/63 C:\\Users\\Admin\\Desktop\\Model folder\\yolo_pod\\images\\test\\IMG_20240912_030028.jpg: 512x640 2 pods, 157.1ms\n",
      "image 61/63 C:\\Users\\Admin\\Desktop\\Model folder\\yolo_pod\\images\\test\\IMG_20240912_030641.jpg: 416x640 2 pods, 141.6ms\n",
      "image 62/63 C:\\Users\\Admin\\Desktop\\Model folder\\yolo_pod\\images\\test\\IMG_20240912_031213.jpg: 608x640 2 pods, 315.4ms\n",
      "image 63/63 C:\\Users\\Admin\\Desktop\\Model folder\\yolo_pod\\images\\test\\IMG_20240912_085901.jpg: 448x640 3 pods, 142.0ms\n",
      "Speed: 17.7ms preprocess, 254.0ms inference, 3.4ms postprocess per image at shape (1, 3, 448, 640)\n",
      "Results saved to \u001b[1mruns\\detect\\predict6\u001b[0m\n"
     ]
    }
   ],
   "source": [
    "\n",
    "model = YOLO(\"C:/Users/Admin/Desktop/Model folder/yolo_models/yolov8_pod_model/weights/best.pt\")\n",
    "\n",
    "# Perform inference on an image\n",
    "results = model.predict(source = \"C:/Users/Admin/Desktop/Model folder/yolo_pod/images/test\", save=True)\n"
   ]
  },
  {
   "cell_type": "code",
   "execution_count": null,
   "metadata": {},
   "outputs": [],
   "source": []
  }
 ],
 "metadata": {
  "kernelspec": {
   "display_name": "Python 3 (ipykernel)",
   "language": "python",
   "name": "python3"
  },
  "language_info": {
   "codemirror_mode": {
    "name": "ipython",
    "version": 3
   },
   "file_extension": ".py",
   "mimetype": "text/x-python",
   "name": "python",
   "nbconvert_exporter": "python",
   "pygments_lexer": "ipython3",
   "version": "3.12.4"
  }
 },
 "nbformat": 4,
 "nbformat_minor": 4
}
